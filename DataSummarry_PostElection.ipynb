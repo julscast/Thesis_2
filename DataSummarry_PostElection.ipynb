{
 "cells": [
  {
   "cell_type": "code",
   "execution_count": 1,
   "metadata": {},
   "outputs": [],
   "source": [
    "import pandas as pd\n",
    "import numpy as np\n",
    "import matplotlib as plt\n",
    "import regex as re\n",
    "import emoji\n",
    "import nltk\n",
    "from nltk.tokenize import word_tokenize\n",
    "from nltk.stem import WordNetLemmatizer\n",
    "from nltk.corpus import stopwords\n",
    "import seaborn as sns"
   ]
  },
  {
   "cell_type": "code",
   "execution_count": 2,
   "metadata": {},
   "outputs": [],
   "source": [
    "dataset = pd.read_csv('postelectionfinal.csv')"
   ]
  },
  {
   "cell_type": "code",
   "execution_count": 3,
   "metadata": {},
   "outputs": [
    {
     "data": {
      "text/html": [
       "<div>\n",
       "<style scoped>\n",
       "    .dataframe tbody tr th:only-of-type {\n",
       "        vertical-align: middle;\n",
       "    }\n",
       "\n",
       "    .dataframe tbody tr th {\n",
       "        vertical-align: top;\n",
       "    }\n",
       "\n",
       "    .dataframe thead th {\n",
       "        text-align: right;\n",
       "    }\n",
       "</style>\n",
       "<table border=\"1\" class=\"dataframe\">\n",
       "  <thead>\n",
       "    <tr style=\"text-align: right;\">\n",
       "      <th></th>\n",
       "      <th>method</th>\n",
       "      <th>tweet</th>\n",
       "      <th>username</th>\n",
       "      <th>date</th>\n",
       "      <th>hashtag used for search</th>\n",
       "    </tr>\n",
       "  </thead>\n",
       "  <tbody>\n",
       "    <tr>\n",
       "      <th>count</th>\n",
       "      <td>6641</td>\n",
       "      <td>6641</td>\n",
       "      <td>6641</td>\n",
       "      <td>6641</td>\n",
       "      <td>6641</td>\n",
       "    </tr>\n",
       "    <tr>\n",
       "      <th>unique</th>\n",
       "      <td>2</td>\n",
       "      <td>5865</td>\n",
       "      <td>2484</td>\n",
       "      <td>21</td>\n",
       "      <td>4</td>\n",
       "    </tr>\n",
       "    <tr>\n",
       "      <th>top</th>\n",
       "      <td>manual twitter</td>\n",
       "      <td>#Halalan2022</td>\n",
       "      <td>news5ph</td>\n",
       "      <td>5/11/2022</td>\n",
       "      <td>#halalan2022</td>\n",
       "    </tr>\n",
       "    <tr>\n",
       "      <th>freq</th>\n",
       "      <td>6166</td>\n",
       "      <td>19</td>\n",
       "      <td>371</td>\n",
       "      <td>2222</td>\n",
       "      <td>3007</td>\n",
       "    </tr>\n",
       "  </tbody>\n",
       "</table>\n",
       "</div>"
      ],
      "text/plain": [
       "                method         tweet username       date  \\\n",
       "count             6641          6641     6641       6641   \n",
       "unique               2          5865     2484         21   \n",
       "top     manual twitter  #Halalan2022  news5ph  5/11/2022   \n",
       "freq              6166            19      371       2222   \n",
       "\n",
       "       hashtag used for search  \n",
       "count                     6641  \n",
       "unique                       4  \n",
       "top               #halalan2022  \n",
       "freq                      3007  "
      ]
     },
     "execution_count": 3,
     "metadata": {},
     "output_type": "execute_result"
    }
   ],
   "source": [
    "dataset.describe()\n",
    "# method: manual twitter, username: news5ph, data: 5/11/2022, hashtag for search: #halalan2022"
   ]
  },
  {
   "cell_type": "markdown",
   "metadata": {},
   "source": [
    "## Date Frequency"
   ]
  },
  {
   "cell_type": "code",
   "execution_count": 4,
   "metadata": {},
   "outputs": [
    {
     "data": {
      "text/plain": [
       "date\n",
       "5/11/2022    2222\n",
       "5/12/2022     579\n",
       "5/25/2022     515\n",
       "5/13/2022     483\n",
       "5/18/2022     464\n",
       "5/17/2022     341\n",
       "5/14/2022     283\n",
       "5/16/2022     273\n",
       "5/24/2022     266\n",
       "5/15/2022     214\n",
       "5/19/2022     209\n",
       "5/26/2022     176\n",
       "5/23/2022     161\n",
       "5/20/2022     125\n",
       "5/30/2022      68\n",
       "5/21/2022      66\n",
       "5/22/2022      61\n",
       "5/27/2022      48\n",
       "5/31/2022      31\n",
       "5/29/2022      30\n",
       "5/28/2022      26\n",
       "Name: count, dtype: int64"
      ]
     },
     "execution_count": 4,
     "metadata": {},
     "output_type": "execute_result"
    }
   ],
   "source": [
    "dataset[\"date\"].value_counts(ascending=False)\n",
    "\n",
    "# number of tweets based on date"
   ]
  },
  {
   "cell_type": "markdown",
   "metadata": {},
   "source": [
    "## User Frequency"
   ]
  },
  {
   "cell_type": "code",
   "execution_count": 5,
   "metadata": {},
   "outputs": [
    {
     "data": {
      "text/plain": [
       "username\n",
       "news5ph            371\n",
       "onenewsph          296\n",
       "gmanews            229\n",
       "tinapperez         201\n",
       "dzbb               159\n",
       "                  ... \n",
       "oxytocin_less        1\n",
       "nylan68801086        1\n",
       "youdidthistome2      1\n",
       "jinchwita_           1\n",
       "hdoosik              1\n",
       "Name: count, Length: 2484, dtype: int64"
      ]
     },
     "execution_count": 5,
     "metadata": {},
     "output_type": "execute_result"
    }
   ],
   "source": [
    "dataset['username'].value_counts(ascending=False)\n",
    "\n",
    "# number of tweets based on user"
   ]
  },
  {
   "cell_type": "markdown",
   "metadata": {},
   "source": [
    "### Users Based on Hashtag Used for Search"
   ]
  },
  {
   "cell_type": "markdown",
   "metadata": {},
   "source": [
    "### Halalan2022"
   ]
  },
  {
   "cell_type": "code",
   "execution_count": 6,
   "metadata": {},
   "outputs": [],
   "source": [
    "dataset_halalan2022 = dataset.loc[dataset['hashtag used for search'] == '#halalan2022']"
   ]
  },
  {
   "cell_type": "code",
   "execution_count": 7,
   "metadata": {},
   "outputs": [
    {
     "data": {
      "text/plain": [
       "username\n",
       "abscbnnews        137\n",
       "anjo_bagaoisan     72\n",
       "dzmmteleradyo      68\n",
       "ABSCBNNews         57\n",
       "ancalerts          42\n",
       "                 ... \n",
       "biot_tehkuy         1\n",
       "pisaylikha          1\n",
       "briggscecile        1\n",
       "dack261             1\n",
       "dgrazyzone22        1\n",
       "Name: count, Length: 1360, dtype: int64"
      ]
     },
     "execution_count": 7,
     "metadata": {},
     "output_type": "execute_result"
    }
   ],
   "source": [
    "dataset_halalan2022['username'].value_counts(ascending=False)"
   ]
  },
  {
   "cell_type": "markdown",
   "metadata": {},
   "source": [
    "### Eleksyon2022"
   ]
  },
  {
   "cell_type": "code",
   "execution_count": 8,
   "metadata": {},
   "outputs": [],
   "source": [
    "dataset_eleksyon2022 = dataset.loc[dataset['hashtag used for search'] == '#eleksyon2022']"
   ]
  },
  {
   "cell_type": "code",
   "execution_count": 9,
   "metadata": {},
   "outputs": [
    {
     "data": {
      "text/plain": [
       "username\n",
       "gmanews           229\n",
       "tinapperez        201\n",
       "dzbb              159\n",
       "earthwizard1       58\n",
       "pinoysiwowie       53\n",
       "                 ... \n",
       "krxpablo            1\n",
       "ceciledoc           1\n",
       "dapatsileniii       1\n",
       "espiritu_truth      1\n",
       "jaemark             1\n",
       "Name: count, Length: 874, dtype: int64"
      ]
     },
     "execution_count": 9,
     "metadata": {},
     "output_type": "execute_result"
    }
   ],
   "source": [
    "dataset_eleksyon2022['username'].value_counts(ascending=False)"
   ]
  },
  {
   "cell_type": "markdown",
   "metadata": {},
   "source": [
    "### BilangPilipino2022"
   ]
  },
  {
   "cell_type": "code",
   "execution_count": 10,
   "metadata": {},
   "outputs": [],
   "source": [
    "dataset_bilangpilipino2022 = dataset.loc[dataset['hashtag used for search'] == '#BilangPilipino2022']"
   ]
  },
  {
   "cell_type": "code",
   "execution_count": 11,
   "metadata": {},
   "outputs": [
    {
     "data": {
      "text/plain": [
       "username\n",
       "news5ph           371\n",
       "onenewsph         296\n",
       "philippinestar     87\n",
       "pilstarngayon      69\n",
       "edupunay           59\n",
       "                 ... \n",
       "mariamayee          1\n",
       "nomerson            1\n",
       "pbmirasol           1\n",
       "liqiphil            1\n",
       "thinkasean_         1\n",
       "Name: count, Length: 86, dtype: int64"
      ]
     },
     "execution_count": 11,
     "metadata": {},
     "output_type": "execute_result"
    }
   ],
   "source": [
    "dataset_bilangpilipino2022['username'].value_counts(ascending=False)"
   ]
  },
  {
   "cell_type": "markdown",
   "metadata": {},
   "source": [
    "### Election2022PH"
   ]
  },
  {
   "cell_type": "code",
   "execution_count": 12,
   "metadata": {},
   "outputs": [],
   "source": [
    "dataset_election2022ph = dataset.loc[dataset['hashtag used for search'] == '#Election2022PH']"
   ]
  },
  {
   "cell_type": "code",
   "execution_count": 13,
   "metadata": {},
   "outputs": [
    {
     "data": {
      "text/plain": [
       "username\n",
       "catweather      6\n",
       "forpinoy2022    5\n",
       "licasnews       4\n",
       "ms_poisonivy    4\n",
       "dragoddess      4\n",
       "               ..\n",
       "bjjxatin        1\n",
       "azashen1        1\n",
       "immarkdlr       1\n",
       "itskreeshxx     1\n",
       "hdoosik         1\n",
       "Name: count, Length: 395, dtype: int64"
      ]
     },
     "execution_count": 13,
     "metadata": {},
     "output_type": "execute_result"
    }
   ],
   "source": [
    "dataset_election2022ph['username'].value_counts(ascending=False)"
   ]
  },
  {
   "cell_type": "markdown",
   "metadata": {},
   "source": [
    "## Hashtag Frequency"
   ]
  },
  {
   "cell_type": "code",
   "execution_count": 14,
   "metadata": {},
   "outputs": [
    {
     "data": {
      "text/plain": [
       "hashtag used for search\n",
       "#halalan2022           3007\n",
       "#eleksyon2022          2061\n",
       "#BilangPilipino2022    1110\n",
       "#Election2022PH         463\n",
       "Name: count, dtype: int64"
      ]
     },
     "execution_count": 14,
     "metadata": {},
     "output_type": "execute_result"
    }
   ],
   "source": [
    "dataset['hashtag used for search'].value_counts(ascending=False)"
   ]
  },
  {
   "cell_type": "markdown",
   "metadata": {},
   "source": [
    "## Emoji Frequency"
   ]
  },
  {
   "cell_type": "code",
   "execution_count": 15,
   "metadata": {},
   "outputs": [],
   "source": [
    "import spacy\n",
    "from spacymoji import Emoji"
   ]
  },
  {
   "cell_type": "code",
   "execution_count": 16,
   "metadata": {},
   "outputs": [
    {
     "data": {
      "text/plain": [
       "<spacymoji.Emoji at 0x22f13134310>"
      ]
     },
     "execution_count": 16,
     "metadata": {},
     "output_type": "execute_result"
    }
   ],
   "source": [
    "nlp = spacy.load(\"en_core_web_sm\")\n",
    "emoji = Emoji(nlp)\n",
    "nlp.add_pipe(\"emoji\", first=True)"
   ]
  },
  {
   "cell_type": "code",
   "execution_count": 17,
   "metadata": {},
   "outputs": [
    {
     "data": {
      "text/plain": [
       "['emoji',\n",
       " 'tok2vec',\n",
       " 'tagger',\n",
       " 'parser',\n",
       " 'attribute_ruler',\n",
       " 'lemmatizer',\n",
       " 'ner']"
      ]
     },
     "execution_count": 17,
     "metadata": {},
     "output_type": "execute_result"
    }
   ],
   "source": [
    "nlp.pipe_names"
   ]
  },
  {
   "cell_type": "markdown",
   "metadata": {},
   "source": [
    "source: https://pauldesalvo.com/extract-emojis-from-python-strings-and-chart-frequency-using-spacy-pandas-and-plotly/"
   ]
  },
  {
   "cell_type": "code",
   "execution_count": 18,
   "metadata": {},
   "outputs": [
    {
     "data": {
      "text/html": [
       "<div>\n",
       "<style scoped>\n",
       "    .dataframe tbody tr th:only-of-type {\n",
       "        vertical-align: middle;\n",
       "    }\n",
       "\n",
       "    .dataframe tbody tr th {\n",
       "        vertical-align: top;\n",
       "    }\n",
       "\n",
       "    .dataframe thead th {\n",
       "        text-align: right;\n",
       "    }\n",
       "</style>\n",
       "<table border=\"1\" class=\"dataframe\">\n",
       "  <thead>\n",
       "    <tr style=\"text-align: right;\">\n",
       "      <th></th>\n",
       "      <th>method</th>\n",
       "      <th>tweet</th>\n",
       "      <th>username</th>\n",
       "      <th>date</th>\n",
       "      <th>hashtag used for search</th>\n",
       "    </tr>\n",
       "  </thead>\n",
       "  <tbody>\n",
       "    <tr>\n",
       "      <th>0</th>\n",
       "      <td>manual tweetdeck</td>\n",
       "      <td>Online info on government websites going down?...</td>\n",
       "      <td>Jauain</td>\n",
       "      <td>5/16/2022</td>\n",
       "      <td>#halalan2022</td>\n",
       "    </tr>\n",
       "    <tr>\n",
       "      <th>1</th>\n",
       "      <td>manual tweetdeck</td>\n",
       "      <td>NEWS REPORT: Tonight, at exactly 11:19 PM, Vic...</td>\n",
       "      <td>PhilippinePDNS</td>\n",
       "      <td>5/16/2022</td>\n",
       "      <td>#halalan2022</td>\n",
       "    </tr>\n",
       "    <tr>\n",
       "      <th>2</th>\n",
       "      <td>manual tweetdeck</td>\n",
       "      <td>JUST IN: Former COMELEC Chairman Andy Bautista...</td>\n",
       "      <td>PhilippinePDNS</td>\n",
       "      <td>5/16/2022</td>\n",
       "      <td>#halalan2022</td>\n",
       "    </tr>\n",
       "    <tr>\n",
       "      <th>3</th>\n",
       "      <td>manual tweetdeck</td>\n",
       "      <td>Lahat ng COC sa #Halalan2022 maliban sa isa, n...</td>\n",
       "      <td>updatesmanila</td>\n",
       "      <td>5/16/2022</td>\n",
       "      <td>#halalan2022</td>\n",
       "    </tr>\n",
       "    <tr>\n",
       "      <th>4</th>\n",
       "      <td>manual tweetdeck</td>\n",
       "      <td>BREAKING NEWS: COMELEC will proclaim the winni...</td>\n",
       "      <td>GreenGiantFM</td>\n",
       "      <td>5/16/2022</td>\n",
       "      <td>#halalan2022</td>\n",
       "    </tr>\n",
       "  </tbody>\n",
       "</table>\n",
       "</div>"
      ],
      "text/plain": [
       "             method                                              tweet  \\\n",
       "0  manual tweetdeck  Online info on government websites going down?...   \n",
       "1  manual tweetdeck  NEWS REPORT: Tonight, at exactly 11:19 PM, Vic...   \n",
       "2  manual tweetdeck  JUST IN: Former COMELEC Chairman Andy Bautista...   \n",
       "3  manual tweetdeck  Lahat ng COC sa #Halalan2022 maliban sa isa, n...   \n",
       "4  manual tweetdeck  BREAKING NEWS: COMELEC will proclaim the winni...   \n",
       "\n",
       "         username       date hashtag used for search  \n",
       "0          Jauain  5/16/2022            #halalan2022  \n",
       "1  PhilippinePDNS  5/16/2022            #halalan2022  \n",
       "2  PhilippinePDNS  5/16/2022            #halalan2022  \n",
       "3   updatesmanila  5/16/2022            #halalan2022  \n",
       "4    GreenGiantFM  5/16/2022            #halalan2022  "
      ]
     },
     "execution_count": 18,
     "metadata": {},
     "output_type": "execute_result"
    }
   ],
   "source": [
    "dataset.head()"
   ]
  },
  {
   "cell_type": "code",
   "execution_count": 19,
   "metadata": {},
   "outputs": [
    {
     "data": {
      "text/html": [
       "<div>\n",
       "<style scoped>\n",
       "    .dataframe tbody tr th:only-of-type {\n",
       "        vertical-align: middle;\n",
       "    }\n",
       "\n",
       "    .dataframe tbody tr th {\n",
       "        vertical-align: top;\n",
       "    }\n",
       "\n",
       "    .dataframe thead th {\n",
       "        text-align: right;\n",
       "    }\n",
       "</style>\n",
       "<table border=\"1\" class=\"dataframe\">\n",
       "  <thead>\n",
       "    <tr style=\"text-align: right;\">\n",
       "      <th></th>\n",
       "      <th>method</th>\n",
       "      <th>tweet</th>\n",
       "      <th>username</th>\n",
       "      <th>date</th>\n",
       "      <th>hashtag used for search</th>\n",
       "    </tr>\n",
       "  </thead>\n",
       "  <tbody>\n",
       "    <tr>\n",
       "      <th>0</th>\n",
       "      <td>manual tweetdeck</td>\n",
       "      <td>Online info on government websites going down?...</td>\n",
       "      <td>Jauain</td>\n",
       "      <td>5/16/2022</td>\n",
       "      <td>#halalan2022</td>\n",
       "    </tr>\n",
       "    <tr>\n",
       "      <th>1</th>\n",
       "      <td>manual tweetdeck</td>\n",
       "      <td>NEWS REPORT: Tonight, at exactly 11:19 PM, Vic...</td>\n",
       "      <td>PhilippinePDNS</td>\n",
       "      <td>5/16/2022</td>\n",
       "      <td>#halalan2022</td>\n",
       "    </tr>\n",
       "    <tr>\n",
       "      <th>2</th>\n",
       "      <td>manual tweetdeck</td>\n",
       "      <td>JUST IN: Former COMELEC Chairman Andy Bautista...</td>\n",
       "      <td>PhilippinePDNS</td>\n",
       "      <td>5/16/2022</td>\n",
       "      <td>#halalan2022</td>\n",
       "    </tr>\n",
       "    <tr>\n",
       "      <th>3</th>\n",
       "      <td>manual tweetdeck</td>\n",
       "      <td>Lahat ng COC sa #Halalan2022 maliban sa isa, n...</td>\n",
       "      <td>updatesmanila</td>\n",
       "      <td>5/16/2022</td>\n",
       "      <td>#halalan2022</td>\n",
       "    </tr>\n",
       "    <tr>\n",
       "      <th>4</th>\n",
       "      <td>manual tweetdeck</td>\n",
       "      <td>BREAKING NEWS: COMELEC will proclaim the winni...</td>\n",
       "      <td>GreenGiantFM</td>\n",
       "      <td>5/16/2022</td>\n",
       "      <td>#halalan2022</td>\n",
       "    </tr>\n",
       "    <tr>\n",
       "      <th>...</th>\n",
       "      <td>...</td>\n",
       "      <td>...</td>\n",
       "      <td>...</td>\n",
       "      <td>...</td>\n",
       "      <td>...</td>\n",
       "    </tr>\n",
       "    <tr>\n",
       "      <th>6636</th>\n",
       "      <td>manual twitter</td>\n",
       "      <td>Dictator Ferdinand Marcos from the Philippines...</td>\n",
       "      <td>tayomuna</td>\n",
       "      <td>5/28/2022</td>\n",
       "      <td>#Election2022PH</td>\n",
       "    </tr>\n",
       "    <tr>\n",
       "      <th>6637</th>\n",
       "      <td>manual twitter</td>\n",
       "      <td>This election rewrites history. People voted f...</td>\n",
       "      <td>kollenedoncillo</td>\n",
       "      <td>5/28/2022</td>\n",
       "      <td>#Election2022PH</td>\n",
       "    </tr>\n",
       "    <tr>\n",
       "      <th>6638</th>\n",
       "      <td>manual twitter</td>\n",
       "      <td>Hey, it’s a free country. No one has monopoly ...</td>\n",
       "      <td>joel_gregorio</td>\n",
       "      <td>5/28/2022</td>\n",
       "      <td>#Election2022PH</td>\n",
       "    </tr>\n",
       "    <tr>\n",
       "      <th>6639</th>\n",
       "      <td>manual twitter</td>\n",
       "      <td>HALA-lan. \\n\\n#Election2022PH</td>\n",
       "      <td>keithjumaani</td>\n",
       "      <td>5/29/2022</td>\n",
       "      <td>#Election2022PH</td>\n",
       "    </tr>\n",
       "    <tr>\n",
       "      <th>6640</th>\n",
       "      <td>manual twitter</td>\n",
       "      <td>Cheating- malalim na sugat kahit mahilom mahir...</td>\n",
       "      <td>hdoosik</td>\n",
       "      <td>5/31/2022</td>\n",
       "      <td>#Election2022PH</td>\n",
       "    </tr>\n",
       "  </tbody>\n",
       "</table>\n",
       "<p>6641 rows × 5 columns</p>\n",
       "</div>"
      ],
      "text/plain": [
       "                method                                              tweet  \\\n",
       "0     manual tweetdeck  Online info on government websites going down?...   \n",
       "1     manual tweetdeck  NEWS REPORT: Tonight, at exactly 11:19 PM, Vic...   \n",
       "2     manual tweetdeck  JUST IN: Former COMELEC Chairman Andy Bautista...   \n",
       "3     manual tweetdeck  Lahat ng COC sa #Halalan2022 maliban sa isa, n...   \n",
       "4     manual tweetdeck  BREAKING NEWS: COMELEC will proclaim the winni...   \n",
       "...                ...                                                ...   \n",
       "6636    manual twitter  Dictator Ferdinand Marcos from the Philippines...   \n",
       "6637    manual twitter  This election rewrites history. People voted f...   \n",
       "6638    manual twitter  Hey, it’s a free country. No one has monopoly ...   \n",
       "6639    manual twitter                      HALA-lan. \\n\\n#Election2022PH   \n",
       "6640    manual twitter  Cheating- malalim na sugat kahit mahilom mahir...   \n",
       "\n",
       "             username       date hashtag used for search  \n",
       "0              Jauain  5/16/2022            #halalan2022  \n",
       "1      PhilippinePDNS  5/16/2022            #halalan2022  \n",
       "2      PhilippinePDNS  5/16/2022            #halalan2022  \n",
       "3       updatesmanila  5/16/2022            #halalan2022  \n",
       "4        GreenGiantFM  5/16/2022            #halalan2022  \n",
       "...               ...        ...                     ...  \n",
       "6636         tayomuna  5/28/2022         #Election2022PH  \n",
       "6637  kollenedoncillo  5/28/2022         #Election2022PH  \n",
       "6638    joel_gregorio  5/28/2022         #Election2022PH  \n",
       "6639     keithjumaani  5/29/2022         #Election2022PH  \n",
       "6640          hdoosik  5/31/2022         #Election2022PH  \n",
       "\n",
       "[6641 rows x 5 columns]"
      ]
     },
     "execution_count": 19,
     "metadata": {},
     "output_type": "execute_result"
    }
   ],
   "source": [
    "dataset_emojis = pd.read_csv('postelectionfinal.csv')\n",
    "dataset_emojis"
   ]
  },
  {
   "cell_type": "code",
   "execution_count": 20,
   "metadata": {},
   "outputs": [
    {
     "data": {
      "text/html": [
       "<div>\n",
       "<style scoped>\n",
       "    .dataframe tbody tr th:only-of-type {\n",
       "        vertical-align: middle;\n",
       "    }\n",
       "\n",
       "    .dataframe tbody tr th {\n",
       "        vertical-align: top;\n",
       "    }\n",
       "\n",
       "    .dataframe thead th {\n",
       "        text-align: right;\n",
       "    }\n",
       "</style>\n",
       "<table border=\"1\" class=\"dataframe\">\n",
       "  <thead>\n",
       "    <tr style=\"text-align: right;\">\n",
       "      <th></th>\n",
       "      <th>tweet</th>\n",
       "    </tr>\n",
       "  </thead>\n",
       "  <tbody>\n",
       "    <tr>\n",
       "      <th>0</th>\n",
       "      <td>Online info on government websites going down?...</td>\n",
       "    </tr>\n",
       "    <tr>\n",
       "      <th>1</th>\n",
       "      <td>NEWS REPORT: Tonight, at exactly 11:19 PM, Vic...</td>\n",
       "    </tr>\n",
       "    <tr>\n",
       "      <th>2</th>\n",
       "      <td>JUST IN: Former COMELEC Chairman Andy Bautista...</td>\n",
       "    </tr>\n",
       "    <tr>\n",
       "      <th>3</th>\n",
       "      <td>Lahat ng COC sa #Halalan2022 maliban sa isa, n...</td>\n",
       "    </tr>\n",
       "    <tr>\n",
       "      <th>4</th>\n",
       "      <td>BREAKING NEWS: COMELEC will proclaim the winni...</td>\n",
       "    </tr>\n",
       "    <tr>\n",
       "      <th>...</th>\n",
       "      <td>...</td>\n",
       "    </tr>\n",
       "    <tr>\n",
       "      <th>6636</th>\n",
       "      <td>Dictator Ferdinand Marcos from the Philippines...</td>\n",
       "    </tr>\n",
       "    <tr>\n",
       "      <th>6637</th>\n",
       "      <td>This election rewrites history. People voted f...</td>\n",
       "    </tr>\n",
       "    <tr>\n",
       "      <th>6638</th>\n",
       "      <td>Hey, it’s a free country. No one has monopoly ...</td>\n",
       "    </tr>\n",
       "    <tr>\n",
       "      <th>6639</th>\n",
       "      <td>HALA-lan. \\n\\n#Election2022PH</td>\n",
       "    </tr>\n",
       "    <tr>\n",
       "      <th>6640</th>\n",
       "      <td>Cheating- malalim na sugat kahit mahilom mahir...</td>\n",
       "    </tr>\n",
       "  </tbody>\n",
       "</table>\n",
       "<p>6641 rows × 1 columns</p>\n",
       "</div>"
      ],
      "text/plain": [
       "                                                  tweet\n",
       "0     Online info on government websites going down?...\n",
       "1     NEWS REPORT: Tonight, at exactly 11:19 PM, Vic...\n",
       "2     JUST IN: Former COMELEC Chairman Andy Bautista...\n",
       "3     Lahat ng COC sa #Halalan2022 maliban sa isa, n...\n",
       "4     BREAKING NEWS: COMELEC will proclaim the winni...\n",
       "...                                                 ...\n",
       "6636  Dictator Ferdinand Marcos from the Philippines...\n",
       "6637  This election rewrites history. People voted f...\n",
       "6638  Hey, it’s a free country. No one has monopoly ...\n",
       "6639                      HALA-lan. \\n\\n#Election2022PH\n",
       "6640  Cheating- malalim na sugat kahit mahilom mahir...\n",
       "\n",
       "[6641 rows x 1 columns]"
      ]
     },
     "execution_count": 20,
     "metadata": {},
     "output_type": "execute_result"
    }
   ],
   "source": [
    "dataset_emojis.drop(['method','username','date','hashtag used for search'], axis=1, inplace=True)\n",
    "dataset_emojis"
   ]
  },
  {
   "cell_type": "code",
   "execution_count": 21,
   "metadata": {},
   "outputs": [
    {
     "data": {
      "text/plain": [
       "0         []\n",
       "1         []\n",
       "2         []\n",
       "3         []\n",
       "4         []\n",
       "        ... \n",
       "6636      []\n",
       "6637    [🇵🇭]\n",
       "6638      []\n",
       "6639      []\n",
       "6640      []\n",
       "Length: 6641, dtype: object"
      ]
     },
     "execution_count": 21,
     "metadata": {},
     "output_type": "execute_result"
    }
   ],
   "source": [
    "def extract_emojies(x):\n",
    "  doc = nlp(x['tweet']) #with emojis\n",
    "  emojis = [token.text for token in doc if token._.is_emoji]\n",
    "  \n",
    "  return emojis\n",
    "\n",
    "emojies_df = dataset_emojis.apply(extract_emojies,axis=1)\n",
    "emojies_df"
   ]
  },
  {
   "cell_type": "code",
   "execution_count": 22,
   "metadata": {},
   "outputs": [
    {
     "name": "stderr",
     "output_type": "stream",
     "text": [
      "C:\\Users\\casti\\AppData\\Local\\Temp\\ipykernel_10676\\828530368.py:2: FutureWarning: Returning a DataFrame from Series.apply when the supplied function returns a Series is deprecated and will be removed in a future version.\n",
      "  .apply(pd.Series) #breaks up the list into seperate columns\n"
     ]
    },
    {
     "data": {
      "text/html": [
       "<div>\n",
       "<style scoped>\n",
       "    .dataframe tbody tr th:only-of-type {\n",
       "        vertical-align: middle;\n",
       "    }\n",
       "\n",
       "    .dataframe tbody tr th {\n",
       "        vertical-align: top;\n",
       "    }\n",
       "\n",
       "    .dataframe thead th {\n",
       "        text-align: right;\n",
       "    }\n",
       "</style>\n",
       "<table border=\"1\" class=\"dataframe\">\n",
       "  <thead>\n",
       "    <tr style=\"text-align: right;\">\n",
       "      <th></th>\n",
       "      <th>Emoji</th>\n",
       "      <th>Count</th>\n",
       "    </tr>\n",
       "  </thead>\n",
       "  <tbody>\n",
       "    <tr>\n",
       "      <th>0</th>\n",
       "      <td>🫢</td>\n",
       "      <td>1</td>\n",
       "    </tr>\n",
       "    <tr>\n",
       "      <th>1</th>\n",
       "      <td>🌍</td>\n",
       "      <td>1</td>\n",
       "    </tr>\n",
       "    <tr>\n",
       "      <th>2</th>\n",
       "      <td>🍾</td>\n",
       "      <td>1</td>\n",
       "    </tr>\n",
       "    <tr>\n",
       "      <th>3</th>\n",
       "      <td>🫂</td>\n",
       "      <td>1</td>\n",
       "    </tr>\n",
       "    <tr>\n",
       "      <th>4</th>\n",
       "      <td>💟</td>\n",
       "      <td>1</td>\n",
       "    </tr>\n",
       "    <tr>\n",
       "      <th>...</th>\n",
       "      <td>...</td>\n",
       "      <td>...</td>\n",
       "    </tr>\n",
       "    <tr>\n",
       "      <th>260</th>\n",
       "      <td>😂</td>\n",
       "      <td>100</td>\n",
       "    </tr>\n",
       "    <tr>\n",
       "      <th>261</th>\n",
       "      <td>❤️</td>\n",
       "      <td>104</td>\n",
       "    </tr>\n",
       "    <tr>\n",
       "      <th>262</th>\n",
       "      <td>💚</td>\n",
       "      <td>105</td>\n",
       "    </tr>\n",
       "    <tr>\n",
       "      <th>263</th>\n",
       "      <td>🤣</td>\n",
       "      <td>123</td>\n",
       "    </tr>\n",
       "    <tr>\n",
       "      <th>264</th>\n",
       "      <td>🇵🇭</td>\n",
       "      <td>173</td>\n",
       "    </tr>\n",
       "  </tbody>\n",
       "</table>\n",
       "<p>265 rows × 2 columns</p>\n",
       "</div>"
      ],
      "text/plain": [
       "    Emoji  Count\n",
       "0       🫢      1\n",
       "1       🌍      1\n",
       "2       🍾      1\n",
       "3       🫂      1\n",
       "4       💟      1\n",
       "..    ...    ...\n",
       "260     😂    100\n",
       "261    ❤️    104\n",
       "262     💚    105\n",
       "263     🤣    123\n",
       "264    🇵🇭    173\n",
       "\n",
       "[265 rows x 2 columns]"
      ]
     },
     "execution_count": 22,
     "metadata": {},
     "output_type": "execute_result"
    }
   ],
   "source": [
    "emoji_counts = (emojies_df\n",
    "                .apply(pd.Series) #breaks up the list into seperate columns \n",
    "                .stack() #collapses each column into one column\n",
    "                .value_counts() #counts the frequency of each item\n",
    "                .rename('Count')\n",
    "                .sort_values()\n",
    "                .reset_index()\n",
    "                .rename(columns={'index':'Emoji'}))\n",
    "emoji_counts"
   ]
  }
 ],
 "metadata": {
  "kernelspec": {
   "display_name": "Python 3",
   "language": "python",
   "name": "python3"
  },
  "language_info": {
   "codemirror_mode": {
    "name": "ipython",
    "version": 3
   },
   "file_extension": ".py",
   "mimetype": "text/x-python",
   "name": "python",
   "nbconvert_exporter": "python",
   "pygments_lexer": "ipython3",
   "version": "3.10.11"
  },
  "orig_nbformat": 4
 },
 "nbformat": 4,
 "nbformat_minor": 2
}
