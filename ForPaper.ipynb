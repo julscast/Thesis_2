{
 "cells": [
  {
   "cell_type": "code",
   "execution_count": 1,
   "metadata": {},
   "outputs": [],
   "source": [
    "import matplotlib.pyplot as plt"
   ]
  },
  {
   "cell_type": "code",
   "execution_count": null,
   "metadata": {},
   "outputs": [],
   "source": [
    "# Visualization for text sentiments\n",
    "sentiment_counts = combined_df['Overall_Text_Sentiment'].value_counts()\n",
    "colors = {'Positive': 'lightgreen', 'Negative': 'lightcoral', 'Neutral': 'lightgray'}\n",
    "\n",
    "plt.figure(figsize=(10, 6))\n",
    "sentiment_counts.sort_index().plot(kind='bar', color=[colors[s] for s in sentiment_counts.index])\n",
    "\n",
    "plt.title('Distribution of Overall Sentiment', fontsize=16)\n",
    "plt.xlabel('Sentiment', fontsize=14)\n",
    "plt.ylabel('Count', fontsize=14)\n",
    "plt.xticks(rotation='horizontal', fontsize=12)\n",
    "plt.grid(axis='y', linestyle='--', alpha=0.7)\n",
    "for i, count in enumerate(sentiment_counts.sort_index()):\n",
    "    plt.text(i, count + 5, str(count), ha='center', va='bottom', fontsize=10)\n",
    "\n",
    "plt.show()"
   ]
  },
  {
   "cell_type": "code",
   "execution_count": null,
   "metadata": {},
   "outputs": [],
   "source": [
    "# Visualization for emoji sentiments\n",
    "sentiment_counts = combined_df['sentiment_class'].value_counts()\n",
    "\n",
    "colors = {'Positive': 'lightgreen', 'Negative': 'lightcoral', 'Neutral': 'lightgray'}\n",
    "sns.set(style=\"whitegrid\")\n",
    "plt.figure(figsize=(10, 6))\n",
    "\n",
    "sns.barplot(x=sentiment_counts.index, y=sentiment_counts.values, palette=colors.values())\n",
    "plt.xlabel('Emoji Sentiments', fontsize=14)\n",
    "plt.ylabel('Number of Emoji Sentiments', fontsize=14)\n",
    "plt.title('Distribution of Overall Emoji Sentiments', fontsize=16)\n",
    "\n",
    "for i, count in enumerate(sentiment_counts):\n",
    "    plt.text(i, count + 0.1, str(count), ha='center', va='bottom', fontsize=12, color='black')\n",
    "\n",
    "plt.show()"
   ]
  }
 ],
 "metadata": {
  "kernelspec": {
   "display_name": "Python 3",
   "language": "python",
   "name": "python3"
  },
  "language_info": {
   "codemirror_mode": {
    "name": "ipython",
    "version": 3
   },
   "file_extension": ".py",
   "mimetype": "text/x-python",
   "name": "python",
   "nbconvert_exporter": "python",
   "pygments_lexer": "ipython3",
   "version": "3.10.11"
  }
 },
 "nbformat": 4,
 "nbformat_minor": 2
}
