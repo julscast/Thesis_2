{
 "cells": [
  {
   "cell_type": "markdown",
   "metadata": {},
   "source": [
    "# Importing Libraries"
   ]
  },
  {
   "cell_type": "code",
   "execution_count": 1,
   "metadata": {},
   "outputs": [
    {
     "name": "stderr",
     "output_type": "stream",
     "text": [
      "[nltk_data] Downloading package wordnet to\n",
      "[nltk_data]     C:\\Users\\casti\\AppData\\Roaming\\nltk_data...\n",
      "[nltk_data]   Package wordnet is already up-to-date!\n",
      "[nltk_data] Downloading package punkt to\n",
      "[nltk_data]     C:\\Users\\casti\\AppData\\Roaming\\nltk_data...\n",
      "[nltk_data]   Package punkt is already up-to-date!\n"
     ]
    },
    {
     "data": {
      "text/plain": [
       "True"
      ]
     },
     "execution_count": 1,
     "metadata": {},
     "output_type": "execute_result"
    }
   ],
   "source": [
    "import pandas as pd\n",
    "import numpy as np\n",
    "import matplotlib.pyplot as plt\n",
    "import matplotlib.colors as mcolors\n",
    "import regex as re\n",
    "import emoji\n",
    "import nltk\n",
    "from nltk.tokenize import word_tokenize\n",
    "from nltk.stem import WordNetLemmatizer\n",
    "from nltk.corpus import stopwords\n",
    "import seaborn as sns\n",
    "import csv\n",
    "from chardet import detect\n",
    "from spellchecker import SpellChecker\n",
    "nltk.download('wordnet')\n",
    "nltk.download('punkt')"
   ]
  },
  {
   "cell_type": "markdown",
   "metadata": {},
   "source": [
    "## Loading all Datasets"
   ]
  },
  {
   "cell_type": "code",
   "execution_count": 2,
   "metadata": {},
   "outputs": [],
   "source": [
    "dataset_pre = pd.read_csv('Datasets/PreElection.csv')"
   ]
  },
  {
   "cell_type": "code",
   "execution_count": 3,
   "metadata": {},
   "outputs": [],
   "source": [
    "dataset_dr = pd.read_csv('Datasets/DuringElection.csv')"
   ]
  },
  {
   "cell_type": "code",
   "execution_count": 4,
   "metadata": {},
   "outputs": [],
   "source": [
    "dataset_post = pd.read_csv('Datasets/PostElection.csv')"
   ]
  },
  {
   "cell_type": "markdown",
   "metadata": {},
   "source": [
    "# Adding Election Period Labels by Adding Another Column"
   ]
  },
  {
   "cell_type": "code",
   "execution_count": 5,
   "metadata": {},
   "outputs": [],
   "source": [
    "dataset_pre['Period'] = \"PRE\"\n"
   ]
  },
  {
   "cell_type": "code",
   "execution_count": 6,
   "metadata": {},
   "outputs": [],
   "source": [
    "dataset_dr['Period'] = \"DUR\""
   ]
  },
  {
   "cell_type": "code",
   "execution_count": 7,
   "metadata": {},
   "outputs": [],
   "source": [
    "dataset_post['Period'] = \"POST\""
   ]
  },
  {
   "cell_type": "markdown",
   "metadata": {},
   "source": [
    "# Cleaning Datasets"
   ]
  },
  {
   "cell_type": "code",
   "execution_count": 8,
   "metadata": {},
   "outputs": [],
   "source": [
    "#Concatenate all datasets\n",
    "dataset = pd.concat([dataset_pre, dataset_dr, dataset_post], ignore_index=True)"
   ]
  },
  {
   "cell_type": "code",
   "execution_count": 9,
   "metadata": {},
   "outputs": [
    {
     "data": {
      "text/plain": [
       "(16646, 4)"
      ]
     },
     "execution_count": 9,
     "metadata": {},
     "output_type": "execute_result"
    }
   ],
   "source": [
    "dataset.shape"
   ]
  },
  {
   "cell_type": "code",
   "execution_count": 10,
   "metadata": {},
   "outputs": [
    {
     "data": {
      "text/html": [
       "<div>\n",
       "<style scoped>\n",
       "    .dataframe tbody tr th:only-of-type {\n",
       "        vertical-align: middle;\n",
       "    }\n",
       "\n",
       "    .dataframe tbody tr th {\n",
       "        vertical-align: top;\n",
       "    }\n",
       "\n",
       "    .dataframe thead th {\n",
       "        text-align: right;\n",
       "    }\n",
       "</style>\n",
       "<table border=\"1\" class=\"dataframe\">\n",
       "  <thead>\n",
       "    <tr style=\"text-align: right;\">\n",
       "      <th></th>\n",
       "      <th>Tweet</th>\n",
       "      <th>Period</th>\n",
       "    </tr>\n",
       "  </thead>\n",
       "  <tbody>\n",
       "    <tr>\n",
       "      <th>0</th>\n",
       "      <td>A year ago! Any progress from the winning cand...</td>\n",
       "      <td>PRE</td>\n",
       "    </tr>\n",
       "    <tr>\n",
       "      <th>1</th>\n",
       "      <td>Bongbong Marcos, Sara Duterte express deepest ...</td>\n",
       "      <td>PRE</td>\n",
       "    </tr>\n",
       "    <tr>\n",
       "      <th>2</th>\n",
       "      <td>I decide I only vote for\\rBBM❤️ SARA DUTERTE💚 ...</td>\n",
       "      <td>PRE</td>\n",
       "    </tr>\n",
       "    <tr>\n",
       "      <th>3</th>\n",
       "      <td>Mr. Bbm and Ms. Sara Duterte are obviously wil...</td>\n",
       "      <td>PRE</td>\n",
       "    </tr>\n",
       "    <tr>\n",
       "      <th>4</th>\n",
       "      <td>THE CROWD IS INSANE. BBM YOULL FOREVER BE INSA...</td>\n",
       "      <td>PRE</td>\n",
       "    </tr>\n",
       "    <tr>\n",
       "      <th>...</th>\n",
       "      <td>...</td>\n",
       "      <td>...</td>\n",
       "    </tr>\n",
       "    <tr>\n",
       "      <th>16641</th>\n",
       "      <td>Dictator Ferdinand Marcos from the Philippines...</td>\n",
       "      <td>POST</td>\n",
       "    </tr>\n",
       "    <tr>\n",
       "      <th>16642</th>\n",
       "      <td>This election rewrites history. People voted f...</td>\n",
       "      <td>POST</td>\n",
       "    </tr>\n",
       "    <tr>\n",
       "      <th>16643</th>\n",
       "      <td>Hey, it’s a free country. No one has monopoly ...</td>\n",
       "      <td>POST</td>\n",
       "    </tr>\n",
       "    <tr>\n",
       "      <th>16644</th>\n",
       "      <td>HALA-lan. \\n\\n#Election2022PH</td>\n",
       "      <td>POST</td>\n",
       "    </tr>\n",
       "    <tr>\n",
       "      <th>16645</th>\n",
       "      <td>Cheating- malalim na sugat kahit mahilom mahir...</td>\n",
       "      <td>POST</td>\n",
       "    </tr>\n",
       "  </tbody>\n",
       "</table>\n",
       "<p>16646 rows × 2 columns</p>\n",
       "</div>"
      ],
      "text/plain": [
       "                                                   Tweet Period\n",
       "0      A year ago! Any progress from the winning cand...    PRE\n",
       "1      Bongbong Marcos, Sara Duterte express deepest ...    PRE\n",
       "2      I decide I only vote for\\rBBM❤️ SARA DUTERTE💚 ...    PRE\n",
       "3      Mr. Bbm and Ms. Sara Duterte are obviously wil...    PRE\n",
       "4      THE CROWD IS INSANE. BBM YOULL FOREVER BE INSA...    PRE\n",
       "...                                                  ...    ...\n",
       "16641  Dictator Ferdinand Marcos from the Philippines...   POST\n",
       "16642  This election rewrites history. People voted f...   POST\n",
       "16643  Hey, it’s a free country. No one has monopoly ...   POST\n",
       "16644                      HALA-lan. \\n\\n#Election2022PH   POST\n",
       "16645  Cheating- malalim na sugat kahit mahilom mahir...   POST\n",
       "\n",
       "[16646 rows x 2 columns]"
      ]
     },
     "execution_count": 10,
     "metadata": {},
     "output_type": "execute_result"
    }
   ],
   "source": [
    "#1 Drop unnecessary columns\n",
    "\n",
    "dataset.drop(['Date','Username'], axis=1, inplace=True)\n",
    "dataset"
   ]
  },
  {
   "cell_type": "code",
   "execution_count": 11,
   "metadata": {},
   "outputs": [
    {
     "name": "stdout",
     "output_type": "stream",
     "text": [
      "Duplicate Tweets: 3108\n"
     ]
    }
   ],
   "source": [
    "#Get the exact duplicate tweets in the dataframe\n",
    "print(\"Duplicate Tweets:\", len(dataset['Tweet'])-len(dataset['Tweet'].drop_duplicates()))"
   ]
  },
  {
   "cell_type": "code",
   "execution_count": 12,
   "metadata": {},
   "outputs": [
    {
     "name": "stdout",
     "output_type": "stream",
     "text": [
      "                                                   Tweet Period\n",
      "3546     @biancadava\\rLOOK: Members of the deaf commu...    PRE\n",
      "4578     @biancadava\\rLOOK: Members of the deaf commu...    PRE\n",
      "3681     @mommydotsorry\\r#Halalan2022 #UniteamBBMSara...    PRE\n",
      "4212     @mommydotsorry\\r#Halalan2022 #UniteamBBMSara...    PRE\n",
      "3572     @nujp\\rThis elections, never forget those wh...    PRE\n",
      "...                                                  ...    ...\n",
      "3790   🚨HALALAN 2022 ADVICE🚨\\rplease! wag kayong papa...    PRE\n",
      "15024  🤠Alrite let's discuss the Top 10-14 candidates...   POST\n",
      "11312  🤠Alrite let's discuss the Top 10-14 candidates...   POST\n",
      "110    🧵on 🇹🇼#Halalan2022| I’m sorry for failing y’al...    PRE\n",
      "784    🧵on 🇹🇼#Halalan2022| I’m sorry for failing y’al...    PRE\n",
      "\n",
      "[5440 rows x 2 columns]\n"
     ]
    }
   ],
   "source": [
    "dups = dataset[\"Tweet\"]\n",
    "dups_listed = dataset[dups.isin(dups[dups.duplicated()])].sort_values(\"Tweet\")\n",
    "print(dups_listed)"
   ]
  },
  {
   "cell_type": "code",
   "execution_count": 13,
   "metadata": {},
   "outputs": [],
   "source": [
    "# 2 Remove Exact Duplicate Tweets\n",
    "# Drop the last duplicate and keep the first one\n",
    "# Reset column index\n",
    "\n",
    "dataset.drop_duplicates(subset='Tweet', keep=\"first\", inplace=True)\n",
    "dataset = dataset.reset_index()"
   ]
  },
  {
   "cell_type": "code",
   "execution_count": 14,
   "metadata": {},
   "outputs": [
    {
     "name": "stdout",
     "output_type": "stream",
     "text": [
      "Duplicate Tweets: 0\n"
     ]
    }
   ],
   "source": [
    "# Double check if duplicate tweets were dropped\n",
    "\n",
    "print(\"Duplicate Tweets:\", len(dataset['Tweet'])-len(dataset['Tweet'].drop_duplicates()))"
   ]
  },
  {
   "cell_type": "code",
   "execution_count": 15,
   "metadata": {},
   "outputs": [
    {
     "data": {
      "text/html": [
       "<div>\n",
       "<style scoped>\n",
       "    .dataframe tbody tr th:only-of-type {\n",
       "        vertical-align: middle;\n",
       "    }\n",
       "\n",
       "    .dataframe tbody tr th {\n",
       "        vertical-align: top;\n",
       "    }\n",
       "\n",
       "    .dataframe thead th {\n",
       "        text-align: right;\n",
       "    }\n",
       "</style>\n",
       "<table border=\"1\" class=\"dataframe\">\n",
       "  <thead>\n",
       "    <tr style=\"text-align: right;\">\n",
       "      <th></th>\n",
       "      <th>Tweet</th>\n",
       "      <th>Period</th>\n",
       "    </tr>\n",
       "  </thead>\n",
       "  <tbody>\n",
       "    <tr>\n",
       "      <th>0</th>\n",
       "      <td>A year ago! Any progress from the winning cand...</td>\n",
       "      <td>PRE</td>\n",
       "    </tr>\n",
       "    <tr>\n",
       "      <th>1</th>\n",
       "      <td>Bongbong Marcos, Sara Duterte express deepest ...</td>\n",
       "      <td>PRE</td>\n",
       "    </tr>\n",
       "    <tr>\n",
       "      <th>2</th>\n",
       "      <td>I decide I only vote for\\rBBM❤️ SARA DUTERTE💚 ...</td>\n",
       "      <td>PRE</td>\n",
       "    </tr>\n",
       "    <tr>\n",
       "      <th>3</th>\n",
       "      <td>Mr. Bbm and Ms. Sara Duterte are obviously wil...</td>\n",
       "      <td>PRE</td>\n",
       "    </tr>\n",
       "    <tr>\n",
       "      <th>4</th>\n",
       "      <td>THE CROWD IS INSANE. BBM YOULL FOREVER BE INSA...</td>\n",
       "      <td>PRE</td>\n",
       "    </tr>\n",
       "    <tr>\n",
       "      <th>...</th>\n",
       "      <td>...</td>\n",
       "      <td>...</td>\n",
       "    </tr>\n",
       "    <tr>\n",
       "      <th>13533</th>\n",
       "      <td>Dictator Ferdinand Marcos from the Philippines...</td>\n",
       "      <td>POST</td>\n",
       "    </tr>\n",
       "    <tr>\n",
       "      <th>13534</th>\n",
       "      <td>This election rewrites history. People voted f...</td>\n",
       "      <td>POST</td>\n",
       "    </tr>\n",
       "    <tr>\n",
       "      <th>13535</th>\n",
       "      <td>Hey, it’s a free country. No one has monopoly ...</td>\n",
       "      <td>POST</td>\n",
       "    </tr>\n",
       "    <tr>\n",
       "      <th>13536</th>\n",
       "      <td>HALA-lan. \\n\\n#Election2022PH</td>\n",
       "      <td>POST</td>\n",
       "    </tr>\n",
       "    <tr>\n",
       "      <th>13537</th>\n",
       "      <td>Cheating- malalim na sugat kahit mahilom mahir...</td>\n",
       "      <td>POST</td>\n",
       "    </tr>\n",
       "  </tbody>\n",
       "</table>\n",
       "<p>13538 rows × 2 columns</p>\n",
       "</div>"
      ],
      "text/plain": [
       "                                                   Tweet Period\n",
       "0      A year ago! Any progress from the winning cand...    PRE\n",
       "1      Bongbong Marcos, Sara Duterte express deepest ...    PRE\n",
       "2      I decide I only vote for\\rBBM❤️ SARA DUTERTE💚 ...    PRE\n",
       "3      Mr. Bbm and Ms. Sara Duterte are obviously wil...    PRE\n",
       "4      THE CROWD IS INSANE. BBM YOULL FOREVER BE INSA...    PRE\n",
       "...                                                  ...    ...\n",
       "13533  Dictator Ferdinand Marcos from the Philippines...   POST\n",
       "13534  This election rewrites history. People voted f...   POST\n",
       "13535  Hey, it’s a free country. No one has monopoly ...   POST\n",
       "13536                      HALA-lan. \\n\\n#Election2022PH   POST\n",
       "13537  Cheating- malalim na sugat kahit mahilom mahir...   POST\n",
       "\n",
       "[13538 rows x 2 columns]"
      ]
     },
     "execution_count": 15,
     "metadata": {},
     "output_type": "execute_result"
    }
   ],
   "source": [
    "# Drop old index column\n",
    "dataset.drop(['index'], axis=1, inplace=True)\n",
    "dataset"
   ]
  },
  {
   "cell_type": "code",
   "execution_count": 16,
   "metadata": {},
   "outputs": [
    {
     "data": {
      "text/html": [
       "<div>\n",
       "<style scoped>\n",
       "    .dataframe tbody tr th:only-of-type {\n",
       "        vertical-align: middle;\n",
       "    }\n",
       "\n",
       "    .dataframe tbody tr th {\n",
       "        vertical-align: top;\n",
       "    }\n",
       "\n",
       "    .dataframe thead th {\n",
       "        text-align: right;\n",
       "    }\n",
       "</style>\n",
       "<table border=\"1\" class=\"dataframe\">\n",
       "  <thead>\n",
       "    <tr style=\"text-align: right;\">\n",
       "      <th></th>\n",
       "      <th>Tweet</th>\n",
       "      <th>Period</th>\n",
       "    </tr>\n",
       "  </thead>\n",
       "  <tbody>\n",
       "    <tr>\n",
       "      <th>0</th>\n",
       "      <td>A year ago! Any progress from the winning cand...</td>\n",
       "      <td>PRE</td>\n",
       "    </tr>\n",
       "    <tr>\n",
       "      <th>1</th>\n",
       "      <td>Bongbong Marcos, Sara Duterte express deepest ...</td>\n",
       "      <td>PRE</td>\n",
       "    </tr>\n",
       "    <tr>\n",
       "      <th>2</th>\n",
       "      <td>I decide I only vote for\\rBBM❤️ SARA DUTERTE💚 ...</td>\n",
       "      <td>PRE</td>\n",
       "    </tr>\n",
       "    <tr>\n",
       "      <th>3</th>\n",
       "      <td>Mr. Bbm and Ms. Sara Duterte are obviously wil...</td>\n",
       "      <td>PRE</td>\n",
       "    </tr>\n",
       "    <tr>\n",
       "      <th>4</th>\n",
       "      <td>THE CROWD IS INSANE. BBM YOULL FOREVER BE INSA...</td>\n",
       "      <td>PRE</td>\n",
       "    </tr>\n",
       "    <tr>\n",
       "      <th>...</th>\n",
       "      <td>...</td>\n",
       "      <td>...</td>\n",
       "    </tr>\n",
       "    <tr>\n",
       "      <th>13533</th>\n",
       "      <td>Dictator Ferdinand Marcos from the Philippines...</td>\n",
       "      <td>POST</td>\n",
       "    </tr>\n",
       "    <tr>\n",
       "      <th>13534</th>\n",
       "      <td>This election rewrites history. People voted f...</td>\n",
       "      <td>POST</td>\n",
       "    </tr>\n",
       "    <tr>\n",
       "      <th>13535</th>\n",
       "      <td>Hey, it’s a free country. No one has monopoly ...</td>\n",
       "      <td>POST</td>\n",
       "    </tr>\n",
       "    <tr>\n",
       "      <th>13536</th>\n",
       "      <td>HALA-lan. \\n\\nhashtagElection2022PH</td>\n",
       "      <td>POST</td>\n",
       "    </tr>\n",
       "    <tr>\n",
       "      <th>13537</th>\n",
       "      <td>Cheating- malalim na sugat kahit mahilom mahir...</td>\n",
       "      <td>POST</td>\n",
       "    </tr>\n",
       "  </tbody>\n",
       "</table>\n",
       "<p>13538 rows × 2 columns</p>\n",
       "</div>"
      ],
      "text/plain": [
       "                                                   Tweet Period\n",
       "0      A year ago! Any progress from the winning cand...    PRE\n",
       "1      Bongbong Marcos, Sara Duterte express deepest ...    PRE\n",
       "2      I decide I only vote for\\rBBM❤️ SARA DUTERTE💚 ...    PRE\n",
       "3      Mr. Bbm and Ms. Sara Duterte are obviously wil...    PRE\n",
       "4      THE CROWD IS INSANE. BBM YOULL FOREVER BE INSA...    PRE\n",
       "...                                                  ...    ...\n",
       "13533  Dictator Ferdinand Marcos from the Philippines...   POST\n",
       "13534  This election rewrites history. People voted f...   POST\n",
       "13535  Hey, it’s a free country. No one has monopoly ...   POST\n",
       "13536                HALA-lan. \\n\\nhashtagElection2022PH   POST\n",
       "13537  Cheating- malalim na sugat kahit mahilom mahir...   POST\n",
       "\n",
       "[13538 rows x 2 columns]"
      ]
     },
     "execution_count": 16,
     "metadata": {},
     "output_type": "execute_result"
    }
   ],
   "source": [
    "dataset['Tweet'] = dataset['Tweet'].str.replace(\"#\", \"hashtag\")\n",
    "dataset"
   ]
  },
  {
   "cell_type": "code",
   "execution_count": 17,
   "metadata": {},
   "outputs": [
    {
     "name": "stdout",
     "output_type": "stream",
     "text": [
      "                                                   Tweet Period\n",
      "0      A year ago Any progress from the winning candi...    PRE\n",
      "1      Bongbong Marcos Sara Duterte express deepest g...    PRE\n",
      "2      I decide I only vote for BBM SARA DUTERTE PULA...    PRE\n",
      "3      Mr Bbm and Ms Sara Duterte are obviously will ...    PRE\n",
      "4      THE CROWD IS INSANE BBM YOULL FOREVER BE INSAN...    PRE\n",
      "...                                                  ...    ...\n",
      "13533  Dictator Ferdinand Marcos from the Philippines...   POST\n",
      "13534  This election rewrites history People voted fo...   POST\n",
      "13535  Hey its a free country No one has monopoly of ...   POST\n",
      "13536                      HALAlan hashtagElection2022PH   POST\n",
      "13537  Cheating malalim na sugat kahit mahilom mahira...   POST\n",
      "\n",
      "[13538 rows x 2 columns]\n"
     ]
    }
   ],
   "source": [
    "# 5 Remove non-alphanumeric characters, spaces & links\n",
    "def clean_text(text):\n",
    "    text = text.replace('?', ' ').replace('!', ' ') # Remove question marks, exclamation points\n",
    "    text = ' '.join([word for word in text.split() if not word.startswith('@')]) # Remove mention tags\n",
    "    text = text.replace('\\n', ' ') # Remove newline characters\n",
    "\n",
    "    # Remove all non-alphanumeric characters except hashtags, underscores, and spaces\n",
    "    text = re.sub(r'[^a-zA-Z0-9_#\\s]', '', text)\n",
    "\n",
    "# Remove words containing \"http\" and \"https\"\n",
    "    text = ' '.join([word for word in text.split() if not re.search(r'https', word)])\n",
    "    text = ' '.join([word for word in text.split() if not re.search(r'http', word)])\n",
    "    text = ' '.join([word for word in text.split() if not re.search(r'youtube', word)])\n",
    "    text = ' '.join([word for word in text.split() if not re.search(r'vanBF1_BCyyo', word)])\n",
    "    text = ' '.join([word for word in text.split() if not re.search(r'story_fbid', word)])\n",
    "    text = ' '.join([word for word in text.split() if not re.search(r'listOLAK5uy', word)])\n",
    "    text = ' '.join([word for word in text.split() if not re.search(r'edition_id', word)])\n",
    "    text = ' '.join([word for word in text.split() if not re.search(r'News5GVGregorio', word)])\n",
    "    text = ' '.join([word for word in text.split() if not re.search(r'utm_', word)])\n",
    "    text = ' '.join([word for word in text.split() if not re.search(r'fbclid', word)])\n",
    "    text = ' '.join([word for word in text.split() if not re.search(r'p23', word)])\n",
    "    text = ' '.join([word for word in text.split() if not re.search(r'p24', word)])\n",
    "    text = ' '.join([word for word in text.split() if not re.search(r'p25', word)])\n",
    "    text = ' '.join([word for word in text.split() if not re.search(r'category_', word)])\n",
    "    text = ' '.join([word for word in text.split() if not re.search(r'v_DUc7', word)])\n",
    "    \n",
    "    text = text.replace('...', ' ') # Remove ellipses\n",
    "    text = ' '.join(text.split()) # Replace multiple spaces with a single space\n",
    "    text = text.strip() # Remove leading/trailing spaces\n",
    "    return text\n",
    "\n",
    "dataset['Tweet'] = dataset['Tweet'].apply(clean_text)\n",
    "print(dataset)"
   ]
  },
  {
   "cell_type": "code",
   "execution_count": 18,
   "metadata": {},
   "outputs": [
    {
     "name": "stdout",
     "output_type": "stream",
     "text": [
      "Duplicate Tweets: 331\n"
     ]
    }
   ],
   "source": [
    "# Check for Duplicate Tweets after cleaning of non-alphanumeric characters, spaces & links\n",
    "print(\"Duplicate Tweets:\", len(dataset['Tweet'])-len(dataset['Tweet'].drop_duplicates()))"
   ]
  },
  {
   "cell_type": "code",
   "execution_count": 19,
   "metadata": {},
   "outputs": [
    {
     "name": "stdout",
     "output_type": "stream",
     "text": [
      "                                                   Tweet Period\n",
      "3546     @biancadava\\rLOOK: Members of the deaf commu...    PRE\n",
      "4578     @biancadava\\rLOOK: Members of the deaf commu...    PRE\n",
      "3681     @mommydotsorry\\r#Halalan2022 #UniteamBBMSara...    PRE\n",
      "4212     @mommydotsorry\\r#Halalan2022 #UniteamBBMSara...    PRE\n",
      "3572     @nujp\\rThis elections, never forget those wh...    PRE\n",
      "...                                                  ...    ...\n",
      "3790   🚨HALALAN 2022 ADVICE🚨\\rplease! wag kayong papa...    PRE\n",
      "15024  🤠Alrite let's discuss the Top 10-14 candidates...   POST\n",
      "11312  🤠Alrite let's discuss the Top 10-14 candidates...   POST\n",
      "110    🧵on 🇹🇼#Halalan2022| I’m sorry for failing y’al...    PRE\n",
      "784    🧵on 🇹🇼#Halalan2022| I’m sorry for failing y’al...    PRE\n",
      "\n",
      "[5440 rows x 2 columns]\n"
     ]
    }
   ],
   "source": [
    "dups2 = dataset[\"Tweet\"]\n",
    "dups_listed2 = dataset[dups2.isin(dups2[dups2.duplicated()])].sort_values(\"Tweet\")\n",
    "print(dups_listed)"
   ]
  },
  {
   "cell_type": "code",
   "execution_count": 20,
   "metadata": {},
   "outputs": [],
   "source": [
    "# Drop the last duplicate and keep the first one\n",
    "# Reset column index\n",
    "\n",
    "dataset.drop_duplicates(subset='Tweet', keep=\"first\", inplace=True)\n",
    "dataset = dataset.reset_index()"
   ]
  },
  {
   "cell_type": "code",
   "execution_count": 21,
   "metadata": {},
   "outputs": [
    {
     "data": {
      "text/html": [
       "<div>\n",
       "<style scoped>\n",
       "    .dataframe tbody tr th:only-of-type {\n",
       "        vertical-align: middle;\n",
       "    }\n",
       "\n",
       "    .dataframe tbody tr th {\n",
       "        vertical-align: top;\n",
       "    }\n",
       "\n",
       "    .dataframe thead th {\n",
       "        text-align: right;\n",
       "    }\n",
       "</style>\n",
       "<table border=\"1\" class=\"dataframe\">\n",
       "  <thead>\n",
       "    <tr style=\"text-align: right;\">\n",
       "      <th></th>\n",
       "      <th>Tweet</th>\n",
       "      <th>Period</th>\n",
       "    </tr>\n",
       "  </thead>\n",
       "  <tbody>\n",
       "    <tr>\n",
       "      <th>0</th>\n",
       "      <td>A year ago Any progress from the winning candi...</td>\n",
       "      <td>PRE</td>\n",
       "    </tr>\n",
       "    <tr>\n",
       "      <th>1</th>\n",
       "      <td>Bongbong Marcos Sara Duterte express deepest g...</td>\n",
       "      <td>PRE</td>\n",
       "    </tr>\n",
       "    <tr>\n",
       "      <th>2</th>\n",
       "      <td>I decide I only vote for BBM SARA DUTERTE PULA...</td>\n",
       "      <td>PRE</td>\n",
       "    </tr>\n",
       "    <tr>\n",
       "      <th>3</th>\n",
       "      <td>Mr Bbm and Ms Sara Duterte are obviously will ...</td>\n",
       "      <td>PRE</td>\n",
       "    </tr>\n",
       "    <tr>\n",
       "      <th>4</th>\n",
       "      <td>THE CROWD IS INSANE BBM YOULL FOREVER BE INSAN...</td>\n",
       "      <td>PRE</td>\n",
       "    </tr>\n",
       "    <tr>\n",
       "      <th>...</th>\n",
       "      <td>...</td>\n",
       "      <td>...</td>\n",
       "    </tr>\n",
       "    <tr>\n",
       "      <th>13202</th>\n",
       "      <td>Dictator Ferdinand Marcos from the Philippines...</td>\n",
       "      <td>POST</td>\n",
       "    </tr>\n",
       "    <tr>\n",
       "      <th>13203</th>\n",
       "      <td>This election rewrites history People voted fo...</td>\n",
       "      <td>POST</td>\n",
       "    </tr>\n",
       "    <tr>\n",
       "      <th>13204</th>\n",
       "      <td>Hey its a free country No one has monopoly of ...</td>\n",
       "      <td>POST</td>\n",
       "    </tr>\n",
       "    <tr>\n",
       "      <th>13205</th>\n",
       "      <td>HALAlan hashtagElection2022PH</td>\n",
       "      <td>POST</td>\n",
       "    </tr>\n",
       "    <tr>\n",
       "      <th>13206</th>\n",
       "      <td>Cheating malalim na sugat kahit mahilom mahira...</td>\n",
       "      <td>POST</td>\n",
       "    </tr>\n",
       "  </tbody>\n",
       "</table>\n",
       "<p>13207 rows × 2 columns</p>\n",
       "</div>"
      ],
      "text/plain": [
       "                                                   Tweet Period\n",
       "0      A year ago Any progress from the winning candi...    PRE\n",
       "1      Bongbong Marcos Sara Duterte express deepest g...    PRE\n",
       "2      I decide I only vote for BBM SARA DUTERTE PULA...    PRE\n",
       "3      Mr Bbm and Ms Sara Duterte are obviously will ...    PRE\n",
       "4      THE CROWD IS INSANE BBM YOULL FOREVER BE INSAN...    PRE\n",
       "...                                                  ...    ...\n",
       "13202  Dictator Ferdinand Marcos from the Philippines...   POST\n",
       "13203  This election rewrites history People voted fo...   POST\n",
       "13204  Hey its a free country No one has monopoly of ...   POST\n",
       "13205                      HALAlan hashtagElection2022PH   POST\n",
       "13206  Cheating malalim na sugat kahit mahilom mahira...   POST\n",
       "\n",
       "[13207 rows x 2 columns]"
      ]
     },
     "execution_count": 21,
     "metadata": {},
     "output_type": "execute_result"
    }
   ],
   "source": [
    "# Drop old index column \n",
    "dataset.drop(['index'], axis=1, inplace=True)\n",
    "dataset"
   ]
  },
  {
   "cell_type": "markdown",
   "metadata": {},
   "source": [
    "# Add Labels"
   ]
  },
  {
   "cell_type": "code",
   "execution_count": 22,
   "metadata": {},
   "outputs": [],
   "source": [
    "dataset['Tweets for Form'] = dataset['Tweet']"
   ]
  },
  {
   "cell_type": "code",
   "execution_count": 23,
   "metadata": {},
   "outputs": [
    {
     "data": {
      "text/html": [
       "<div>\n",
       "<style scoped>\n",
       "    .dataframe tbody tr th:only-of-type {\n",
       "        vertical-align: middle;\n",
       "    }\n",
       "\n",
       "    .dataframe tbody tr th {\n",
       "        vertical-align: top;\n",
       "    }\n",
       "\n",
       "    .dataframe thead th {\n",
       "        text-align: right;\n",
       "    }\n",
       "</style>\n",
       "<table border=\"1\" class=\"dataframe\">\n",
       "  <thead>\n",
       "    <tr style=\"text-align: right;\">\n",
       "      <th></th>\n",
       "      <th>Tweet</th>\n",
       "      <th>Period</th>\n",
       "      <th>Tweets for Form</th>\n",
       "    </tr>\n",
       "  </thead>\n",
       "  <tbody>\n",
       "    <tr>\n",
       "      <th>0</th>\n",
       "      <td>PRE - A year ago Any progress from the winning...</td>\n",
       "      <td>PRE</td>\n",
       "      <td>A year ago Any progress from the winning candi...</td>\n",
       "    </tr>\n",
       "    <tr>\n",
       "      <th>1</th>\n",
       "      <td>PRE - Bongbong Marcos Sara Duterte express dee...</td>\n",
       "      <td>PRE</td>\n",
       "      <td>Bongbong Marcos Sara Duterte express deepest g...</td>\n",
       "    </tr>\n",
       "    <tr>\n",
       "      <th>2</th>\n",
       "      <td>PRE - I decide I only vote for BBM SARA DUTERT...</td>\n",
       "      <td>PRE</td>\n",
       "      <td>I decide I only vote for BBM SARA DUTERTE PULA...</td>\n",
       "    </tr>\n",
       "    <tr>\n",
       "      <th>3</th>\n",
       "      <td>PRE - Mr Bbm and Ms Sara Duterte are obviously...</td>\n",
       "      <td>PRE</td>\n",
       "      <td>Mr Bbm and Ms Sara Duterte are obviously will ...</td>\n",
       "    </tr>\n",
       "    <tr>\n",
       "      <th>4</th>\n",
       "      <td>PRE - THE CROWD IS INSANE BBM YOULL FOREVER BE...</td>\n",
       "      <td>PRE</td>\n",
       "      <td>THE CROWD IS INSANE BBM YOULL FOREVER BE INSAN...</td>\n",
       "    </tr>\n",
       "    <tr>\n",
       "      <th>...</th>\n",
       "      <td>...</td>\n",
       "      <td>...</td>\n",
       "      <td>...</td>\n",
       "    </tr>\n",
       "    <tr>\n",
       "      <th>13202</th>\n",
       "      <td>POST - Dictator Ferdinand Marcos from the Phil...</td>\n",
       "      <td>POST</td>\n",
       "      <td>Dictator Ferdinand Marcos from the Philippines...</td>\n",
       "    </tr>\n",
       "    <tr>\n",
       "      <th>13203</th>\n",
       "      <td>POST - This election rewrites history People v...</td>\n",
       "      <td>POST</td>\n",
       "      <td>This election rewrites history People voted fo...</td>\n",
       "    </tr>\n",
       "    <tr>\n",
       "      <th>13204</th>\n",
       "      <td>POST - Hey its a free country No one has monop...</td>\n",
       "      <td>POST</td>\n",
       "      <td>Hey its a free country No one has monopoly of ...</td>\n",
       "    </tr>\n",
       "    <tr>\n",
       "      <th>13205</th>\n",
       "      <td>POST - HALAlan hashtagElection2022PH</td>\n",
       "      <td>POST</td>\n",
       "      <td>HALAlan hashtagElection2022PH</td>\n",
       "    </tr>\n",
       "    <tr>\n",
       "      <th>13206</th>\n",
       "      <td>POST - Cheating malalim na sugat kahit mahilom...</td>\n",
       "      <td>POST</td>\n",
       "      <td>Cheating malalim na sugat kahit mahilom mahira...</td>\n",
       "    </tr>\n",
       "  </tbody>\n",
       "</table>\n",
       "<p>13207 rows × 3 columns</p>\n",
       "</div>"
      ],
      "text/plain": [
       "                                                   Tweet Period  \\\n",
       "0      PRE - A year ago Any progress from the winning...    PRE   \n",
       "1      PRE - Bongbong Marcos Sara Duterte express dee...    PRE   \n",
       "2      PRE - I decide I only vote for BBM SARA DUTERT...    PRE   \n",
       "3      PRE - Mr Bbm and Ms Sara Duterte are obviously...    PRE   \n",
       "4      PRE - THE CROWD IS INSANE BBM YOULL FOREVER BE...    PRE   \n",
       "...                                                  ...    ...   \n",
       "13202  POST - Dictator Ferdinand Marcos from the Phil...   POST   \n",
       "13203  POST - This election rewrites history People v...   POST   \n",
       "13204  POST - Hey its a free country No one has monop...   POST   \n",
       "13205               POST - HALAlan hashtagElection2022PH   POST   \n",
       "13206  POST - Cheating malalim na sugat kahit mahilom...   POST   \n",
       "\n",
       "                                         Tweets for Form  \n",
       "0      A year ago Any progress from the winning candi...  \n",
       "1      Bongbong Marcos Sara Duterte express deepest g...  \n",
       "2      I decide I only vote for BBM SARA DUTERTE PULA...  \n",
       "3      Mr Bbm and Ms Sara Duterte are obviously will ...  \n",
       "4      THE CROWD IS INSANE BBM YOULL FOREVER BE INSAN...  \n",
       "...                                                  ...  \n",
       "13202  Dictator Ferdinand Marcos from the Philippines...  \n",
       "13203  This election rewrites history People voted fo...  \n",
       "13204  Hey its a free country No one has monopoly of ...  \n",
       "13205                      HALAlan hashtagElection2022PH  \n",
       "13206  Cheating malalim na sugat kahit mahilom mahira...  \n",
       "\n",
       "[13207 rows x 3 columns]"
      ]
     },
     "execution_count": 23,
     "metadata": {},
     "output_type": "execute_result"
    }
   ],
   "source": [
    "def insert_label(row):\n",
    "    period = row['Period']\n",
    "    text = row['Tweet']\n",
    "\n",
    "    if period == 'PRE':\n",
    "        return 'PRE - ' + text\n",
    "    elif period == 'DUR':\n",
    "        return 'DUR - ' + text\n",
    "    elif period == 'POST':\n",
    "        return 'POST - ' + text\n",
    "    \n",
    "    return text\n",
    "\n",
    "dataset['Tweet'] = dataset.apply(insert_label, axis=1)\n",
    "dataset"
   ]
  },
  {
   "cell_type": "code",
   "execution_count": 24,
   "metadata": {},
   "outputs": [],
   "source": [
    "del dataset['Period']"
   ]
  },
  {
   "cell_type": "code",
   "execution_count": 25,
   "metadata": {},
   "outputs": [
    {
     "data": {
      "text/html": [
       "<div>\n",
       "<style scoped>\n",
       "    .dataframe tbody tr th:only-of-type {\n",
       "        vertical-align: middle;\n",
       "    }\n",
       "\n",
       "    .dataframe tbody tr th {\n",
       "        vertical-align: top;\n",
       "    }\n",
       "\n",
       "    .dataframe thead th {\n",
       "        text-align: right;\n",
       "    }\n",
       "</style>\n",
       "<table border=\"1\" class=\"dataframe\">\n",
       "  <thead>\n",
       "    <tr style=\"text-align: right;\">\n",
       "      <th></th>\n",
       "      <th>Tweet</th>\n",
       "      <th>Tweets for Form</th>\n",
       "    </tr>\n",
       "  </thead>\n",
       "  <tbody>\n",
       "    <tr>\n",
       "      <th>0</th>\n",
       "      <td>PRE - A year ago Any progress from the winning...</td>\n",
       "      <td>A year ago Any progress from the winning candi...</td>\n",
       "    </tr>\n",
       "    <tr>\n",
       "      <th>1</th>\n",
       "      <td>PRE - Bongbong Marcos Sara Duterte express dee...</td>\n",
       "      <td>Bongbong Marcos Sara Duterte express deepest g...</td>\n",
       "    </tr>\n",
       "    <tr>\n",
       "      <th>2</th>\n",
       "      <td>PRE - I decide I only vote for BBM SARA DUTERT...</td>\n",
       "      <td>I decide I only vote for BBM SARA DUTERTE PULA...</td>\n",
       "    </tr>\n",
       "    <tr>\n",
       "      <th>3</th>\n",
       "      <td>PRE - Mr Bbm and Ms Sara Duterte are obviously...</td>\n",
       "      <td>Mr Bbm and Ms Sara Duterte are obviously will ...</td>\n",
       "    </tr>\n",
       "    <tr>\n",
       "      <th>4</th>\n",
       "      <td>PRE - THE CROWD IS INSANE BBM YOULL FOREVER BE...</td>\n",
       "      <td>THE CROWD IS INSANE BBM YOULL FOREVER BE INSAN...</td>\n",
       "    </tr>\n",
       "    <tr>\n",
       "      <th>...</th>\n",
       "      <td>...</td>\n",
       "      <td>...</td>\n",
       "    </tr>\n",
       "    <tr>\n",
       "      <th>13202</th>\n",
       "      <td>POST - Dictator Ferdinand Marcos from the Phil...</td>\n",
       "      <td>Dictator Ferdinand Marcos from the Philippines...</td>\n",
       "    </tr>\n",
       "    <tr>\n",
       "      <th>13203</th>\n",
       "      <td>POST - This election rewrites history People v...</td>\n",
       "      <td>This election rewrites history People voted fo...</td>\n",
       "    </tr>\n",
       "    <tr>\n",
       "      <th>13204</th>\n",
       "      <td>POST - Hey its a free country No one has monop...</td>\n",
       "      <td>Hey its a free country No one has monopoly of ...</td>\n",
       "    </tr>\n",
       "    <tr>\n",
       "      <th>13205</th>\n",
       "      <td>POST - HALAlan hashtagElection2022PH</td>\n",
       "      <td>HALAlan hashtagElection2022PH</td>\n",
       "    </tr>\n",
       "    <tr>\n",
       "      <th>13206</th>\n",
       "      <td>POST - Cheating malalim na sugat kahit mahilom...</td>\n",
       "      <td>Cheating malalim na sugat kahit mahilom mahira...</td>\n",
       "    </tr>\n",
       "  </tbody>\n",
       "</table>\n",
       "<p>13207 rows × 2 columns</p>\n",
       "</div>"
      ],
      "text/plain": [
       "                                                   Tweet  \\\n",
       "0      PRE - A year ago Any progress from the winning...   \n",
       "1      PRE - Bongbong Marcos Sara Duterte express dee...   \n",
       "2      PRE - I decide I only vote for BBM SARA DUTERT...   \n",
       "3      PRE - Mr Bbm and Ms Sara Duterte are obviously...   \n",
       "4      PRE - THE CROWD IS INSANE BBM YOULL FOREVER BE...   \n",
       "...                                                  ...   \n",
       "13202  POST - Dictator Ferdinand Marcos from the Phil...   \n",
       "13203  POST - This election rewrites history People v...   \n",
       "13204  POST - Hey its a free country No one has monop...   \n",
       "13205               POST - HALAlan hashtagElection2022PH   \n",
       "13206  POST - Cheating malalim na sugat kahit mahilom...   \n",
       "\n",
       "                                         Tweets for Form  \n",
       "0      A year ago Any progress from the winning candi...  \n",
       "1      Bongbong Marcos Sara Duterte express deepest g...  \n",
       "2      I decide I only vote for BBM SARA DUTERTE PULA...  \n",
       "3      Mr Bbm and Ms Sara Duterte are obviously will ...  \n",
       "4      THE CROWD IS INSANE BBM YOULL FOREVER BE INSAN...  \n",
       "...                                                  ...  \n",
       "13202  Dictator Ferdinand Marcos from the Philippines...  \n",
       "13203  This election rewrites history People voted fo...  \n",
       "13204  Hey its a free country No one has monopoly of ...  \n",
       "13205                      HALAlan hashtagElection2022PH  \n",
       "13206  Cheating malalim na sugat kahit mahilom mahira...  \n",
       "\n",
       "[13207 rows x 2 columns]"
      ]
     },
     "execution_count": 25,
     "metadata": {},
     "output_type": "execute_result"
    }
   ],
   "source": [
    "dataset"
   ]
  },
  {
   "cell_type": "code",
   "execution_count": 26,
   "metadata": {},
   "outputs": [],
   "source": [
    "dataset.to_csv('label_guide.csv', index=False)"
   ]
  }
 ],
 "metadata": {
  "kernelspec": {
   "display_name": "Python 3",
   "language": "python",
   "name": "python3"
  },
  "language_info": {
   "codemirror_mode": {
    "name": "ipython",
    "version": 3
   },
   "file_extension": ".py",
   "mimetype": "text/x-python",
   "name": "python",
   "nbconvert_exporter": "python",
   "pygments_lexer": "ipython3",
   "version": "3.10.11"
  }
 },
 "nbformat": 4,
 "nbformat_minor": 2
}
