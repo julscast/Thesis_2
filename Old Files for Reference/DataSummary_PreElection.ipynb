{
 "cells": [
  {
   "cell_type": "markdown",
   "metadata": {},
   "source": [
    "##### Pre-Election Dataset as of 10/19/2023"
   ]
  },
  {
   "cell_type": "code",
   "execution_count": 23,
   "metadata": {},
   "outputs": [],
   "source": [
    "import pandas as pd\n",
    "import numpy as np\n",
    "import matplotlib as plt\n",
    "import regex as re\n",
    "import emoji\n",
    "import seaborn as sns"
   ]
  },
  {
   "cell_type": "code",
   "execution_count": 24,
   "metadata": {},
   "outputs": [],
   "source": [
    "dataset = pd.read_csv('preelection.csv')"
   ]
  },
  {
   "cell_type": "code",
   "execution_count": 25,
   "metadata": {},
   "outputs": [
    {
     "data": {
      "text/html": [
       "<div>\n",
       "<style scoped>\n",
       "    .dataframe tbody tr th:only-of-type {\n",
       "        vertical-align: middle;\n",
       "    }\n",
       "\n",
       "    .dataframe tbody tr th {\n",
       "        vertical-align: top;\n",
       "    }\n",
       "\n",
       "    .dataframe thead th {\n",
       "        text-align: right;\n",
       "    }\n",
       "</style>\n",
       "<table border=\"1\" class=\"dataframe\">\n",
       "  <thead>\n",
       "    <tr style=\"text-align: right;\">\n",
       "      <th></th>\n",
       "      <th>Number of Retweets</th>\n",
       "    </tr>\n",
       "  </thead>\n",
       "  <tbody>\n",
       "    <tr>\n",
       "      <th>count</th>\n",
       "      <td>3405.000000</td>\n",
       "    </tr>\n",
       "    <tr>\n",
       "      <th>mean</th>\n",
       "      <td>22.797063</td>\n",
       "    </tr>\n",
       "    <tr>\n",
       "      <th>std</th>\n",
       "      <td>178.719840</td>\n",
       "    </tr>\n",
       "    <tr>\n",
       "      <th>min</th>\n",
       "      <td>0.000000</td>\n",
       "    </tr>\n",
       "    <tr>\n",
       "      <th>25%</th>\n",
       "      <td>0.000000</td>\n",
       "    </tr>\n",
       "    <tr>\n",
       "      <th>50%</th>\n",
       "      <td>1.000000</td>\n",
       "    </tr>\n",
       "    <tr>\n",
       "      <th>75%</th>\n",
       "      <td>11.000000</td>\n",
       "    </tr>\n",
       "    <tr>\n",
       "      <th>max</th>\n",
       "      <td>7463.000000</td>\n",
       "    </tr>\n",
       "  </tbody>\n",
       "</table>\n",
       "</div>"
      ],
      "text/plain": [
       "       Number of Retweets\n",
       "count         3405.000000\n",
       "mean            22.797063\n",
       "std            178.719840\n",
       "min              0.000000\n",
       "25%              0.000000\n",
       "50%              1.000000\n",
       "75%             11.000000\n",
       "max           7463.000000"
      ]
     },
     "execution_count": 25,
     "metadata": {},
     "output_type": "execute_result"
    }
   ],
   "source": [
    "dataset.describe()"
   ]
  },
  {
   "cell_type": "code",
   "execution_count": 26,
   "metadata": {},
   "outputs": [
    {
     "data": {
      "text/html": [
       "<div>\n",
       "<style scoped>\n",
       "    .dataframe tbody tr th:only-of-type {\n",
       "        vertical-align: middle;\n",
       "    }\n",
       "\n",
       "    .dataframe tbody tr th {\n",
       "        vertical-align: top;\n",
       "    }\n",
       "\n",
       "    .dataframe thead th {\n",
       "        text-align: right;\n",
       "    }\n",
       "</style>\n",
       "<table border=\"1\" class=\"dataframe\">\n",
       "  <thead>\n",
       "    <tr style=\"text-align: right;\">\n",
       "      <th></th>\n",
       "      <th>Tweets</th>\n",
       "      <th>Date</th>\n",
       "      <th>Username</th>\n",
       "      <th>Number of Retweets</th>\n",
       "      <th>Number of Likes</th>\n",
       "    </tr>\n",
       "  </thead>\n",
       "  <tbody>\n",
       "    <tr>\n",
       "      <th>0</th>\n",
       "      <td>A year ago! Any progress from the winning cand...</td>\n",
       "      <td>5/5/2022</td>\n",
       "      <td>youth4climatePH</td>\n",
       "      <td>1.0</td>\n",
       "      <td>1</td>\n",
       "    </tr>\n",
       "    <tr>\n",
       "      <th>1</th>\n",
       "      <td>Bongbong Marcos, Sara Duterte express deepest ...</td>\n",
       "      <td>5/4/2022</td>\n",
       "      <td>BayanihanToday</td>\n",
       "      <td>22.0</td>\n",
       "      <td>166</td>\n",
       "    </tr>\n",
       "    <tr>\n",
       "      <th>2</th>\n",
       "      <td>I decide I only vote for\\r\\nBBM❤️ SARA DUTERTE...</td>\n",
       "      <td>5/7/2022</td>\n",
       "      <td>pjmscheesecake_</td>\n",
       "      <td>1.0</td>\n",
       "      <td>1</td>\n",
       "    </tr>\n",
       "    <tr>\n",
       "      <th>3</th>\n",
       "      <td>Mr. Bbm and Ms. Sara Duterte are obviously wil...</td>\n",
       "      <td>5/4/2022</td>\n",
       "      <td>Wonderwomanneph</td>\n",
       "      <td>0.0</td>\n",
       "      <td>0</td>\n",
       "    </tr>\n",
       "    <tr>\n",
       "      <th>4</th>\n",
       "      <td>THE CROWD IS INSANE. BBM YOULL FOREVER BE INSA...</td>\n",
       "      <td>5/7/2022</td>\n",
       "      <td>queen_pinksss</td>\n",
       "      <td>601.0</td>\n",
       "      <td>2745</td>\n",
       "    </tr>\n",
       "  </tbody>\n",
       "</table>\n",
       "</div>"
      ],
      "text/plain": [
       "                                              Tweets      Date  \\\n",
       "0  A year ago! Any progress from the winning cand...  5/5/2022   \n",
       "1  Bongbong Marcos, Sara Duterte express deepest ...  5/4/2022   \n",
       "2  I decide I only vote for\\r\\nBBM❤️ SARA DUTERTE...  5/7/2022   \n",
       "3  Mr. Bbm and Ms. Sara Duterte are obviously wil...  5/4/2022   \n",
       "4  THE CROWD IS INSANE. BBM YOULL FOREVER BE INSA...  5/7/2022   \n",
       "\n",
       "          Username  Number of Retweets Number of Likes  \n",
       "0  youth4climatePH                 1.0               1  \n",
       "1   BayanihanToday                22.0             166  \n",
       "2  pjmscheesecake_                 1.0               1  \n",
       "3  Wonderwomanneph                 0.0               0  \n",
       "4    queen_pinksss               601.0            2745  "
      ]
     },
     "execution_count": 26,
     "metadata": {},
     "output_type": "execute_result"
    }
   ],
   "source": [
    "dataset.head()"
   ]
  },
  {
   "cell_type": "markdown",
   "metadata": {},
   "source": [
    "### Date Frequency"
   ]
  },
  {
   "cell_type": "code",
   "execution_count": 27,
   "metadata": {},
   "outputs": [
    {
     "data": {
      "text/plain": [
       "Date\n",
       "5/6/2022     727\n",
       "5/5/2022     557\n",
       "5/7/2022     520\n",
       "5/4/2022     402\n",
       "5/3/2022     299\n",
       "5/2/2022     248\n",
       "5/1/2022     175\n",
       "4/29/2022    174\n",
       "4/27/2022    125\n",
       "4/30/2022    118\n",
       "4/28/2022     34\n",
       "5/12/2022      3\n",
       "5/11/2022      2\n",
       "5/22/2022      1\n",
       "5/31/2022      1\n",
       "5/30/2022      1\n",
       "5/29/2022      1\n",
       "5/28/2022      1\n",
       "5/27/2022      1\n",
       "5/26/2022      1\n",
       "5/25/2022      1\n",
       "5/24/2022      1\n",
       "5/23/2022      1\n",
       "5/17/2022      1\n",
       "5/21/2022      1\n",
       "5/20/2022      1\n",
       "5/19/2022      1\n",
       "5/18/2022      1\n",
       "5/16/2022      1\n",
       "5/15/2022      1\n",
       "5/14/2022      1\n",
       "5/13/2022      1\n",
       "5/10/2022      1\n",
       "5/9/2022       1\n",
       "5/8/2022       1\n",
       "6/5/2022       1\n",
       "Name: count, dtype: int64"
      ]
     },
     "execution_count": 27,
     "metadata": {},
     "output_type": "execute_result"
    }
   ],
   "source": [
    "dataset[\"Date\"].value_counts(ascending=False)"
   ]
  },
  {
   "cell_type": "markdown",
   "metadata": {},
   "source": [
    "### User Frequency"
   ]
  },
  {
   "cell_type": "code",
   "execution_count": 28,
   "metadata": {},
   "outputs": [
    {
     "data": {
      "text/plain": [
       "Username\n",
       "ABSCBNNews            51\n",
       "@mxcachu              46\n",
       "@ABSCBNNews           41\n",
       "ABSCBNNews\\r\\n        40\n",
       "PhilippineStar\\r\\n    33\n",
       "                      ..\n",
       "CEUmanila\\n            1\n",
       "elzyl\\r                1\n",
       "Visayanbizpost\\r       1\n",
       "mm_catiil\\r            1\n",
       "jaereports\\r\\n         1\n",
       "Name: count, Length: 2204, dtype: int64"
      ]
     },
     "execution_count": 28,
     "metadata": {},
     "output_type": "execute_result"
    }
   ],
   "source": [
    "dataset['Username'].value_counts(ascending=False)"
   ]
  },
  {
   "cell_type": "markdown",
   "metadata": {},
   "source": [
    "### Users Based on Hashtag Used For Search"
   ]
  },
  {
   "cell_type": "code",
   "execution_count": 29,
   "metadata": {},
   "outputs": [],
   "source": [
    "dataset['Tweets'] = dataset['Tweets'].astype(str)"
   ]
  },
  {
   "cell_type": "markdown",
   "metadata": {},
   "source": [
    "#### Halalan2022\n"
   ]
  },
  {
   "cell_type": "markdown",
   "metadata": {},
   "source": [
    "#### Eleksyon2022"
   ]
  },
  {
   "cell_type": "markdown",
   "metadata": {},
   "source": [
    "#### BilangPilipino2022"
   ]
  },
  {
   "cell_type": "markdown",
   "metadata": {},
   "source": [
    "#### Election2022PH"
   ]
  },
  {
   "cell_type": "markdown",
   "metadata": {},
   "source": [
    "### Hashtag Frequency"
   ]
  },
  {
   "cell_type": "markdown",
   "metadata": {},
   "source": [
    "### Emoji Frequency"
   ]
  },
  {
   "cell_type": "code",
   "execution_count": 30,
   "metadata": {},
   "outputs": [],
   "source": [
    "import spacy\n",
    "from spacymoji import Emoji"
   ]
  },
  {
   "cell_type": "code",
   "execution_count": 31,
   "metadata": {},
   "outputs": [
    {
     "data": {
      "text/plain": [
       "<spacymoji.Emoji at 0x13788013f70>"
      ]
     },
     "execution_count": 31,
     "metadata": {},
     "output_type": "execute_result"
    }
   ],
   "source": [
    "nlp = spacy.load(\"en_core_web_sm\")\n",
    "emoji = Emoji(nlp)\n",
    "nlp.add_pipe(\"emoji\", first=True)"
   ]
  },
  {
   "cell_type": "code",
   "execution_count": 32,
   "metadata": {},
   "outputs": [
    {
     "data": {
      "text/plain": [
       "['emoji',\n",
       " 'tok2vec',\n",
       " 'tagger',\n",
       " 'parser',\n",
       " 'attribute_ruler',\n",
       " 'lemmatizer',\n",
       " 'ner']"
      ]
     },
     "execution_count": 32,
     "metadata": {},
     "output_type": "execute_result"
    }
   ],
   "source": [
    "nlp.pipe_names"
   ]
  },
  {
   "cell_type": "code",
   "execution_count": 33,
   "metadata": {},
   "outputs": [
    {
     "data": {
      "text/html": [
       "<div>\n",
       "<style scoped>\n",
       "    .dataframe tbody tr th:only-of-type {\n",
       "        vertical-align: middle;\n",
       "    }\n",
       "\n",
       "    .dataframe tbody tr th {\n",
       "        vertical-align: top;\n",
       "    }\n",
       "\n",
       "    .dataframe thead th {\n",
       "        text-align: right;\n",
       "    }\n",
       "</style>\n",
       "<table border=\"1\" class=\"dataframe\">\n",
       "  <thead>\n",
       "    <tr style=\"text-align: right;\">\n",
       "      <th></th>\n",
       "      <th>Tweets</th>\n",
       "      <th>Date</th>\n",
       "      <th>Username</th>\n",
       "      <th>Number of Retweets</th>\n",
       "      <th>Number of Likes</th>\n",
       "    </tr>\n",
       "  </thead>\n",
       "  <tbody>\n",
       "    <tr>\n",
       "      <th>0</th>\n",
       "      <td>A year ago! Any progress from the winning cand...</td>\n",
       "      <td>5/5/2022</td>\n",
       "      <td>youth4climatePH</td>\n",
       "      <td>1.0</td>\n",
       "      <td>1</td>\n",
       "    </tr>\n",
       "    <tr>\n",
       "      <th>1</th>\n",
       "      <td>Bongbong Marcos, Sara Duterte express deepest ...</td>\n",
       "      <td>5/4/2022</td>\n",
       "      <td>BayanihanToday</td>\n",
       "      <td>22.0</td>\n",
       "      <td>166</td>\n",
       "    </tr>\n",
       "    <tr>\n",
       "      <th>2</th>\n",
       "      <td>I decide I only vote for\\r\\nBBM❤️ SARA DUTERTE...</td>\n",
       "      <td>5/7/2022</td>\n",
       "      <td>pjmscheesecake_</td>\n",
       "      <td>1.0</td>\n",
       "      <td>1</td>\n",
       "    </tr>\n",
       "    <tr>\n",
       "      <th>3</th>\n",
       "      <td>Mr. Bbm and Ms. Sara Duterte are obviously wil...</td>\n",
       "      <td>5/4/2022</td>\n",
       "      <td>Wonderwomanneph</td>\n",
       "      <td>0.0</td>\n",
       "      <td>0</td>\n",
       "    </tr>\n",
       "    <tr>\n",
       "      <th>4</th>\n",
       "      <td>THE CROWD IS INSANE. BBM YOULL FOREVER BE INSA...</td>\n",
       "      <td>5/7/2022</td>\n",
       "      <td>queen_pinksss</td>\n",
       "      <td>601.0</td>\n",
       "      <td>2745</td>\n",
       "    </tr>\n",
       "  </tbody>\n",
       "</table>\n",
       "</div>"
      ],
      "text/plain": [
       "                                              Tweets      Date  \\\n",
       "0  A year ago! Any progress from the winning cand...  5/5/2022   \n",
       "1  Bongbong Marcos, Sara Duterte express deepest ...  5/4/2022   \n",
       "2  I decide I only vote for\\r\\nBBM❤️ SARA DUTERTE...  5/7/2022   \n",
       "3  Mr. Bbm and Ms. Sara Duterte are obviously wil...  5/4/2022   \n",
       "4  THE CROWD IS INSANE. BBM YOULL FOREVER BE INSA...  5/7/2022   \n",
       "\n",
       "          Username  Number of Retweets Number of Likes  \n",
       "0  youth4climatePH                 1.0               1  \n",
       "1   BayanihanToday                22.0             166  \n",
       "2  pjmscheesecake_                 1.0               1  \n",
       "3  Wonderwomanneph                 0.0               0  \n",
       "4    queen_pinksss               601.0            2745  "
      ]
     },
     "execution_count": 33,
     "metadata": {},
     "output_type": "execute_result"
    }
   ],
   "source": [
    "dataset.head()"
   ]
  },
  {
   "cell_type": "code",
   "execution_count": 34,
   "metadata": {},
   "outputs": [
    {
     "data": {
      "text/html": [
       "<div>\n",
       "<style scoped>\n",
       "    .dataframe tbody tr th:only-of-type {\n",
       "        vertical-align: middle;\n",
       "    }\n",
       "\n",
       "    .dataframe tbody tr th {\n",
       "        vertical-align: top;\n",
       "    }\n",
       "\n",
       "    .dataframe thead th {\n",
       "        text-align: right;\n",
       "    }\n",
       "</style>\n",
       "<table border=\"1\" class=\"dataframe\">\n",
       "  <thead>\n",
       "    <tr style=\"text-align: right;\">\n",
       "      <th></th>\n",
       "      <th>Tweets</th>\n",
       "      <th>Date</th>\n",
       "      <th>Username</th>\n",
       "      <th>Number of Retweets</th>\n",
       "      <th>Number of Likes</th>\n",
       "    </tr>\n",
       "  </thead>\n",
       "  <tbody>\n",
       "    <tr>\n",
       "      <th>0</th>\n",
       "      <td>A year ago! Any progress from the winning cand...</td>\n",
       "      <td>5/5/2022</td>\n",
       "      <td>youth4climatePH</td>\n",
       "      <td>1.0</td>\n",
       "      <td>1</td>\n",
       "    </tr>\n",
       "    <tr>\n",
       "      <th>1</th>\n",
       "      <td>Bongbong Marcos, Sara Duterte express deepest ...</td>\n",
       "      <td>5/4/2022</td>\n",
       "      <td>BayanihanToday</td>\n",
       "      <td>22.0</td>\n",
       "      <td>166</td>\n",
       "    </tr>\n",
       "    <tr>\n",
       "      <th>2</th>\n",
       "      <td>I decide I only vote for\\r\\nBBM❤️ SARA DUTERTE...</td>\n",
       "      <td>5/7/2022</td>\n",
       "      <td>pjmscheesecake_</td>\n",
       "      <td>1.0</td>\n",
       "      <td>1</td>\n",
       "    </tr>\n",
       "    <tr>\n",
       "      <th>3</th>\n",
       "      <td>Mr. Bbm and Ms. Sara Duterte are obviously wil...</td>\n",
       "      <td>5/4/2022</td>\n",
       "      <td>Wonderwomanneph</td>\n",
       "      <td>0.0</td>\n",
       "      <td>0</td>\n",
       "    </tr>\n",
       "    <tr>\n",
       "      <th>4</th>\n",
       "      <td>THE CROWD IS INSANE. BBM YOULL FOREVER BE INSA...</td>\n",
       "      <td>5/7/2022</td>\n",
       "      <td>queen_pinksss</td>\n",
       "      <td>601.0</td>\n",
       "      <td>2745</td>\n",
       "    </tr>\n",
       "    <tr>\n",
       "      <th>...</th>\n",
       "      <td>...</td>\n",
       "      <td>...</td>\n",
       "      <td>...</td>\n",
       "      <td>...</td>\n",
       "      <td>...</td>\n",
       "    </tr>\n",
       "    <tr>\n",
       "      <th>3402</th>\n",
       "      <td>Heartbreaking that independent pollsters have ...</td>\n",
       "      <td>5/4/2022</td>\n",
       "      <td>jonathan_c_ong\\r\\n</td>\n",
       "      <td>12.0</td>\n",
       "      <td>50</td>\n",
       "    </tr>\n",
       "    <tr>\n",
       "      <th>3403</th>\n",
       "      <td>Dropped off my daughter this morning then proc...</td>\n",
       "      <td>4/29/2022</td>\n",
       "      <td>jjjohaira\\r\\n</td>\n",
       "      <td>0.0</td>\n",
       "      <td>9</td>\n",
       "    </tr>\n",
       "    <tr>\n",
       "      <th>3404</th>\n",
       "      <td>Hindi lang yon. Yung kasalanan ng dilawan, kas...</td>\n",
       "      <td>5/2/2022</td>\n",
       "      <td>pilipinoako2022\\r</td>\n",
       "      <td>0.0</td>\n",
       "      <td>0</td>\n",
       "    </tr>\n",
       "    <tr>\n",
       "      <th>3405</th>\n",
       "      <td>Vote \\r\\n@rowena_guanzon\\r\\n and \\r\\n@P3PWD_PL...</td>\n",
       "      <td>4/29/2022</td>\n",
       "      <td>jaereports\\r\\n</td>\n",
       "      <td>1.0</td>\n",
       "      <td>8</td>\n",
       "    </tr>\n",
       "    <tr>\n",
       "      <th>3406</th>\n",
       "      <td>This elections, never forget those who voted a...</td>\n",
       "      <td>5/5/2022</td>\n",
       "      <td>nujp\\r\\n</td>\n",
       "      <td>20.0</td>\n",
       "      <td>22</td>\n",
       "    </tr>\n",
       "  </tbody>\n",
       "</table>\n",
       "<p>3407 rows × 5 columns</p>\n",
       "</div>"
      ],
      "text/plain": [
       "                                                 Tweets       Date  \\\n",
       "0     A year ago! Any progress from the winning cand...   5/5/2022   \n",
       "1     Bongbong Marcos, Sara Duterte express deepest ...   5/4/2022   \n",
       "2     I decide I only vote for\\r\\nBBM❤️ SARA DUTERTE...   5/7/2022   \n",
       "3     Mr. Bbm and Ms. Sara Duterte are obviously wil...   5/4/2022   \n",
       "4     THE CROWD IS INSANE. BBM YOULL FOREVER BE INSA...   5/7/2022   \n",
       "...                                                 ...        ...   \n",
       "3402  Heartbreaking that independent pollsters have ...   5/4/2022   \n",
       "3403  Dropped off my daughter this morning then proc...  4/29/2022   \n",
       "3404  Hindi lang yon. Yung kasalanan ng dilawan, kas...   5/2/2022   \n",
       "3405  Vote \\r\\n@rowena_guanzon\\r\\n and \\r\\n@P3PWD_PL...  4/29/2022   \n",
       "3406  This elections, never forget those who voted a...   5/5/2022   \n",
       "\n",
       "                Username  Number of Retweets Number of Likes  \n",
       "0        youth4climatePH                 1.0               1  \n",
       "1         BayanihanToday                22.0             166  \n",
       "2        pjmscheesecake_                 1.0               1  \n",
       "3        Wonderwomanneph                 0.0               0  \n",
       "4          queen_pinksss               601.0            2745  \n",
       "...                  ...                 ...             ...  \n",
       "3402  jonathan_c_ong\\r\\n                12.0              50  \n",
       "3403       jjjohaira\\r\\n                 0.0               9  \n",
       "3404   pilipinoako2022\\r                 0.0               0  \n",
       "3405      jaereports\\r\\n                 1.0               8  \n",
       "3406            nujp\\r\\n                20.0              22  \n",
       "\n",
       "[3407 rows x 5 columns]"
      ]
     },
     "execution_count": 34,
     "metadata": {},
     "output_type": "execute_result"
    }
   ],
   "source": [
    "dataset_emojis = pd.read_csv('PreElection.csv')\n",
    "dataset_emojis"
   ]
  },
  {
   "cell_type": "code",
   "execution_count": 35,
   "metadata": {},
   "outputs": [
    {
     "data": {
      "text/html": [
       "<div>\n",
       "<style scoped>\n",
       "    .dataframe tbody tr th:only-of-type {\n",
       "        vertical-align: middle;\n",
       "    }\n",
       "\n",
       "    .dataframe tbody tr th {\n",
       "        vertical-align: top;\n",
       "    }\n",
       "\n",
       "    .dataframe thead th {\n",
       "        text-align: right;\n",
       "    }\n",
       "</style>\n",
       "<table border=\"1\" class=\"dataframe\">\n",
       "  <thead>\n",
       "    <tr style=\"text-align: right;\">\n",
       "      <th></th>\n",
       "      <th>Tweets</th>\n",
       "    </tr>\n",
       "  </thead>\n",
       "  <tbody>\n",
       "    <tr>\n",
       "      <th>0</th>\n",
       "      <td>A year ago! Any progress from the winning cand...</td>\n",
       "    </tr>\n",
       "    <tr>\n",
       "      <th>1</th>\n",
       "      <td>Bongbong Marcos, Sara Duterte express deepest ...</td>\n",
       "    </tr>\n",
       "    <tr>\n",
       "      <th>2</th>\n",
       "      <td>I decide I only vote for\\r\\nBBM❤️ SARA DUTERTE...</td>\n",
       "    </tr>\n",
       "    <tr>\n",
       "      <th>3</th>\n",
       "      <td>Mr. Bbm and Ms. Sara Duterte are obviously wil...</td>\n",
       "    </tr>\n",
       "    <tr>\n",
       "      <th>4</th>\n",
       "      <td>THE CROWD IS INSANE. BBM YOULL FOREVER BE INSA...</td>\n",
       "    </tr>\n",
       "    <tr>\n",
       "      <th>...</th>\n",
       "      <td>...</td>\n",
       "    </tr>\n",
       "    <tr>\n",
       "      <th>3402</th>\n",
       "      <td>Heartbreaking that independent pollsters have ...</td>\n",
       "    </tr>\n",
       "    <tr>\n",
       "      <th>3403</th>\n",
       "      <td>Dropped off my daughter this morning then proc...</td>\n",
       "    </tr>\n",
       "    <tr>\n",
       "      <th>3404</th>\n",
       "      <td>Hindi lang yon. Yung kasalanan ng dilawan, kas...</td>\n",
       "    </tr>\n",
       "    <tr>\n",
       "      <th>3405</th>\n",
       "      <td>Vote \\r\\n@rowena_guanzon\\r\\n and \\r\\n@P3PWD_PL...</td>\n",
       "    </tr>\n",
       "    <tr>\n",
       "      <th>3406</th>\n",
       "      <td>This elections, never forget those who voted a...</td>\n",
       "    </tr>\n",
       "  </tbody>\n",
       "</table>\n",
       "<p>3407 rows × 1 columns</p>\n",
       "</div>"
      ],
      "text/plain": [
       "                                                 Tweets\n",
       "0     A year ago! Any progress from the winning cand...\n",
       "1     Bongbong Marcos, Sara Duterte express deepest ...\n",
       "2     I decide I only vote for\\r\\nBBM❤️ SARA DUTERTE...\n",
       "3     Mr. Bbm and Ms. Sara Duterte are obviously wil...\n",
       "4     THE CROWD IS INSANE. BBM YOULL FOREVER BE INSA...\n",
       "...                                                 ...\n",
       "3402  Heartbreaking that independent pollsters have ...\n",
       "3403  Dropped off my daughter this morning then proc...\n",
       "3404  Hindi lang yon. Yung kasalanan ng dilawan, kas...\n",
       "3405  Vote \\r\\n@rowena_guanzon\\r\\n and \\r\\n@P3PWD_PL...\n",
       "3406  This elections, never forget those who voted a...\n",
       "\n",
       "[3407 rows x 1 columns]"
      ]
     },
     "execution_count": 35,
     "metadata": {},
     "output_type": "execute_result"
    }
   ],
   "source": [
    "dataset_emojis.drop(['Date','Username','Number of Retweets','Number of Likes'],axis=1, inplace=True)\n",
    "dataset_emojis"
   ]
  },
  {
   "cell_type": "code",
   "execution_count": 36,
   "metadata": {},
   "outputs": [],
   "source": [
    "dataset_emojis['Tweets'] = dataset_emojis['Tweets'].astype(str)"
   ]
  },
  {
   "cell_type": "code",
   "execution_count": 37,
   "metadata": {},
   "outputs": [
    {
     "data": {
      "text/plain": [
       "0           [😉]\n",
       "1            []\n",
       "2       [❤️, 💚]\n",
       "3            []\n",
       "4            []\n",
       "         ...   \n",
       "3402         []\n",
       "3403         []\n",
       "3404         []\n",
       "3405         []\n",
       "3406         []\n",
       "Length: 3407, dtype: object"
      ]
     },
     "execution_count": 37,
     "metadata": {},
     "output_type": "execute_result"
    }
   ],
   "source": [
    "def extract_emojies(x):\n",
    "  doc = nlp(x['Tweets']) #with emojis\n",
    "  emojis = [token.text for token in doc if token._.is_emoji]\n",
    "  \n",
    "  return emojis\n",
    "\n",
    "emojies_df = dataset_emojis.apply(extract_emojies,axis=1)\n",
    "emojies_df"
   ]
  },
  {
   "cell_type": "code",
   "execution_count": 38,
   "metadata": {},
   "outputs": [
    {
     "name": "stderr",
     "output_type": "stream",
     "text": [
      "C:\\Users\\casti\\AppData\\Local\\Temp\\ipykernel_19884\\828530368.py:2: FutureWarning: Returning a DataFrame from Series.apply when the supplied function returns a Series is deprecated and will be removed in a future version.\n",
      "  .apply(pd.Series) #breaks up the list into seperate columns\n"
     ]
    },
    {
     "data": {
      "text/html": [
       "<div>\n",
       "<style scoped>\n",
       "    .dataframe tbody tr th:only-of-type {\n",
       "        vertical-align: middle;\n",
       "    }\n",
       "\n",
       "    .dataframe tbody tr th {\n",
       "        vertical-align: top;\n",
       "    }\n",
       "\n",
       "    .dataframe thead th {\n",
       "        text-align: right;\n",
       "    }\n",
       "</style>\n",
       "<table border=\"1\" class=\"dataframe\">\n",
       "  <thead>\n",
       "    <tr style=\"text-align: right;\">\n",
       "      <th></th>\n",
       "      <th>Emoji</th>\n",
       "      <th>Count</th>\n",
       "    </tr>\n",
       "  </thead>\n",
       "  <tbody>\n",
       "    <tr>\n",
       "      <th>0</th>\n",
       "      <td>💌</td>\n",
       "      <td>1</td>\n",
       "    </tr>\n",
       "    <tr>\n",
       "      <th>1</th>\n",
       "      <td>💟</td>\n",
       "      <td>1</td>\n",
       "    </tr>\n",
       "    <tr>\n",
       "      <th>2</th>\n",
       "      <td>🤷</td>\n",
       "      <td>1</td>\n",
       "    </tr>\n",
       "    <tr>\n",
       "      <th>3</th>\n",
       "      <td>🛎</td>\n",
       "      <td>1</td>\n",
       "    </tr>\n",
       "    <tr>\n",
       "      <th>4</th>\n",
       "      <td>😣</td>\n",
       "      <td>1</td>\n",
       "    </tr>\n",
       "    <tr>\n",
       "      <th>...</th>\n",
       "      <td>...</td>\n",
       "      <td>...</td>\n",
       "    </tr>\n",
       "    <tr>\n",
       "      <th>256</th>\n",
       "      <td>💙</td>\n",
       "      <td>63</td>\n",
       "    </tr>\n",
       "    <tr>\n",
       "      <th>257</th>\n",
       "      <td>💚</td>\n",
       "      <td>96</td>\n",
       "    </tr>\n",
       "    <tr>\n",
       "      <th>258</th>\n",
       "      <td>🌸</td>\n",
       "      <td>120</td>\n",
       "    </tr>\n",
       "    <tr>\n",
       "      <th>259</th>\n",
       "      <td>🗳️</td>\n",
       "      <td>203</td>\n",
       "    </tr>\n",
       "    <tr>\n",
       "      <th>260</th>\n",
       "      <td>🇵🇭</td>\n",
       "      <td>333</td>\n",
       "    </tr>\n",
       "  </tbody>\n",
       "</table>\n",
       "<p>261 rows × 2 columns</p>\n",
       "</div>"
      ],
      "text/plain": [
       "    Emoji  Count\n",
       "0       💌      1\n",
       "1       💟      1\n",
       "2       🤷      1\n",
       "3       🛎      1\n",
       "4       😣      1\n",
       "..    ...    ...\n",
       "256     💙     63\n",
       "257     💚     96\n",
       "258     🌸    120\n",
       "259    🗳️    203\n",
       "260    🇵🇭    333\n",
       "\n",
       "[261 rows x 2 columns]"
      ]
     },
     "execution_count": 38,
     "metadata": {},
     "output_type": "execute_result"
    }
   ],
   "source": [
    "emoji_counts = (emojies_df\n",
    "                .apply(pd.Series) #breaks up the list into seperate columns \n",
    "                .stack() #collapses each column into one column\n",
    "                .value_counts() #counts the frequency of each item\n",
    "                .rename('Count')\n",
    "                .sort_values()\n",
    "                .reset_index()\n",
    "                .rename(columns={'index':'Emoji'}))\n",
    "emoji_counts"
   ]
  }
 ],
 "metadata": {
  "kernelspec": {
   "display_name": "Python 3",
   "language": "python",
   "name": "python3"
  },
  "language_info": {
   "codemirror_mode": {
    "name": "ipython",
    "version": 3
   },
   "file_extension": ".py",
   "mimetype": "text/x-python",
   "name": "python",
   "nbconvert_exporter": "python",
   "pygments_lexer": "ipython3",
   "version": "3.10.11"
  }
 },
 "nbformat": 4,
 "nbformat_minor": 2
}
