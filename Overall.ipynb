{
 "cells": [
  {
   "cell_type": "markdown",
   "metadata": {},
   "source": [
    "## Importing Libraries"
   ]
  },
  {
   "cell_type": "code",
   "execution_count": 70,
   "metadata": {},
   "outputs": [
    {
     "name": "stderr",
     "output_type": "stream",
     "text": [
      "[nltk_data] Downloading package wordnet to\n",
      "[nltk_data]     C:\\Users\\casti\\AppData\\Roaming\\nltk_data...\n",
      "[nltk_data]   Package wordnet is already up-to-date!\n",
      "[nltk_data] Downloading package punkt to\n",
      "[nltk_data]     C:\\Users\\casti\\AppData\\Roaming\\nltk_data...\n",
      "[nltk_data]   Package punkt is already up-to-date!\n"
     ]
    },
    {
     "data": {
      "text/plain": [
       "True"
      ]
     },
     "execution_count": 70,
     "metadata": {},
     "output_type": "execute_result"
    }
   ],
   "source": [
    "import pandas as pd\n",
    "import numpy as np\n",
    "import matplotlib.pyplot as plt\n",
    "import matplotlib.colors as mcolors\n",
    "import regex as re\n",
    "import emoji\n",
    "import nltk\n",
    "from nltk.tokenize import word_tokenize\n",
    "from nltk.stem import WordNetLemmatizer\n",
    "from nltk.corpus import stopwords\n",
    "import seaborn as sns\n",
    "import csv\n",
    "from chardet import detect\n",
    "from spellchecker import SpellChecker\n",
    "nltk.download('wordnet')\n",
    "nltk.download('punkt')"
   ]
  },
  {
   "cell_type": "markdown",
   "metadata": {},
   "source": [
    "## Loading all Datasets"
   ]
  },
  {
   "cell_type": "code",
   "execution_count": 71,
   "metadata": {},
   "outputs": [],
   "source": [
    "dataset_pre = pd.read_csv('Datasets/PreElection.csv')"
   ]
  },
  {
   "cell_type": "code",
   "execution_count": 72,
   "metadata": {},
   "outputs": [],
   "source": [
    "dataset_dr = pd.read_csv('Datasets/DuringElection.csv')"
   ]
  },
  {
   "cell_type": "code",
   "execution_count": 73,
   "metadata": {},
   "outputs": [],
   "source": [
    "dataset_post = pd.read_csv('Datasets/PostElection.csv')"
   ]
  },
  {
   "cell_type": "markdown",
   "metadata": {},
   "source": [
    "## Understanding the Data"
   ]
  },
  {
   "cell_type": "markdown",
   "metadata": {},
   "source": [
    "### Pre-Election"
   ]
  },
  {
   "cell_type": "code",
   "execution_count": 74,
   "metadata": {},
   "outputs": [
    {
     "data": {
      "text/html": [
       "<div>\n",
       "<style scoped>\n",
       "    .dataframe tbody tr th:only-of-type {\n",
       "        vertical-align: middle;\n",
       "    }\n",
       "\n",
       "    .dataframe tbody tr th {\n",
       "        vertical-align: top;\n",
       "    }\n",
       "\n",
       "    .dataframe thead th {\n",
       "        text-align: right;\n",
       "    }\n",
       "</style>\n",
       "<table border=\"1\" class=\"dataframe\">\n",
       "  <thead>\n",
       "    <tr style=\"text-align: right;\">\n",
       "      <th></th>\n",
       "      <th>Tweet</th>\n",
       "      <th>Username</th>\n",
       "      <th>Date</th>\n",
       "    </tr>\n",
       "  </thead>\n",
       "  <tbody>\n",
       "    <tr>\n",
       "      <th>0</th>\n",
       "      <td>A year ago! Any progress from the winning cand...</td>\n",
       "      <td>youth4climatePH</td>\n",
       "      <td>5/5/2022</td>\n",
       "    </tr>\n",
       "    <tr>\n",
       "      <th>1</th>\n",
       "      <td>Bongbong Marcos, Sara Duterte express deepest ...</td>\n",
       "      <td>BayanihanToday</td>\n",
       "      <td>5/4/2022</td>\n",
       "    </tr>\n",
       "    <tr>\n",
       "      <th>2</th>\n",
       "      <td>I decide I only vote for\\rBBM❤️ SARA DUTERTE💚 ...</td>\n",
       "      <td>pjmscheesecake_</td>\n",
       "      <td>5/7/2022</td>\n",
       "    </tr>\n",
       "    <tr>\n",
       "      <th>3</th>\n",
       "      <td>Mr. Bbm and Ms. Sara Duterte are obviously wil...</td>\n",
       "      <td>Wonderwomanneph</td>\n",
       "      <td>5/4/2022</td>\n",
       "    </tr>\n",
       "    <tr>\n",
       "      <th>4</th>\n",
       "      <td>THE CROWD IS INSANE. BBM YOULL FOREVER BE INSA...</td>\n",
       "      <td>queen_pinksss</td>\n",
       "      <td>5/7/2022</td>\n",
       "    </tr>\n",
       "  </tbody>\n",
       "</table>\n",
       "</div>"
      ],
      "text/plain": [
       "                                               Tweet         Username  \\\n",
       "0  A year ago! Any progress from the winning cand...  youth4climatePH   \n",
       "1  Bongbong Marcos, Sara Duterte express deepest ...   BayanihanToday   \n",
       "2  I decide I only vote for\\rBBM❤️ SARA DUTERTE💚 ...  pjmscheesecake_   \n",
       "3  Mr. Bbm and Ms. Sara Duterte are obviously wil...  Wonderwomanneph   \n",
       "4  THE CROWD IS INSANE. BBM YOULL FOREVER BE INSA...    queen_pinksss   \n",
       "\n",
       "       Date  \n",
       "0  5/5/2022  \n",
       "1  5/4/2022  \n",
       "2  5/7/2022  \n",
       "3  5/4/2022  \n",
       "4  5/7/2022  "
      ]
     },
     "execution_count": 74,
     "metadata": {},
     "output_type": "execute_result"
    }
   ],
   "source": [
    "dataset_pre.head()"
   ]
  },
  {
   "cell_type": "code",
   "execution_count": 75,
   "metadata": {},
   "outputs": [
    {
     "data": {
      "text/plain": [
       "(5011, 3)"
      ]
     },
     "execution_count": 75,
     "metadata": {},
     "output_type": "execute_result"
    }
   ],
   "source": [
    "dataset_pre.shape"
   ]
  },
  {
   "cell_type": "code",
   "execution_count": 76,
   "metadata": {},
   "outputs": [
    {
     "data": {
      "text/plain": [
       "Tweet       object\n",
       "Username    object\n",
       "Date        object\n",
       "dtype: object"
      ]
     },
     "execution_count": 76,
     "metadata": {},
     "output_type": "execute_result"
    }
   ],
   "source": [
    "dataset_pre.dtypes"
   ]
  },
  {
   "cell_type": "code",
   "execution_count": 77,
   "metadata": {},
   "outputs": [
    {
     "data": {
      "text/html": [
       "<div>\n",
       "<style scoped>\n",
       "    .dataframe tbody tr th:only-of-type {\n",
       "        vertical-align: middle;\n",
       "    }\n",
       "\n",
       "    .dataframe tbody tr th {\n",
       "        vertical-align: top;\n",
       "    }\n",
       "\n",
       "    .dataframe thead th {\n",
       "        text-align: right;\n",
       "    }\n",
       "</style>\n",
       "<table border=\"1\" class=\"dataframe\">\n",
       "  <thead>\n",
       "    <tr style=\"text-align: right;\">\n",
       "      <th></th>\n",
       "      <th>Tweet</th>\n",
       "      <th>Username</th>\n",
       "      <th>Date</th>\n",
       "    </tr>\n",
       "  </thead>\n",
       "  <tbody>\n",
       "    <tr>\n",
       "      <th>count</th>\n",
       "      <td>5011</td>\n",
       "      <td>5011</td>\n",
       "      <td>5011</td>\n",
       "    </tr>\n",
       "    <tr>\n",
       "      <th>unique</th>\n",
       "      <td>3959</td>\n",
       "      <td>2483</td>\n",
       "      <td>13</td>\n",
       "    </tr>\n",
       "    <tr>\n",
       "      <th>top</th>\n",
       "      <td>Kung walang mabuting kandidato, pwede bang mag...</td>\n",
       "      <td>ABSCBNNews</td>\n",
       "      <td>5/5/2022</td>\n",
       "    </tr>\n",
       "    <tr>\n",
       "      <th>freq</th>\n",
       "      <td>7</td>\n",
       "      <td>172</td>\n",
       "      <td>928</td>\n",
       "    </tr>\n",
       "  </tbody>\n",
       "</table>\n",
       "</div>"
      ],
      "text/plain": [
       "                                                    Tweet    Username  \\\n",
       "count                                                5011        5011   \n",
       "unique                                               3959        2483   \n",
       "top     Kung walang mabuting kandidato, pwede bang mag...  ABSCBNNews   \n",
       "freq                                                    7         172   \n",
       "\n",
       "            Date  \n",
       "count       5011  \n",
       "unique        13  \n",
       "top     5/5/2022  \n",
       "freq         928  "
      ]
     },
     "execution_count": 77,
     "metadata": {},
     "output_type": "execute_result"
    }
   ],
   "source": [
    "dataset_pre.describe()"
   ]
  },
  {
   "cell_type": "code",
   "execution_count": 78,
   "metadata": {},
   "outputs": [
    {
     "name": "stdout",
     "output_type": "stream",
     "text": [
      "<class 'pandas.core.frame.DataFrame'>\n",
      "RangeIndex: 5011 entries, 0 to 5010\n",
      "Data columns (total 3 columns):\n",
      " #   Column    Non-Null Count  Dtype \n",
      "---  ------    --------------  ----- \n",
      " 0   Tweet     5011 non-null   object\n",
      " 1   Username  5011 non-null   object\n",
      " 2   Date      5011 non-null   object\n",
      "dtypes: object(3)\n",
      "memory usage: 117.6+ KB\n"
     ]
    }
   ],
   "source": [
    "dataset_pre.info()"
   ]
  },
  {
   "cell_type": "code",
   "execution_count": 79,
   "metadata": {},
   "outputs": [
    {
     "data": {
      "text/plain": [
       "Tweet       0\n",
       "Username    0\n",
       "Date        0\n",
       "dtype: int64"
      ]
     },
     "execution_count": 79,
     "metadata": {},
     "output_type": "execute_result"
    }
   ],
   "source": [
    "dataset_pre.isna().sum()"
   ]
  },
  {
   "cell_type": "markdown",
   "metadata": {},
   "source": [
    "### During Election"
   ]
  },
  {
   "cell_type": "code",
   "execution_count": 80,
   "metadata": {},
   "outputs": [
    {
     "data": {
      "text/html": [
       "<div>\n",
       "<style scoped>\n",
       "    .dataframe tbody tr th:only-of-type {\n",
       "        vertical-align: middle;\n",
       "    }\n",
       "\n",
       "    .dataframe tbody tr th {\n",
       "        vertical-align: top;\n",
       "    }\n",
       "\n",
       "    .dataframe thead th {\n",
       "        text-align: right;\n",
       "    }\n",
       "</style>\n",
       "<table border=\"1\" class=\"dataframe\">\n",
       "  <thead>\n",
       "    <tr style=\"text-align: right;\">\n",
       "      <th></th>\n",
       "      <th>Tweet</th>\n",
       "      <th>Username</th>\n",
       "      <th>Date</th>\n",
       "    </tr>\n",
       "  </thead>\n",
       "  <tbody>\n",
       "    <tr>\n",
       "      <th>0</th>\n",
       "      <td>Comelec says there are onsite technicians in p...</td>\n",
       "      <td>cnnphilippines</td>\n",
       "      <td>5/9/2022</td>\n",
       "    </tr>\n",
       "    <tr>\n",
       "      <th>1</th>\n",
       "      <td>The campaign period already ended on May 7, bu...</td>\n",
       "      <td>cnnphilippines</td>\n",
       "      <td>5/9/2022</td>\n",
       "    </tr>\n",
       "    <tr>\n",
       "      <th>2</th>\n",
       "      <td>Comelec advises the public that all complaints...</td>\n",
       "      <td>cnnphilippines</td>\n",
       "      <td>5/9/2022</td>\n",
       "    </tr>\n",
       "    <tr>\n",
       "      <th>3</th>\n",
       "      <td>The 2022 national elections is proceeding with...</td>\n",
       "      <td>cnnphilippines</td>\n",
       "      <td>5/9/2022</td>\n",
       "    </tr>\n",
       "    <tr>\n",
       "      <th>4</th>\n",
       "      <td>WATCH: Bongbong Marcos casting his ballot in B...</td>\n",
       "      <td>cnnphilippines</td>\n",
       "      <td>5/9/2022</td>\n",
       "    </tr>\n",
       "  </tbody>\n",
       "</table>\n",
       "</div>"
      ],
      "text/plain": [
       "                                               Tweet        Username      Date\n",
       "0  Comelec says there are onsite technicians in p...  cnnphilippines  5/9/2022\n",
       "1  The campaign period already ended on May 7, bu...  cnnphilippines  5/9/2022\n",
       "2  Comelec advises the public that all complaints...  cnnphilippines  5/9/2022\n",
       "3  The 2022 national elections is proceeding with...  cnnphilippines  5/9/2022\n",
       "4  WATCH: Bongbong Marcos casting his ballot in B...  cnnphilippines  5/9/2022"
      ]
     },
     "execution_count": 80,
     "metadata": {},
     "output_type": "execute_result"
    }
   ],
   "source": [
    "dataset_dr.head()"
   ]
  },
  {
   "cell_type": "code",
   "execution_count": 81,
   "metadata": {},
   "outputs": [
    {
     "data": {
      "text/plain": [
       "(5000, 3)"
      ]
     },
     "execution_count": 81,
     "metadata": {},
     "output_type": "execute_result"
    }
   ],
   "source": [
    "dataset_dr.shape"
   ]
  },
  {
   "cell_type": "code",
   "execution_count": 82,
   "metadata": {},
   "outputs": [
    {
     "data": {
      "text/plain": [
       "Tweet       object\n",
       "Username    object\n",
       "Date        object\n",
       "dtype: object"
      ]
     },
     "execution_count": 82,
     "metadata": {},
     "output_type": "execute_result"
    }
   ],
   "source": [
    "dataset_dr.dtypes"
   ]
  },
  {
   "cell_type": "code",
   "execution_count": 83,
   "metadata": {},
   "outputs": [
    {
     "data": {
      "text/html": [
       "<div>\n",
       "<style scoped>\n",
       "    .dataframe tbody tr th:only-of-type {\n",
       "        vertical-align: middle;\n",
       "    }\n",
       "\n",
       "    .dataframe tbody tr th {\n",
       "        vertical-align: top;\n",
       "    }\n",
       "\n",
       "    .dataframe thead th {\n",
       "        text-align: right;\n",
       "    }\n",
       "</style>\n",
       "<table border=\"1\" class=\"dataframe\">\n",
       "  <thead>\n",
       "    <tr style=\"text-align: right;\">\n",
       "      <th></th>\n",
       "      <th>Tweet</th>\n",
       "      <th>Username</th>\n",
       "      <th>Date</th>\n",
       "    </tr>\n",
       "  </thead>\n",
       "  <tbody>\n",
       "    <tr>\n",
       "      <th>count</th>\n",
       "      <td>5000</td>\n",
       "      <td>5000</td>\n",
       "      <td>5000</td>\n",
       "    </tr>\n",
       "    <tr>\n",
       "      <th>unique</th>\n",
       "      <td>3728</td>\n",
       "      <td>2055</td>\n",
       "      <td>1</td>\n",
       "    </tr>\n",
       "    <tr>\n",
       "      <th>top</th>\n",
       "      <td>#Eleksyon2022</td>\n",
       "      <td>ABSCBNNews</td>\n",
       "      <td>5/9/2022</td>\n",
       "    </tr>\n",
       "    <tr>\n",
       "      <th>freq</th>\n",
       "      <td>22</td>\n",
       "      <td>117</td>\n",
       "      <td>5000</td>\n",
       "    </tr>\n",
       "  </tbody>\n",
       "</table>\n",
       "</div>"
      ],
      "text/plain": [
       "                Tweet    Username      Date\n",
       "count            5000        5000      5000\n",
       "unique           3728        2055         1\n",
       "top     #Eleksyon2022  ABSCBNNews  5/9/2022\n",
       "freq               22         117      5000"
      ]
     },
     "execution_count": 83,
     "metadata": {},
     "output_type": "execute_result"
    }
   ],
   "source": [
    "dataset_dr.describe()"
   ]
  },
  {
   "cell_type": "code",
   "execution_count": 84,
   "metadata": {},
   "outputs": [
    {
     "name": "stdout",
     "output_type": "stream",
     "text": [
      "<class 'pandas.core.frame.DataFrame'>\n",
      "RangeIndex: 5000 entries, 0 to 4999\n",
      "Data columns (total 3 columns):\n",
      " #   Column    Non-Null Count  Dtype \n",
      "---  ------    --------------  ----- \n",
      " 0   Tweet     5000 non-null   object\n",
      " 1   Username  5000 non-null   object\n",
      " 2   Date      5000 non-null   object\n",
      "dtypes: object(3)\n",
      "memory usage: 117.3+ KB\n"
     ]
    }
   ],
   "source": [
    "dataset_dr.info()"
   ]
  },
  {
   "cell_type": "code",
   "execution_count": 85,
   "metadata": {},
   "outputs": [
    {
     "data": {
      "text/plain": [
       "Tweet       0\n",
       "Username    0\n",
       "Date        0\n",
       "dtype: int64"
      ]
     },
     "execution_count": 85,
     "metadata": {},
     "output_type": "execute_result"
    }
   ],
   "source": [
    "dataset_dr.isna().sum()"
   ]
  },
  {
   "cell_type": "markdown",
   "metadata": {},
   "source": [
    "### Post-Election"
   ]
  },
  {
   "cell_type": "code",
   "execution_count": 86,
   "metadata": {},
   "outputs": [
    {
     "data": {
      "text/html": [
       "<div>\n",
       "<style scoped>\n",
       "    .dataframe tbody tr th:only-of-type {\n",
       "        vertical-align: middle;\n",
       "    }\n",
       "\n",
       "    .dataframe tbody tr th {\n",
       "        vertical-align: top;\n",
       "    }\n",
       "\n",
       "    .dataframe thead th {\n",
       "        text-align: right;\n",
       "    }\n",
       "</style>\n",
       "<table border=\"1\" class=\"dataframe\">\n",
       "  <thead>\n",
       "    <tr style=\"text-align: right;\">\n",
       "      <th></th>\n",
       "      <th>Tweet</th>\n",
       "      <th>Username</th>\n",
       "      <th>Date</th>\n",
       "    </tr>\n",
       "  </thead>\n",
       "  <tbody>\n",
       "    <tr>\n",
       "      <th>0</th>\n",
       "      <td>Online info on government websites going down?...</td>\n",
       "      <td>Jauain</td>\n",
       "      <td>5/16/2022</td>\n",
       "    </tr>\n",
       "    <tr>\n",
       "      <th>1</th>\n",
       "      <td>NEWS REPORT: Tonight, at exactly 11:19 PM, Vic...</td>\n",
       "      <td>PhilippinePDNS</td>\n",
       "      <td>5/16/2022</td>\n",
       "    </tr>\n",
       "    <tr>\n",
       "      <th>2</th>\n",
       "      <td>JUST IN: Former COMELEC Chairman Andy Bautista...</td>\n",
       "      <td>PhilippinePDNS</td>\n",
       "      <td>5/16/2022</td>\n",
       "    </tr>\n",
       "    <tr>\n",
       "      <th>3</th>\n",
       "      <td>Lahat ng COC sa #Halalan2022 maliban sa isa, n...</td>\n",
       "      <td>updatesmanila</td>\n",
       "      <td>5/16/2022</td>\n",
       "    </tr>\n",
       "    <tr>\n",
       "      <th>4</th>\n",
       "      <td>BREAKING NEWS: COMELEC will proclaim the winni...</td>\n",
       "      <td>GreenGiantFM</td>\n",
       "      <td>5/16/2022</td>\n",
       "    </tr>\n",
       "  </tbody>\n",
       "</table>\n",
       "</div>"
      ],
      "text/plain": [
       "                                               Tweet        Username  \\\n",
       "0  Online info on government websites going down?...          Jauain   \n",
       "1  NEWS REPORT: Tonight, at exactly 11:19 PM, Vic...  PhilippinePDNS   \n",
       "2  JUST IN: Former COMELEC Chairman Andy Bautista...  PhilippinePDNS   \n",
       "3  Lahat ng COC sa #Halalan2022 maliban sa isa, n...   updatesmanila   \n",
       "4  BREAKING NEWS: COMELEC will proclaim the winni...    GreenGiantFM   \n",
       "\n",
       "        Date  \n",
       "0  5/16/2022  \n",
       "1  5/16/2022  \n",
       "2  5/16/2022  \n",
       "3  5/16/2022  \n",
       "4  5/16/2022  "
      ]
     },
     "execution_count": 86,
     "metadata": {},
     "output_type": "execute_result"
    }
   ],
   "source": [
    "dataset_post.head()"
   ]
  },
  {
   "cell_type": "code",
   "execution_count": 87,
   "metadata": {},
   "outputs": [
    {
     "data": {
      "text/plain": [
       "(6641, 3)"
      ]
     },
     "execution_count": 87,
     "metadata": {},
     "output_type": "execute_result"
    }
   ],
   "source": [
    "dataset_post.shape"
   ]
  },
  {
   "cell_type": "code",
   "execution_count": 88,
   "metadata": {},
   "outputs": [
    {
     "data": {
      "text/plain": [
       "Tweet       object\n",
       "Username    object\n",
       "Date        object\n",
       "dtype: object"
      ]
     },
     "execution_count": 88,
     "metadata": {},
     "output_type": "execute_result"
    }
   ],
   "source": [
    "dataset_post.dtypes"
   ]
  },
  {
   "cell_type": "code",
   "execution_count": 89,
   "metadata": {},
   "outputs": [
    {
     "data": {
      "text/html": [
       "<div>\n",
       "<style scoped>\n",
       "    .dataframe tbody tr th:only-of-type {\n",
       "        vertical-align: middle;\n",
       "    }\n",
       "\n",
       "    .dataframe tbody tr th {\n",
       "        vertical-align: top;\n",
       "    }\n",
       "\n",
       "    .dataframe thead th {\n",
       "        text-align: right;\n",
       "    }\n",
       "</style>\n",
       "<table border=\"1\" class=\"dataframe\">\n",
       "  <thead>\n",
       "    <tr style=\"text-align: right;\">\n",
       "      <th></th>\n",
       "      <th>Tweet</th>\n",
       "      <th>Username</th>\n",
       "      <th>Date</th>\n",
       "    </tr>\n",
       "  </thead>\n",
       "  <tbody>\n",
       "    <tr>\n",
       "      <th>count</th>\n",
       "      <td>6641</td>\n",
       "      <td>6641</td>\n",
       "      <td>6641</td>\n",
       "    </tr>\n",
       "    <tr>\n",
       "      <th>unique</th>\n",
       "      <td>5865</td>\n",
       "      <td>2484</td>\n",
       "      <td>21</td>\n",
       "    </tr>\n",
       "    <tr>\n",
       "      <th>top</th>\n",
       "      <td>#Halalan2022</td>\n",
       "      <td>news5ph</td>\n",
       "      <td>5/11/2022</td>\n",
       "    </tr>\n",
       "    <tr>\n",
       "      <th>freq</th>\n",
       "      <td>19</td>\n",
       "      <td>371</td>\n",
       "      <td>2222</td>\n",
       "    </tr>\n",
       "  </tbody>\n",
       "</table>\n",
       "</div>"
      ],
      "text/plain": [
       "               Tweet Username       Date\n",
       "count           6641     6641       6641\n",
       "unique          5865     2484         21\n",
       "top     #Halalan2022  news5ph  5/11/2022\n",
       "freq              19      371       2222"
      ]
     },
     "execution_count": 89,
     "metadata": {},
     "output_type": "execute_result"
    }
   ],
   "source": [
    "dataset_post.describe()"
   ]
  },
  {
   "cell_type": "code",
   "execution_count": 90,
   "metadata": {},
   "outputs": [
    {
     "name": "stdout",
     "output_type": "stream",
     "text": [
      "<class 'pandas.core.frame.DataFrame'>\n",
      "RangeIndex: 6641 entries, 0 to 6640\n",
      "Data columns (total 3 columns):\n",
      " #   Column    Non-Null Count  Dtype \n",
      "---  ------    --------------  ----- \n",
      " 0   Tweet     6641 non-null   object\n",
      " 1   Username  6641 non-null   object\n",
      " 2   Date      6641 non-null   object\n",
      "dtypes: object(3)\n",
      "memory usage: 155.8+ KB\n"
     ]
    }
   ],
   "source": [
    "dataset_post.info()"
   ]
  },
  {
   "cell_type": "code",
   "execution_count": 91,
   "metadata": {},
   "outputs": [
    {
     "data": {
      "text/plain": [
       "Tweet       0\n",
       "Username    0\n",
       "Date        0\n",
       "dtype: int64"
      ]
     },
     "execution_count": 91,
     "metadata": {},
     "output_type": "execute_result"
    }
   ],
   "source": [
    "dataset_post.isna().sum()"
   ]
  },
  {
   "cell_type": "markdown",
   "metadata": {},
   "source": [
    "## Combining the Datasets"
   ]
  },
  {
   "cell_type": "code",
   "execution_count": 92,
   "metadata": {},
   "outputs": [
    {
     "data": {
      "text/html": [
       "<div>\n",
       "<style scoped>\n",
       "    .dataframe tbody tr th:only-of-type {\n",
       "        vertical-align: middle;\n",
       "    }\n",
       "\n",
       "    .dataframe tbody tr th {\n",
       "        vertical-align: top;\n",
       "    }\n",
       "\n",
       "    .dataframe thead th {\n",
       "        text-align: right;\n",
       "    }\n",
       "</style>\n",
       "<table border=\"1\" class=\"dataframe\">\n",
       "  <thead>\n",
       "    <tr style=\"text-align: right;\">\n",
       "      <th></th>\n",
       "      <th>Tweet</th>\n",
       "      <th>Username</th>\n",
       "      <th>Date</th>\n",
       "    </tr>\n",
       "  </thead>\n",
       "  <tbody>\n",
       "    <tr>\n",
       "      <th>0</th>\n",
       "      <td>A year ago! Any progress from the winning cand...</td>\n",
       "      <td>youth4climatePH</td>\n",
       "      <td>5/5/2022</td>\n",
       "    </tr>\n",
       "    <tr>\n",
       "      <th>1</th>\n",
       "      <td>Bongbong Marcos, Sara Duterte express deepest ...</td>\n",
       "      <td>BayanihanToday</td>\n",
       "      <td>5/4/2022</td>\n",
       "    </tr>\n",
       "    <tr>\n",
       "      <th>2</th>\n",
       "      <td>I decide I only vote for\\rBBM❤️ SARA DUTERTE💚 ...</td>\n",
       "      <td>pjmscheesecake_</td>\n",
       "      <td>5/7/2022</td>\n",
       "    </tr>\n",
       "    <tr>\n",
       "      <th>3</th>\n",
       "      <td>Mr. Bbm and Ms. Sara Duterte are obviously wil...</td>\n",
       "      <td>Wonderwomanneph</td>\n",
       "      <td>5/4/2022</td>\n",
       "    </tr>\n",
       "    <tr>\n",
       "      <th>4</th>\n",
       "      <td>THE CROWD IS INSANE. BBM YOULL FOREVER BE INSA...</td>\n",
       "      <td>queen_pinksss</td>\n",
       "      <td>5/7/2022</td>\n",
       "    </tr>\n",
       "    <tr>\n",
       "      <th>...</th>\n",
       "      <td>...</td>\n",
       "      <td>...</td>\n",
       "      <td>...</td>\n",
       "    </tr>\n",
       "    <tr>\n",
       "      <th>16647</th>\n",
       "      <td>Dictator Ferdinand Marcos from the Philippines...</td>\n",
       "      <td>tayomuna</td>\n",
       "      <td>5/28/2022</td>\n",
       "    </tr>\n",
       "    <tr>\n",
       "      <th>16648</th>\n",
       "      <td>This election rewrites history. People voted f...</td>\n",
       "      <td>kollenedoncillo</td>\n",
       "      <td>5/28/2022</td>\n",
       "    </tr>\n",
       "    <tr>\n",
       "      <th>16649</th>\n",
       "      <td>Hey, it’s a free country. No one has monopoly ...</td>\n",
       "      <td>joel_gregorio</td>\n",
       "      <td>5/28/2022</td>\n",
       "    </tr>\n",
       "    <tr>\n",
       "      <th>16650</th>\n",
       "      <td>HALA-lan. \\n\\n#Election2022PH</td>\n",
       "      <td>keithjumaani</td>\n",
       "      <td>5/29/2022</td>\n",
       "    </tr>\n",
       "    <tr>\n",
       "      <th>16651</th>\n",
       "      <td>Cheating- malalim na sugat kahit mahilom mahir...</td>\n",
       "      <td>hdoosik</td>\n",
       "      <td>5/31/2022</td>\n",
       "    </tr>\n",
       "  </tbody>\n",
       "</table>\n",
       "<p>16652 rows × 3 columns</p>\n",
       "</div>"
      ],
      "text/plain": [
       "                                                   Tweet         Username  \\\n",
       "0      A year ago! Any progress from the winning cand...  youth4climatePH   \n",
       "1      Bongbong Marcos, Sara Duterte express deepest ...   BayanihanToday   \n",
       "2      I decide I only vote for\\rBBM❤️ SARA DUTERTE💚 ...  pjmscheesecake_   \n",
       "3      Mr. Bbm and Ms. Sara Duterte are obviously wil...  Wonderwomanneph   \n",
       "4      THE CROWD IS INSANE. BBM YOULL FOREVER BE INSA...    queen_pinksss   \n",
       "...                                                  ...              ...   \n",
       "16647  Dictator Ferdinand Marcos from the Philippines...         tayomuna   \n",
       "16648  This election rewrites history. People voted f...  kollenedoncillo   \n",
       "16649  Hey, it’s a free country. No one has monopoly ...    joel_gregorio   \n",
       "16650                      HALA-lan. \\n\\n#Election2022PH     keithjumaani   \n",
       "16651  Cheating- malalim na sugat kahit mahilom mahir...          hdoosik   \n",
       "\n",
       "            Date  \n",
       "0       5/5/2022  \n",
       "1       5/4/2022  \n",
       "2       5/7/2022  \n",
       "3       5/4/2022  \n",
       "4       5/7/2022  \n",
       "...          ...  \n",
       "16647  5/28/2022  \n",
       "16648  5/28/2022  \n",
       "16649  5/28/2022  \n",
       "16650  5/29/2022  \n",
       "16651  5/31/2022  \n",
       "\n",
       "[16652 rows x 3 columns]"
      ]
     },
     "execution_count": 92,
     "metadata": {},
     "output_type": "execute_result"
    }
   ],
   "source": [
    "# 1 Combine all datasets\n",
    "\n",
    "dataset = pd.concat([dataset_pre, dataset_dr, dataset_post], ignore_index=True)\n",
    "dataset"
   ]
  },
  {
   "cell_type": "code",
   "execution_count": 93,
   "metadata": {},
   "outputs": [
    {
     "data": {
      "text/plain": [
       "(16652, 3)"
      ]
     },
     "execution_count": 93,
     "metadata": {},
     "output_type": "execute_result"
    }
   ],
   "source": [
    "dataset.shape"
   ]
  },
  {
   "cell_type": "markdown",
   "metadata": {},
   "source": [
    "## Data Cleaning"
   ]
  },
  {
   "cell_type": "code",
   "execution_count": 94,
   "metadata": {},
   "outputs": [
    {
     "data": {
      "text/html": [
       "<div>\n",
       "<style scoped>\n",
       "    .dataframe tbody tr th:only-of-type {\n",
       "        vertical-align: middle;\n",
       "    }\n",
       "\n",
       "    .dataframe tbody tr th {\n",
       "        vertical-align: top;\n",
       "    }\n",
       "\n",
       "    .dataframe thead th {\n",
       "        text-align: right;\n",
       "    }\n",
       "</style>\n",
       "<table border=\"1\" class=\"dataframe\">\n",
       "  <thead>\n",
       "    <tr style=\"text-align: right;\">\n",
       "      <th></th>\n",
       "      <th>Tweet</th>\n",
       "      <th>Username</th>\n",
       "      <th>Date</th>\n",
       "    </tr>\n",
       "  </thead>\n",
       "  <tbody>\n",
       "    <tr>\n",
       "      <th>0</th>\n",
       "      <td>A year ago! Any progress from the winning cand...</td>\n",
       "      <td>youth4climatePH</td>\n",
       "      <td>5/5/2022</td>\n",
       "    </tr>\n",
       "    <tr>\n",
       "      <th>1</th>\n",
       "      <td>Bongbong Marcos, Sara Duterte express deepest ...</td>\n",
       "      <td>BayanihanToday</td>\n",
       "      <td>5/4/2022</td>\n",
       "    </tr>\n",
       "    <tr>\n",
       "      <th>2</th>\n",
       "      <td>I decide I only vote for\\rBBM❤️ SARA DUTERTE💚 ...</td>\n",
       "      <td>pjmscheesecake_</td>\n",
       "      <td>5/7/2022</td>\n",
       "    </tr>\n",
       "    <tr>\n",
       "      <th>3</th>\n",
       "      <td>Mr. Bbm and Ms. Sara Duterte are obviously wil...</td>\n",
       "      <td>Wonderwomanneph</td>\n",
       "      <td>5/4/2022</td>\n",
       "    </tr>\n",
       "    <tr>\n",
       "      <th>4</th>\n",
       "      <td>THE CROWD IS INSANE. BBM YOULL FOREVER BE INSA...</td>\n",
       "      <td>queen_pinksss</td>\n",
       "      <td>5/7/2022</td>\n",
       "    </tr>\n",
       "    <tr>\n",
       "      <th>...</th>\n",
       "      <td>...</td>\n",
       "      <td>...</td>\n",
       "      <td>...</td>\n",
       "    </tr>\n",
       "    <tr>\n",
       "      <th>16647</th>\n",
       "      <td>Dictator Ferdinand Marcos from the Philippines...</td>\n",
       "      <td>tayomuna</td>\n",
       "      <td>5/28/2022</td>\n",
       "    </tr>\n",
       "    <tr>\n",
       "      <th>16648</th>\n",
       "      <td>This election rewrites history. People voted f...</td>\n",
       "      <td>kollenedoncillo</td>\n",
       "      <td>5/28/2022</td>\n",
       "    </tr>\n",
       "    <tr>\n",
       "      <th>16649</th>\n",
       "      <td>Hey, it’s a free country. No one has monopoly ...</td>\n",
       "      <td>joel_gregorio</td>\n",
       "      <td>5/28/2022</td>\n",
       "    </tr>\n",
       "    <tr>\n",
       "      <th>16650</th>\n",
       "      <td>HALA-lan. \\n\\n#Election2022PH</td>\n",
       "      <td>keithjumaani</td>\n",
       "      <td>5/29/2022</td>\n",
       "    </tr>\n",
       "    <tr>\n",
       "      <th>16651</th>\n",
       "      <td>Cheating- malalim na sugat kahit mahilom mahir...</td>\n",
       "      <td>hdoosik</td>\n",
       "      <td>5/31/2022</td>\n",
       "    </tr>\n",
       "  </tbody>\n",
       "</table>\n",
       "<p>16652 rows × 3 columns</p>\n",
       "</div>"
      ],
      "text/plain": [
       "                                                   Tweet         Username  \\\n",
       "0      A year ago! Any progress from the winning cand...  youth4climatePH   \n",
       "1      Bongbong Marcos, Sara Duterte express deepest ...   BayanihanToday   \n",
       "2      I decide I only vote for\\rBBM❤️ SARA DUTERTE💚 ...  pjmscheesecake_   \n",
       "3      Mr. Bbm and Ms. Sara Duterte are obviously wil...  Wonderwomanneph   \n",
       "4      THE CROWD IS INSANE. BBM YOULL FOREVER BE INSA...    queen_pinksss   \n",
       "...                                                  ...              ...   \n",
       "16647  Dictator Ferdinand Marcos from the Philippines...         tayomuna   \n",
       "16648  This election rewrites history. People voted f...  kollenedoncillo   \n",
       "16649  Hey, it’s a free country. No one has monopoly ...    joel_gregorio   \n",
       "16650                      HALA-lan. \\n\\n#Election2022PH     keithjumaani   \n",
       "16651  Cheating- malalim na sugat kahit mahilom mahir...          hdoosik   \n",
       "\n",
       "            Date  \n",
       "0       5/5/2022  \n",
       "1       5/4/2022  \n",
       "2       5/7/2022  \n",
       "3       5/4/2022  \n",
       "4       5/7/2022  \n",
       "...          ...  \n",
       "16647  5/28/2022  \n",
       "16648  5/28/2022  \n",
       "16649  5/28/2022  \n",
       "16650  5/29/2022  \n",
       "16651  5/31/2022  \n",
       "\n",
       "[16652 rows x 3 columns]"
      ]
     },
     "execution_count": 94,
     "metadata": {},
     "output_type": "execute_result"
    }
   ],
   "source": [
    "#Raw Combined Dataset\n",
    "dataset"
   ]
  },
  {
   "cell_type": "code",
   "execution_count": 95,
   "metadata": {},
   "outputs": [
    {
     "data": {
      "text/html": [
       "<div>\n",
       "<style scoped>\n",
       "    .dataframe tbody tr th:only-of-type {\n",
       "        vertical-align: middle;\n",
       "    }\n",
       "\n",
       "    .dataframe tbody tr th {\n",
       "        vertical-align: top;\n",
       "    }\n",
       "\n",
       "    .dataframe thead th {\n",
       "        text-align: right;\n",
       "    }\n",
       "</style>\n",
       "<table border=\"1\" class=\"dataframe\">\n",
       "  <thead>\n",
       "    <tr style=\"text-align: right;\">\n",
       "      <th></th>\n",
       "      <th>Tweet</th>\n",
       "    </tr>\n",
       "  </thead>\n",
       "  <tbody>\n",
       "    <tr>\n",
       "      <th>0</th>\n",
       "      <td>A year ago! Any progress from the winning cand...</td>\n",
       "    </tr>\n",
       "    <tr>\n",
       "      <th>1</th>\n",
       "      <td>Bongbong Marcos, Sara Duterte express deepest ...</td>\n",
       "    </tr>\n",
       "    <tr>\n",
       "      <th>2</th>\n",
       "      <td>I decide I only vote for\\rBBM❤️ SARA DUTERTE💚 ...</td>\n",
       "    </tr>\n",
       "    <tr>\n",
       "      <th>3</th>\n",
       "      <td>Mr. Bbm and Ms. Sara Duterte are obviously wil...</td>\n",
       "    </tr>\n",
       "    <tr>\n",
       "      <th>4</th>\n",
       "      <td>THE CROWD IS INSANE. BBM YOULL FOREVER BE INSA...</td>\n",
       "    </tr>\n",
       "    <tr>\n",
       "      <th>...</th>\n",
       "      <td>...</td>\n",
       "    </tr>\n",
       "    <tr>\n",
       "      <th>16647</th>\n",
       "      <td>Dictator Ferdinand Marcos from the Philippines...</td>\n",
       "    </tr>\n",
       "    <tr>\n",
       "      <th>16648</th>\n",
       "      <td>This election rewrites history. People voted f...</td>\n",
       "    </tr>\n",
       "    <tr>\n",
       "      <th>16649</th>\n",
       "      <td>Hey, it’s a free country. No one has monopoly ...</td>\n",
       "    </tr>\n",
       "    <tr>\n",
       "      <th>16650</th>\n",
       "      <td>HALA-lan. \\n\\n#Election2022PH</td>\n",
       "    </tr>\n",
       "    <tr>\n",
       "      <th>16651</th>\n",
       "      <td>Cheating- malalim na sugat kahit mahilom mahir...</td>\n",
       "    </tr>\n",
       "  </tbody>\n",
       "</table>\n",
       "<p>16652 rows × 1 columns</p>\n",
       "</div>"
      ],
      "text/plain": [
       "                                                   Tweet\n",
       "0      A year ago! Any progress from the winning cand...\n",
       "1      Bongbong Marcos, Sara Duterte express deepest ...\n",
       "2      I decide I only vote for\\rBBM❤️ SARA DUTERTE💚 ...\n",
       "3      Mr. Bbm and Ms. Sara Duterte are obviously wil...\n",
       "4      THE CROWD IS INSANE. BBM YOULL FOREVER BE INSA...\n",
       "...                                                  ...\n",
       "16647  Dictator Ferdinand Marcos from the Philippines...\n",
       "16648  This election rewrites history. People voted f...\n",
       "16649  Hey, it’s a free country. No one has monopoly ...\n",
       "16650                      HALA-lan. \\n\\n#Election2022PH\n",
       "16651  Cheating- malalim na sugat kahit mahilom mahir...\n",
       "\n",
       "[16652 rows x 1 columns]"
      ]
     },
     "execution_count": 95,
     "metadata": {},
     "output_type": "execute_result"
    }
   ],
   "source": [
    "#1 Drop unnecessary columns\n",
    "\n",
    "dataset.drop(['Date','Username'], axis=1, inplace=True)\n",
    "dataset"
   ]
  },
  {
   "cell_type": "code",
   "execution_count": 96,
   "metadata": {},
   "outputs": [
    {
     "name": "stdout",
     "output_type": "stream",
     "text": [
      "Duplicate Tweets: 3108\n"
     ]
    }
   ],
   "source": [
    "#Get the exact duplicate tweets in the dataframe\n",
    "print(\"Duplicate Tweets:\", len(dataset['Tweet'])-len(dataset['Tweet'].drop_duplicates()))"
   ]
  },
  {
   "cell_type": "code",
   "execution_count": 97,
   "metadata": {},
   "outputs": [
    {
     "name": "stdout",
     "output_type": "stream",
     "text": [
      "                                                   Tweet\n",
      "3546     @biancadava\\rLOOK: Members of the deaf commu...\n",
      "4578     @biancadava\\rLOOK: Members of the deaf commu...\n",
      "3681     @mommydotsorry\\r#Halalan2022 #UniteamBBMSara...\n",
      "4212     @mommydotsorry\\r#Halalan2022 #UniteamBBMSara...\n",
      "3572     @nujp\\rThis elections, never forget those wh...\n",
      "...                                                  ...\n",
      "3790   🚨HALALAN 2022 ADVICE🚨\\rplease! wag kayong papa...\n",
      "15030  🤠Alrite let's discuss the Top 10-14 candidates...\n",
      "11318  🤠Alrite let's discuss the Top 10-14 candidates...\n",
      "110    🧵on 🇹🇼#Halalan2022| I’m sorry for failing y’al...\n",
      "784    🧵on 🇹🇼#Halalan2022| I’m sorry for failing y’al...\n",
      "\n",
      "[5440 rows x 1 columns]\n"
     ]
    }
   ],
   "source": [
    "dups = dataset[\"Tweet\"]\n",
    "dups_listed = dataset[dups.isin(dups[dups.duplicated()])].sort_values(\"Tweet\")\n",
    "print(dups_listed)"
   ]
  },
  {
   "cell_type": "code",
   "execution_count": 98,
   "metadata": {},
   "outputs": [],
   "source": [
    "# 2 Remove Exact Duplicate Tweets\n",
    "# Drop the last duplicate and keep the first one\n",
    "# Reset column index\n",
    "\n",
    "dataset.drop_duplicates(subset='Tweet', keep=\"first\", inplace=True)\n",
    "dataset = dataset.reset_index()"
   ]
  },
  {
   "cell_type": "code",
   "execution_count": 99,
   "metadata": {},
   "outputs": [
    {
     "data": {
      "text/html": [
       "<div>\n",
       "<style scoped>\n",
       "    .dataframe tbody tr th:only-of-type {\n",
       "        vertical-align: middle;\n",
       "    }\n",
       "\n",
       "    .dataframe tbody tr th {\n",
       "        vertical-align: top;\n",
       "    }\n",
       "\n",
       "    .dataframe thead th {\n",
       "        text-align: right;\n",
       "    }\n",
       "</style>\n",
       "<table border=\"1\" class=\"dataframe\">\n",
       "  <thead>\n",
       "    <tr style=\"text-align: right;\">\n",
       "      <th></th>\n",
       "      <th>Tweet</th>\n",
       "    </tr>\n",
       "  </thead>\n",
       "  <tbody>\n",
       "    <tr>\n",
       "      <th>0</th>\n",
       "      <td>A year ago! Any progress from the winning cand...</td>\n",
       "    </tr>\n",
       "    <tr>\n",
       "      <th>1</th>\n",
       "      <td>Bongbong Marcos, Sara Duterte express deepest ...</td>\n",
       "    </tr>\n",
       "    <tr>\n",
       "      <th>2</th>\n",
       "      <td>I decide I only vote for\\rBBM❤️ SARA DUTERTE💚 ...</td>\n",
       "    </tr>\n",
       "    <tr>\n",
       "      <th>3</th>\n",
       "      <td>Mr. Bbm and Ms. Sara Duterte are obviously wil...</td>\n",
       "    </tr>\n",
       "    <tr>\n",
       "      <th>4</th>\n",
       "      <td>THE CROWD IS INSANE. BBM YOULL FOREVER BE INSA...</td>\n",
       "    </tr>\n",
       "    <tr>\n",
       "      <th>...</th>\n",
       "      <td>...</td>\n",
       "    </tr>\n",
       "    <tr>\n",
       "      <th>13539</th>\n",
       "      <td>Dictator Ferdinand Marcos from the Philippines...</td>\n",
       "    </tr>\n",
       "    <tr>\n",
       "      <th>13540</th>\n",
       "      <td>This election rewrites history. People voted f...</td>\n",
       "    </tr>\n",
       "    <tr>\n",
       "      <th>13541</th>\n",
       "      <td>Hey, it’s a free country. No one has monopoly ...</td>\n",
       "    </tr>\n",
       "    <tr>\n",
       "      <th>13542</th>\n",
       "      <td>HALA-lan. \\n\\n#Election2022PH</td>\n",
       "    </tr>\n",
       "    <tr>\n",
       "      <th>13543</th>\n",
       "      <td>Cheating- malalim na sugat kahit mahilom mahir...</td>\n",
       "    </tr>\n",
       "  </tbody>\n",
       "</table>\n",
       "<p>13544 rows × 1 columns</p>\n",
       "</div>"
      ],
      "text/plain": [
       "                                                   Tweet\n",
       "0      A year ago! Any progress from the winning cand...\n",
       "1      Bongbong Marcos, Sara Duterte express deepest ...\n",
       "2      I decide I only vote for\\rBBM❤️ SARA DUTERTE💚 ...\n",
       "3      Mr. Bbm and Ms. Sara Duterte are obviously wil...\n",
       "4      THE CROWD IS INSANE. BBM YOULL FOREVER BE INSA...\n",
       "...                                                  ...\n",
       "13539  Dictator Ferdinand Marcos from the Philippines...\n",
       "13540  This election rewrites history. People voted f...\n",
       "13541  Hey, it’s a free country. No one has monopoly ...\n",
       "13542                      HALA-lan. \\n\\n#Election2022PH\n",
       "13543  Cheating- malalim na sugat kahit mahilom mahir...\n",
       "\n",
       "[13544 rows x 1 columns]"
      ]
     },
     "execution_count": 99,
     "metadata": {},
     "output_type": "execute_result"
    }
   ],
   "source": [
    "# Drop old index column\n",
    "dataset.drop(['index'], axis=1, inplace=True)\n",
    "dataset"
   ]
  },
  {
   "cell_type": "code",
   "execution_count": 100,
   "metadata": {},
   "outputs": [],
   "source": [
    "#Store a copy of datasets with emojis before transformation\n",
    "\n",
    "dataset_emojis = dataset['Tweet']"
   ]
  },
  {
   "cell_type": "code",
   "execution_count": 101,
   "metadata": {},
   "outputs": [
    {
     "name": "stdout",
     "output_type": "stream",
     "text": [
      "Overall Percentage of Emojis in the Dataset: 7.21%\n"
     ]
    }
   ],
   "source": [
    "# Get the percentage of emojis in the dataset\n",
    "def calculate_percentage_of_emojis(text):\n",
    "    emoji_pattern = re.compile(r'\\p{Emoji}')\n",
    "    \n",
    "    emojis = emoji_pattern.findall(text)\n",
    "    \n",
    "    # Calculate the percentage of Unicode emojis\n",
    "    total_chars = len(text)\n",
    "    if total_chars > 0:\n",
    "        percentage = (len(emojis) / total_chars) * 100\n",
    "    else:\n",
    "        percentage = 0\n",
    "    return percentage\n",
    "\n",
    "overall_percentage_of_emojis = dataset['Tweet'].apply(calculate_percentage_of_emojis).mean()\n",
    "\n",
    "print(f\"Overall Percentage of Emojis in the Dataset: {overall_percentage_of_emojis:.2f}%\")"
   ]
  },
  {
   "cell_type": "code",
   "execution_count": 102,
   "metadata": {},
   "outputs": [
    {
     "data": {
      "text/html": [
       "<div>\n",
       "<style scoped>\n",
       "    .dataframe tbody tr th:only-of-type {\n",
       "        vertical-align: middle;\n",
       "    }\n",
       "\n",
       "    .dataframe tbody tr th {\n",
       "        vertical-align: top;\n",
       "    }\n",
       "\n",
       "    .dataframe thead th {\n",
       "        text-align: right;\n",
       "    }\n",
       "</style>\n",
       "<table border=\"1\" class=\"dataframe\">\n",
       "  <thead>\n",
       "    <tr style=\"text-align: right;\">\n",
       "      <th></th>\n",
       "      <th>Tweet</th>\n",
       "    </tr>\n",
       "  </thead>\n",
       "  <tbody>\n",
       "    <tr>\n",
       "      <th>0</th>\n",
       "      <td>A year ago! Any progress from the winning cand...</td>\n",
       "    </tr>\n",
       "    <tr>\n",
       "      <th>1</th>\n",
       "      <td>Bongbong Marcos, Sara Duterte express deepest ...</td>\n",
       "    </tr>\n",
       "    <tr>\n",
       "      <th>2</th>\n",
       "      <td>I decide I only vote for\\rBBM red_heart  SARA ...</td>\n",
       "    </tr>\n",
       "    <tr>\n",
       "      <th>3</th>\n",
       "      <td>Mr. Bbm and Ms. Sara Duterte are obviously wil...</td>\n",
       "    </tr>\n",
       "    <tr>\n",
       "      <th>4</th>\n",
       "      <td>THE CROWD IS INSANE. BBM YOULL FOREVER BE INSA...</td>\n",
       "    </tr>\n",
       "    <tr>\n",
       "      <th>...</th>\n",
       "      <td>...</td>\n",
       "    </tr>\n",
       "    <tr>\n",
       "      <th>13539</th>\n",
       "      <td>Dictator Ferdinand Marcos from the Philippines...</td>\n",
       "    </tr>\n",
       "    <tr>\n",
       "      <th>13540</th>\n",
       "      <td>This election rewrites history. People voted f...</td>\n",
       "    </tr>\n",
       "    <tr>\n",
       "      <th>13541</th>\n",
       "      <td>Hey, it’s a free country. No one has monopoly ...</td>\n",
       "    </tr>\n",
       "    <tr>\n",
       "      <th>13542</th>\n",
       "      <td>HALA-lan. \\n\\n#Election2022PH</td>\n",
       "    </tr>\n",
       "    <tr>\n",
       "      <th>13543</th>\n",
       "      <td>Cheating- malalim na sugat kahit mahilom mahir...</td>\n",
       "    </tr>\n",
       "  </tbody>\n",
       "</table>\n",
       "<p>13544 rows × 1 columns</p>\n",
       "</div>"
      ],
      "text/plain": [
       "                                                   Tweet\n",
       "0      A year ago! Any progress from the winning cand...\n",
       "1      Bongbong Marcos, Sara Duterte express deepest ...\n",
       "2      I decide I only vote for\\rBBM red_heart  SARA ...\n",
       "3      Mr. Bbm and Ms. Sara Duterte are obviously wil...\n",
       "4      THE CROWD IS INSANE. BBM YOULL FOREVER BE INSA...\n",
       "...                                                  ...\n",
       "13539  Dictator Ferdinand Marcos from the Philippines...\n",
       "13540  This election rewrites history. People voted f...\n",
       "13541  Hey, it’s a free country. No one has monopoly ...\n",
       "13542                      HALA-lan. \\n\\n#Election2022PH\n",
       "13543  Cheating- malalim na sugat kahit mahilom mahir...\n",
       "\n",
       "[13544 rows x 1 columns]"
      ]
     },
     "execution_count": 102,
     "metadata": {},
     "output_type": "execute_result"
    }
   ],
   "source": [
    "# 3 Transform Emojis to Text\n",
    "def transform_emojis(text):\n",
    "    text = emoji.demojize(text, delimiters=(\" \", \" \"))\n",
    "    return text\n",
    "\n",
    "dataset['Tweet'] = dataset['Tweet'].apply(transform_emojis)\n",
    "dataset"
   ]
  },
  {
   "cell_type": "code",
   "execution_count": 103,
   "metadata": {},
   "outputs": [
    {
     "data": {
      "text/html": [
       "<div>\n",
       "<style scoped>\n",
       "    .dataframe tbody tr th:only-of-type {\n",
       "        vertical-align: middle;\n",
       "    }\n",
       "\n",
       "    .dataframe tbody tr th {\n",
       "        vertical-align: top;\n",
       "    }\n",
       "\n",
       "    .dataframe thead th {\n",
       "        text-align: right;\n",
       "    }\n",
       "</style>\n",
       "<table border=\"1\" class=\"dataframe\">\n",
       "  <thead>\n",
       "    <tr style=\"text-align: right;\">\n",
       "      <th></th>\n",
       "      <th>Tweet</th>\n",
       "    </tr>\n",
       "  </thead>\n",
       "  <tbody>\n",
       "    <tr>\n",
       "      <th>0</th>\n",
       "      <td>A year ago! Any progress from the winning cand...</td>\n",
       "    </tr>\n",
       "    <tr>\n",
       "      <th>1</th>\n",
       "      <td>Bongbong Marcos, Sara Duterte express deepest ...</td>\n",
       "    </tr>\n",
       "    <tr>\n",
       "      <th>2</th>\n",
       "      <td>I decide I only vote for\\rBBM red_heart  SARA ...</td>\n",
       "    </tr>\n",
       "    <tr>\n",
       "      <th>3</th>\n",
       "      <td>Mr. Bbm and Ms. Sara Duterte are obviously wil...</td>\n",
       "    </tr>\n",
       "    <tr>\n",
       "      <th>4</th>\n",
       "      <td>THE CROWD IS INSANE. BBM YOULL FOREVER BE INSA...</td>\n",
       "    </tr>\n",
       "    <tr>\n",
       "      <th>...</th>\n",
       "      <td>...</td>\n",
       "    </tr>\n",
       "    <tr>\n",
       "      <th>13539</th>\n",
       "      <td>Dictator Ferdinand Marcos from the Philippines...</td>\n",
       "    </tr>\n",
       "    <tr>\n",
       "      <th>13540</th>\n",
       "      <td>This election rewrites history. People voted f...</td>\n",
       "    </tr>\n",
       "    <tr>\n",
       "      <th>13541</th>\n",
       "      <td>Hey, it’s a free country. No one has monopoly ...</td>\n",
       "    </tr>\n",
       "    <tr>\n",
       "      <th>13542</th>\n",
       "      <td>HALA-lan. \\n\\nhashtagElection2022PH</td>\n",
       "    </tr>\n",
       "    <tr>\n",
       "      <th>13543</th>\n",
       "      <td>Cheating- malalim na sugat kahit mahilom mahir...</td>\n",
       "    </tr>\n",
       "  </tbody>\n",
       "</table>\n",
       "<p>13544 rows × 1 columns</p>\n",
       "</div>"
      ],
      "text/plain": [
       "                                                   Tweet\n",
       "0      A year ago! Any progress from the winning cand...\n",
       "1      Bongbong Marcos, Sara Duterte express deepest ...\n",
       "2      I decide I only vote for\\rBBM red_heart  SARA ...\n",
       "3      Mr. Bbm and Ms. Sara Duterte are obviously wil...\n",
       "4      THE CROWD IS INSANE. BBM YOULL FOREVER BE INSA...\n",
       "...                                                  ...\n",
       "13539  Dictator Ferdinand Marcos from the Philippines...\n",
       "13540  This election rewrites history. People voted f...\n",
       "13541  Hey, it’s a free country. No one has monopoly ...\n",
       "13542                HALA-lan. \\n\\nhashtagElection2022PH\n",
       "13543  Cheating- malalim na sugat kahit mahilom mahir...\n",
       "\n",
       "[13544 rows x 1 columns]"
      ]
     },
     "execution_count": 103,
     "metadata": {},
     "output_type": "execute_result"
    }
   ],
   "source": [
    "# 4 Replace \"#\" with the word \"hashtag\" in the \"Tweets\" column\n",
    "dataset['Tweet'] = dataset['Tweet'].str.replace(\"#\", \"hashtag\")\n",
    "dataset"
   ]
  },
  {
   "cell_type": "code",
   "execution_count": 104,
   "metadata": {},
   "outputs": [
    {
     "name": "stdout",
     "output_type": "stream",
     "text": [
      "                                                   Tweet\n",
      "0      A year ago Any progress from the winning candi...\n",
      "1      Bongbong Marcos Sara Duterte express deepest g...\n",
      "2      I decide I only vote for BBM red_heart SARA DU...\n",
      "3      Mr Bbm and Ms Sara Duterte are obviously will ...\n",
      "4      THE CROWD IS INSANE BBM YOULL FOREVER BE INSAN...\n",
      "...                                                  ...\n",
      "13539  Dictator Ferdinand Marcos from the Philippines...\n",
      "13540  This election rewrites history People voted fo...\n",
      "13541  Hey its a free country No one has monopoly of ...\n",
      "13542                      HALAlan hashtagElection2022PH\n",
      "13543  Cheating malalim na sugat kahit mahilom mahira...\n",
      "\n",
      "[13544 rows x 1 columns]\n"
     ]
    }
   ],
   "source": [
    "# 5 Remove non-alphanumeric characters, spaces & links\n",
    "def clean_text(text):\n",
    "    text = text.replace('?', ' ').replace('!', ' ') # Remove question marks, exclamation points\n",
    "    text = ' '.join([word for word in text.split() if not word.startswith('@')]) # Remove mention tags\n",
    "    text = text.replace('\\n', ' ') # Remove newline characters\n",
    "\n",
    "    # Remove all non-alphanumeric characters except hashtags, underscores, and spaces\n",
    "    text = re.sub(r'[^a-zA-Z0-9_#\\s]', '', text)\n",
    "\n",
    "# Remove words containing \"http\" and \"https\"\n",
    "    text = ' '.join([word for word in text.split() if not re.search(r'https', word)])\n",
    "    text = ' '.join([word for word in text.split() if not re.search(r'http', word)])\n",
    "    text = ' '.join([word for word in text.split() if not re.search(r'youtube', word)])\n",
    "    text = ' '.join([word for word in text.split() if not re.search(r'vanBF1_BCyyo', word)])\n",
    "    text = ' '.join([word for word in text.split() if not re.search(r'story_fbid', word)])\n",
    "    text = ' '.join([word for word in text.split() if not re.search(r'listOLAK5uy', word)])\n",
    "    text = ' '.join([word for word in text.split() if not re.search(r'edition_id', word)])\n",
    "    text = ' '.join([word for word in text.split() if not re.search(r'News5GVGregorio', word)])\n",
    "    text = ' '.join([word for word in text.split() if not re.search(r'utm_', word)])\n",
    "    text = ' '.join([word for word in text.split() if not re.search(r'fbclid', word)])\n",
    "    text = ' '.join([word for word in text.split() if not re.search(r'p23', word)])\n",
    "    text = ' '.join([word for word in text.split() if not re.search(r'p24', word)])\n",
    "    text = ' '.join([word for word in text.split() if not re.search(r'p25', word)])\n",
    "    text = ' '.join([word for word in text.split() if not re.search(r'category_', word)])\n",
    "    text = ' '.join([word for word in text.split() if not re.search(r'v_DUc7', word)])\n",
    "    \n",
    "    text = text.replace('...', ' ') # Remove ellipses\n",
    "    text = ' '.join(text.split()) # Replace multiple spaces with a single space\n",
    "    text = text.strip() # Remove leading/trailing spaces\n",
    "    return text\n",
    "\n",
    "dataset['Tweet'] = dataset['Tweet'].apply(clean_text)\n",
    "print(dataset)"
   ]
  },
  {
   "cell_type": "code",
   "execution_count": 105,
   "metadata": {},
   "outputs": [
    {
     "data": {
      "text/plain": [
       "0        [A, year, ago, Any, progress, from, the, winni...\n",
       "1        [Bongbong, Marcos, Sara, Duterte, express, dee...\n",
       "2        [I, decide, I, only, vote, for, BBM, red_heart...\n",
       "3        [Mr, Bbm, and, Ms, Sara, Duterte, are, obvious...\n",
       "4        [THE, CROWD, IS, INSANE, BBM, YOULL, FOREVER, ...\n",
       "                               ...                        \n",
       "13539    [Dictator, Ferdinand, Marcos, from, the, Phili...\n",
       "13540    [This, election, rewrites, history, People, vo...\n",
       "13541    [Hey, its, a, free, country, No, one, has, mon...\n",
       "13542                     [HALAlan, hashtagElection2022PH]\n",
       "13543    [Cheating, malalim, na, sugat, kahit, mahilom,...\n",
       "Name: Tokenized_Tweets, Length: 13544, dtype: object"
      ]
     },
     "execution_count": 105,
     "metadata": {},
     "output_type": "execute_result"
    }
   ],
   "source": [
    "# 6 Tokenization\n",
    "\n",
    "dataset['Tokenized_Tweets'] = dataset['Tweet'].apply(lambda x: word_tokenize(x))\n",
    "\n",
    "dataset['Tokenized_Tweets']"
   ]
  },
  {
   "cell_type": "code",
   "execution_count": 106,
   "metadata": {},
   "outputs": [
    {
     "name": "stdout",
     "output_type": "stream",
     "text": [
      "0        [a, year, ago, any, progress, from, the, winni...\n",
      "1        [bongbong, marcos, sara, duterte, express, dee...\n",
      "2        [i, decide, i, only, vote, for, bbm, red_heart...\n",
      "3        [mr, bbm, and, ms, sara, duterte, are, obvious...\n",
      "4        [the, crowd, is, insane, bbm, youll, forever, ...\n",
      "                               ...                        \n",
      "13539    [dictator, ferdinand, marcos, from, the, phili...\n",
      "13540    [this, election, rewrites, history, people, vo...\n",
      "13541    [hey, its, a, free, country, no, one, has, mon...\n",
      "13542                     [halalan, hashtagelection2022ph]\n",
      "13543    [cheating, malalim, na, sugat, kahit, mahilom,...\n",
      "Name: Tokenized_Tweets, Length: 13544, dtype: object\n"
     ]
    }
   ],
   "source": [
    "# 7 Case Transformation\n",
    "# Function to transform tokenized tweets to lowercase\n",
    "def lowercase_tokens(tokens):\n",
    "    return [token.lower() for token in tokens]\n",
    "\n",
    "dataset['Tokenized_Tweets'] = dataset['Tokenized_Tweets'].apply(lambda x: lowercase_tokens(x))\n",
    "print(dataset['Tokenized_Tweets'])"
   ]
  },
  {
   "cell_type": "code",
   "execution_count": 107,
   "metadata": {},
   "outputs": [
    {
     "name": "stdout",
     "output_type": "stream",
     "text": [
      "                                                   Tweet  \\\n",
      "0      A year ago Any progress from the winning candi...   \n",
      "1      Bongbong Marcos Sara Duterte express deepest g...   \n",
      "2      I decide I only vote for BBM red_heart SARA DU...   \n",
      "3      Mr Bbm and Ms Sara Duterte are obviously will ...   \n",
      "4      THE CROWD IS INSANE BBM YOULL FOREVER BE INSAN...   \n",
      "...                                                  ...   \n",
      "13539  Dictator Ferdinand Marcos from the Philippines...   \n",
      "13540  This election rewrites history People voted fo...   \n",
      "13541  Hey its a free country No one has monopoly of ...   \n",
      "13542                      HALAlan hashtagElection2022PH   \n",
      "13543  Cheating malalim na sugat kahit mahilom mahira...   \n",
      "\n",
      "                                        Tokenized_Tweets  \\\n",
      "0      [a, year, ago, any, progress, from, the, winni...   \n",
      "1      [bongbong, marcos, sara, duterte, express, dee...   \n",
      "2      [i, decide, i, only, vote, for, bbm, red_heart...   \n",
      "3      [mr, bbm, and, ms, sara, duterte, are, obvious...   \n",
      "4      [the, crowd, is, insane, bbm, youll, forever, ...   \n",
      "...                                                  ...   \n",
      "13539  [dictator, ferdinand, marcos, from, the, phili...   \n",
      "13540  [this, election, rewrites, history, people, vo...   \n",
      "13541  [hey, its, a, free, country, no, one, has, mon...   \n",
      "13542                   [halalan, hashtagelection2022ph]   \n",
      "13543  [cheating, malalim, na, sugat, kahit, mahilom,...   \n",
      "\n",
      "                        Emoji  \n",
      "0                winking_face  \n",
      "1                              \n",
      "2      red_heart, green_heart  \n",
      "3                              \n",
      "4                              \n",
      "...                       ...  \n",
      "13539                          \n",
      "13540                          \n",
      "13541                          \n",
      "13542                          \n",
      "13543                          \n",
      "\n",
      "[13544 rows x 3 columns]\n"
     ]
    }
   ],
   "source": [
    "# Function to extract the words with underscores\n",
    "def extract_words_with_underscores(row):\n",
    "    words = row\n",
    "    emoji_words = [word for word in words if '_' in word]\n",
    "    return ', '.join(emoji_words)\n",
    "\n",
    "dataset['Emoji'] = dataset['Tokenized_Tweets'].apply(extract_words_with_underscores)\n",
    "print(dataset)"
   ]
  },
  {
   "cell_type": "code",
   "execution_count": 108,
   "metadata": {},
   "outputs": [
    {
     "data": {
      "text/plain": [
       "{'88m': 'bbm',\n",
       " 'accling': 'queer',\n",
       " 'ad': 'advertisement',\n",
       " 'agri': 'agricultural',\n",
       " 'amp ': 'ang puta',\n",
       " 'ampalaya': 'bitter',\n",
       " 'anniv': 'anniversary',\n",
       " 'app': 'application',\n",
       " 'ar': 'augmented reality',\n",
       " 'atty': 'attorney',\n",
       " 'ave': 'avenue',\n",
       " 'b4': 'before',\n",
       " 'babym': 'bbm',\n",
       " 'bcoz': 'because',\n",
       " 'bcs': 'because',\n",
       " 'bec': 'because',\n",
       " 'beh': 'best friend',\n",
       " 'BEI': 'board of election inspector',\n",
       " 'bes': 'best friend',\n",
       " 'besh': 'best friend',\n",
       " 'beshie': 'best friend',\n",
       " 'beybiem': 'bbm',\n",
       " 'bgy': 'barangay',\n",
       " 'bishies': 'best friend',\n",
       " 'blengbong': 'bongbong',\n",
       " 'bp': 'bise presidente',\n",
       " 'brgy': 'barangay',\n",
       " 'brgys': 'barangays',\n",
       " 'bs': 'bull shit',\n",
       " 'bugok': 'stupid',\n",
       " 'bull': 'ridiculous',\n",
       " 'c/o': 'credit to the owner',\n",
       " 'camsur': 'camarines sur',\n",
       " 'chariz': 'joke',\n",
       " 'charot': 'joke',\n",
       " 'charots': 'joke',\n",
       " 'clav': 'commitee on local absentee voting',\n",
       " 'cmd': 'christian muslim democrats',\n",
       " 'coc': 'certificate of candidacy',\n",
       " 'cocs': 'certificate of candidacy',\n",
       " 'coe': 'commission on elections',\n",
       " 'comelec': 'commission on elections',\n",
       " 'comm ': 'commision',\n",
       " 'comms': 'commision',\n",
       " 'con': 'convict',\n",
       " 'cong': 'congressman',\n",
       " 'cos': 'because',\n",
       " 'coz': 'because',\n",
       " 'cr': 'comfort room',\n",
       " 'ctto': 'credit to the owner',\n",
       " 'cya': 'siya',\n",
       " 'cyst': 'sister',\n",
       " 'dada': 'daldal',\n",
       " 'daya ': 'cheating',\n",
       " 'deped': 'department of education',\n",
       " 'dept': 'department  ',\n",
       " 'dict': 'department of information and communications technology',\n",
       " 'diff': 'difference',\n",
       " 'dir': 'director',\n",
       " 'dis ': 'this',\n",
       " 'disinfo': 'disinformation',\n",
       " 'dist': 'district',\n",
       " 'doh': 'department of health',\n",
       " 'dole': 'depatment of labor and employment',\n",
       " 'dq': 'disqualify',\n",
       " 'du30': 'duterte',\n",
       " 'dudirty': 'duterte',\n",
       " 'dyusko': 'diyos ko',\n",
       " 'EB': 'electoral boards',\n",
       " 'econ': 'economic',\n",
       " 'edi': 'therefore',\n",
       " 'eid': 'education and information department',\n",
       " 'elex': 'election',\n",
       " 'eo': 'executive officer',\n",
       " 'ES': 'elementary school',\n",
       " 'exec': 'executive',\n",
       " 'fam': 'family',\n",
       " 'fb': 'facebook',\n",
       " 'FB': 'Facebook',\n",
       " 'filo': 'filipino',\n",
       " 'filo ': 'filipino ',\n",
       " 'filos': 'filpinos',\n",
       " 'flop': 'fail',\n",
       " 'gen': 'generation',\n",
       " 'gents': 'gentlemen',\n",
       " 'gg ': 'good game  ',\n",
       " 'ggpw': 'good game played well',\n",
       " \"gov't\": 'government',\n",
       " 'govt': 'government',\n",
       " 'guyz': 'guys',\n",
       " 'h2h': 'house to house',\n",
       " 'hal': 'halimbawa',\n",
       " 'hay ': 'oh my gosh',\n",
       " 'hays': 'sight',\n",
       " 'hbd': 'happy birthday',\n",
       " 'hrs': 'hours',\n",
       " 'hugot': 'emote',\n",
       " 'icymi': 'in case you missed it',\n",
       " 'id': 'identification card ',\n",
       " 'ids': 'identification cards',\n",
       " 'ily': 'i love you',\n",
       " 'INC': 'iglesia ni cristo',\n",
       " 'ind': 'independent',\n",
       " 'IPP': 'internet printing protocol',\n",
       " 'itcz': 'intertopical convergence zone',\n",
       " 'itey': 'ito',\n",
       " 'iykwim': 'if you know what i mean',\n",
       " 'jgh': 'just got home',\n",
       " 'journos': 'journalist',\n",
       " 'jowa': 'significant other',\n",
       " 'jr': 'junior',\n",
       " 'kemerut': 'something',\n",
       " 'kenat': 'cannot',\n",
       " 'klk': 'kaloka',\n",
       " 'kontra ': 'against',\n",
       " 'KontraDaya': 'anti cheating',\n",
       " 'kyusi': 'quezon city',\n",
       " 'lakas-cmd': 'lakas-christian muslim democrats',\n",
       " 'lbm': 'bbm',\n",
       " 'leche': 'damn',\n",
       " 'libturds': 'liberals',\n",
       " 'lit': 'literally',\n",
       " 'lmao': 'laughing my ass off',\n",
       " 'lmfao': 'laughing my fucking ass off',\n",
       " 'lol': 'laugh out loud',\n",
       " 'lp': 'liberal party',\n",
       " 'lss': 'last song syndrome',\n",
       " 'lt': 'lieutenant',\n",
       " 'madumb': 'madam dumb',\n",
       " 'mam': 'maam',\n",
       " 'mejo': 'medyo',\n",
       " 'milf': 'moro islamic liberation front',\n",
       " 'min': 'minutes',\n",
       " 'misis': 'wife',\n",
       " 'moots': 'mutuals',\n",
       " 'mrrd': 'mayor rodrigo roa duterte',\n",
       " 'nah': 'no',\n",
       " 'natl': 'national',\n",
       " 'nboc': 'national board of canvassers',\n",
       " 'necc': 'national executive coordinating committee',\n",
       " 'nft': 'non fungible tokens',\n",
       " 'ngo': 'non government organization',\n",
       " 'nz': 'new zealand',\n",
       " 'octa': 'OCTA research',\n",
       " 'od': 'overdose',\n",
       " 'ofw': 'overseas filipino worker',\n",
       " 'oic': 'officer in charge',\n",
       " 'ok': 'okay',\n",
       " 'oks': 'okay',\n",
       " 'olats': 'talo',\n",
       " 'OMW': 'on my way',\n",
       " 'ops': 'office of the president',\n",
       " 'p': 'president',\n",
       " 'pcfi': 'party list coalition foundation incorporated',\n",
       " 'pcgg': 'presidential commission on good government',\n",
       " 'PCVL': 'posted computerized voters list',\n",
       " 'peenoise': 'pinoy',\n",
       " 'periodtk': 'period',\n",
       " 'pfp': 'partido federal ng pilipinas',\n",
       " 'pft': 'sound of disagreement',\n",
       " 'ph': 'philippines',\n",
       " 'pic': 'picture',\n",
       " 'picc': 'philippine international convention center',\n",
       " 'pinas': 'pilipinas',\n",
       " 'pix': 'pictures',\n",
       " 'pl': 'partylist',\n",
       " 'plith': 'please',\n",
       " 'pls': 'please',\n",
       " 'PNP': 'philippine national police',\n",
       " 'PPCRV ': 'parish pastoral council for responsible voting',\n",
       " 'ppl ': 'people',\n",
       " 'pr': 'promoter',\n",
       " 'pres': 'president',\n",
       " 'prof': 'professor',\n",
       " 'prov': 'provincial',\n",
       " 'prrd': 'president rodrigo roa duterte',\n",
       " 'psa': 'public service announcement',\n",
       " 'PWD': 'persons with disabilities\\n',\n",
       " 'pwe': 'no',\n",
       " 're': 'regarding',\n",
       " 'rep': 'representative',\n",
       " 'reso': 'resolution',\n",
       " 'rn': 'right now',\n",
       " 'rofl': 'rolling on the floor laughing',\n",
       " 'rp': 'robredo pangilinan',\n",
       " 'rt': 'retweet',\n",
       " 'ryt': 'right',\n",
       " 'saveeeeh': 'anong sinabi',\n",
       " 'sc': 'supreme court',\n",
       " 'SE': 'southeast',\n",
       " 'sec': 'secretary',\n",
       " 'sen': 'senator',\n",
       " 'shunga': 'tanga',\n",
       " 'shungahang': 'tangahan',\n",
       " 'sinetch': 'sino',\n",
       " 'siz': 'sister',\n",
       " 'smh': 'shake my head',\n",
       " 'smni': 'sonshine media network international',\n",
       " 'smol': 'small',\n",
       " 'soce': 'statement of contributions and expenditures',\n",
       " 'socmed': 'social media',\n",
       " 'squammy': 'gawaing squatter',\n",
       " 'sr': 'senior',\n",
       " 'szn': 'season',\n",
       " 'tbh': 'to be honest',\n",
       " 'tenkyu': 'thank you',\n",
       " 'tf': 'the fuck',\n",
       " 'tho': 'though',\n",
       " 'toh': 'ito',\n",
       " 'tot': 'sad',\n",
       " 'totga': 'the one that got away',\n",
       " 'tots': 'thoughts',\n",
       " 'utut': 'utot',\n",
       " 'vad': 'voters assistance desk',\n",
       " 'vcm': 'vote counting machine',\n",
       " 'vg': 'vice governor',\n",
       " 'vip': 'very important person',\n",
       " 'vovo': 'bobo',\n",
       " 'vp': 'vice president',\n",
       " 'vpl': 'vice president leni',\n",
       " 'vso': 'vulnerable sectors office',\n",
       " 'vvm': 'bongbong marcos',\n",
       " 'waw': 'wow',\n",
       " 'weh': 'ganon',\n",
       " 'welp': 'well',\n",
       " 'WTF': 'what the fuck',\n",
       " 'wth': 'what the hell',\n",
       " 'yarn': 'iyan',\n",
       " 'yep': 'yes',\n",
       " 'yr': 'year'}"
      ]
     },
     "execution_count": 108,
     "metadata": {},
     "output_type": "execute_result"
    }
   ],
   "source": [
    "# Create Abbreviation Dictionary\n",
    "abbreviation_dict = {}\n",
    "abbreviation = pd.read_csv('Abbreviation.csv')\n",
    "with open('Abbreviation.csv', mode='r') as inp:\n",
    "  reader = csv.reader(inp)\n",
    "  headers = next(reader)\n",
    "  abbreviation_dict = {rows[0]:rows[1] for rows in reader}\n",
    "abbreviation_dict"
   ]
  },
  {
   "cell_type": "code",
   "execution_count": 109,
   "metadata": {},
   "outputs": [
    {
     "data": {
      "text/plain": [
       "{'88m': 'bbm',\n",
       " 'accling': 'queer',\n",
       " 'ad': 'advertisement',\n",
       " 'agri': 'agricultural',\n",
       " 'amp ': 'ang_puta',\n",
       " 'ampalaya': 'bitter',\n",
       " 'anniv': 'anniversary',\n",
       " 'app': 'application',\n",
       " 'ar': 'augmented_reality',\n",
       " 'atty': 'attorney',\n",
       " 'ave': 'avenue',\n",
       " 'b4': 'before',\n",
       " 'babym': 'bbm',\n",
       " 'bcoz': 'because',\n",
       " 'bcs': 'because',\n",
       " 'bec': 'because',\n",
       " 'beh': 'best_friend',\n",
       " 'BEI': 'board_of_election_inspector',\n",
       " 'bes': 'best_friend',\n",
       " 'besh': 'best_friend',\n",
       " 'beshie': 'best_friend',\n",
       " 'beybiem': 'bbm',\n",
       " 'bgy': 'barangay',\n",
       " 'bishies': 'best_friend',\n",
       " 'blengbong': 'bongbong',\n",
       " 'bp': 'bise_presidente',\n",
       " 'brgy': 'barangay',\n",
       " 'brgys': 'barangays',\n",
       " 'bs': 'bull_shit',\n",
       " 'bugok': 'stupid',\n",
       " 'bull': 'ridiculous',\n",
       " 'c/o': 'credit_to_the_owner',\n",
       " 'camsur': 'camarines_sur',\n",
       " 'chariz': 'joke',\n",
       " 'charot': 'joke',\n",
       " 'charots': 'joke',\n",
       " 'clav': 'commitee_on_local_absentee_voting',\n",
       " 'cmd': 'christian_muslim_democrats',\n",
       " 'coc': 'certificate_of_candidacy',\n",
       " 'cocs': 'certificate_of_candidacy',\n",
       " 'coe': 'commission_on_elections',\n",
       " 'comelec': 'commission_on_elections',\n",
       " 'comm ': 'commision',\n",
       " 'comms': 'commision',\n",
       " 'con': 'convict',\n",
       " 'cong': 'congressman',\n",
       " 'cos': 'because',\n",
       " 'coz': 'because',\n",
       " 'cr': 'comfort_room',\n",
       " 'ctto': 'credit_to_the_owner',\n",
       " 'cya': 'siya',\n",
       " 'cyst': 'sister',\n",
       " 'dada': 'daldal',\n",
       " 'daya ': 'cheating',\n",
       " 'deped': 'department_of_education',\n",
       " 'dept': 'department__',\n",
       " 'dict': 'department_of_information_and_communications_technology',\n",
       " 'diff': 'difference',\n",
       " 'dir': 'director',\n",
       " 'dis ': 'this',\n",
       " 'disinfo': 'disinformation',\n",
       " 'dist': 'district',\n",
       " 'doh': 'department_of_health',\n",
       " 'dole': 'depatment_of_labor_and_employment',\n",
       " 'dq': 'disqualify',\n",
       " 'du30': 'duterte',\n",
       " 'dudirty': 'duterte',\n",
       " 'dyusko': 'diyos_ko',\n",
       " 'EB': 'electoral_boards',\n",
       " 'econ': 'economic',\n",
       " 'edi': 'therefore',\n",
       " 'eid': 'education_and_information_department',\n",
       " 'elex': 'election',\n",
       " 'eo': 'executive_officer',\n",
       " 'ES': 'elementary_school',\n",
       " 'exec': 'executive',\n",
       " 'fam': 'family',\n",
       " 'fb': 'facebook',\n",
       " 'FB': 'Facebook',\n",
       " 'filo': 'filipino',\n",
       " 'filo ': 'filipino_',\n",
       " 'filos': 'filpinos',\n",
       " 'flop': 'fail',\n",
       " 'gen': 'generation',\n",
       " 'gents': 'gentlemen',\n",
       " 'gg ': 'good_game__',\n",
       " 'ggpw': 'good_game_played_well',\n",
       " \"gov't\": 'government',\n",
       " 'govt': 'government',\n",
       " 'guyz': 'guys',\n",
       " 'h2h': 'house_to_house',\n",
       " 'hal': 'halimbawa',\n",
       " 'hay ': 'oh_my_gosh',\n",
       " 'hays': 'sight',\n",
       " 'hbd': 'happy_birthday',\n",
       " 'hrs': 'hours',\n",
       " 'hugot': 'emote',\n",
       " 'icymi': 'in_case_you_missed_it',\n",
       " 'id': 'identification_card_',\n",
       " 'ids': 'identification_cards',\n",
       " 'ily': 'i_love_you',\n",
       " 'INC': 'iglesia_ni_cristo',\n",
       " 'ind': 'independent',\n",
       " 'IPP': 'internet_printing_protocol',\n",
       " 'itcz': 'intertopical_convergence_zone',\n",
       " 'itey': 'ito',\n",
       " 'iykwim': 'if_you_know_what_i_mean',\n",
       " 'jgh': 'just_got_home',\n",
       " 'journos': 'journalist',\n",
       " 'jowa': 'significant_other',\n",
       " 'jr': 'junior',\n",
       " 'kemerut': 'something',\n",
       " 'kenat': 'cannot',\n",
       " 'klk': 'kaloka',\n",
       " 'kontra ': 'against',\n",
       " 'KontraDaya': 'anti_cheating',\n",
       " 'kyusi': 'quezon_city',\n",
       " 'lakas-cmd': 'lakas-christian_muslim_democrats',\n",
       " 'lbm': 'bbm',\n",
       " 'leche': 'damn',\n",
       " 'libturds': 'liberals',\n",
       " 'lit': 'literally',\n",
       " 'lmao': 'laughing_my_ass_off',\n",
       " 'lmfao': 'laughing_my_fucking_ass_off',\n",
       " 'lol': 'laugh_out_loud',\n",
       " 'lp': 'liberal_party',\n",
       " 'lss': 'last_song_syndrome',\n",
       " 'lt': 'lieutenant',\n",
       " 'madumb': 'madam_dumb',\n",
       " 'mam': 'maam',\n",
       " 'mejo': 'medyo',\n",
       " 'milf': 'moro_islamic_liberation_front',\n",
       " 'min': 'minutes',\n",
       " 'misis': 'wife',\n",
       " 'moots': 'mutuals',\n",
       " 'mrrd': 'mayor_rodrigo_roa_duterte',\n",
       " 'nah': 'no',\n",
       " 'natl': 'national',\n",
       " 'nboc': 'national_board_of_canvassers',\n",
       " 'necc': 'national_executive_coordinating_committee',\n",
       " 'nft': 'non_fungible_tokens',\n",
       " 'ngo': 'non_government_organization',\n",
       " 'nz': 'new_zealand',\n",
       " 'octa': 'OCTA_research',\n",
       " 'od': 'overdose',\n",
       " 'ofw': 'overseas_filipino_worker',\n",
       " 'oic': 'officer_in_charge',\n",
       " 'ok': 'okay',\n",
       " 'oks': 'okay',\n",
       " 'olats': 'talo',\n",
       " 'OMW': 'on_my_way',\n",
       " 'ops': 'office_of_the_president',\n",
       " 'p': 'president',\n",
       " 'pcfi': 'party_list_coalition_foundation_incorporated',\n",
       " 'pcgg': 'presidential_commission_on_good_government',\n",
       " 'PCVL': 'posted_computerized_voters_list',\n",
       " 'peenoise': 'pinoy',\n",
       " 'periodtk': 'period',\n",
       " 'pfp': 'partido_federal_ng_pilipinas',\n",
       " 'pft': 'sound_of_disagreement',\n",
       " 'ph': 'philippines',\n",
       " 'pic': 'picture',\n",
       " 'picc': 'philippine_international_convention_center',\n",
       " 'pinas': 'pilipinas',\n",
       " 'pix': 'pictures',\n",
       " 'pl': 'partylist',\n",
       " 'plith': 'please',\n",
       " 'pls': 'please',\n",
       " 'PNP': 'philippine_national_police',\n",
       " 'PPCRV ': 'parish_pastoral_council_for_responsible_voting',\n",
       " 'ppl ': 'people',\n",
       " 'pr': 'promoter',\n",
       " 'pres': 'president',\n",
       " 'prof': 'professor',\n",
       " 'prov': 'provincial',\n",
       " 'prrd': 'president_rodrigo_roa_duterte',\n",
       " 'psa': 'public_service_announcement',\n",
       " 'PWD': 'persons_with_disabilities\\n',\n",
       " 'pwe': 'no',\n",
       " 're': 'regarding',\n",
       " 'rep': 'representative',\n",
       " 'reso': 'resolution',\n",
       " 'rn': 'right_now',\n",
       " 'rofl': 'rolling_on_the_floor_laughing',\n",
       " 'rp': 'robredo_pangilinan',\n",
       " 'rt': 'retweet',\n",
       " 'ryt': 'right',\n",
       " 'saveeeeh': 'anong_sinabi',\n",
       " 'sc': 'supreme_court',\n",
       " 'SE': 'southeast',\n",
       " 'sec': 'secretary',\n",
       " 'sen': 'senator',\n",
       " 'shunga': 'tanga',\n",
       " 'shungahang': 'tangahan',\n",
       " 'sinetch': 'sino',\n",
       " 'siz': 'sister',\n",
       " 'smh': 'shake_my_head',\n",
       " 'smni': 'sonshine_media_network_international',\n",
       " 'smol': 'small',\n",
       " 'soce': 'statement_of_contributions_and_expenditures',\n",
       " 'socmed': 'social_media',\n",
       " 'squammy': 'gawaing_squatter',\n",
       " 'sr': 'senior',\n",
       " 'szn': 'season',\n",
       " 'tbh': 'to_be_honest',\n",
       " 'tenkyu': 'thank_you',\n",
       " 'tf': 'the_fuck',\n",
       " 'tho': 'though',\n",
       " 'toh': 'ito',\n",
       " 'tot': 'sad',\n",
       " 'totga': 'the_one_that_got_away',\n",
       " 'tots': 'thoughts',\n",
       " 'utut': 'utot',\n",
       " 'vad': 'voters_assistance_desk',\n",
       " 'vcm': 'vote_counting_machine',\n",
       " 'vg': 'vice_governor',\n",
       " 'vip': 'very_important_person',\n",
       " 'vovo': 'bobo',\n",
       " 'vp': 'vice_president',\n",
       " 'vpl': 'vice_president_leni',\n",
       " 'vso': 'vulnerable_sectors_office',\n",
       " 'vvm': 'bongbong_marcos',\n",
       " 'waw': 'wow',\n",
       " 'weh': 'ganon',\n",
       " 'welp': 'well',\n",
       " 'WTF': 'what_the_fuck',\n",
       " 'wth': 'what_the_hell',\n",
       " 'yarn': 'iyan',\n",
       " 'yep': 'yes',\n",
       " 'yr': 'year'}"
      ]
     },
     "execution_count": 109,
     "metadata": {},
     "output_type": "execute_result"
    }
   ],
   "source": [
    "#Adding underscores for abbreviation definitions that have more than one word\n",
    "\n",
    "abbreviation_dict = {key:value.replace(' ','_')for key, value in abbreviation_dict.items()}\n",
    "abbreviation_dict"
   ]
  },
  {
   "cell_type": "code",
   "execution_count": 110,
   "metadata": {},
   "outputs": [
    {
     "name": "stdout",
     "output_type": "stream",
     "text": [
      "0        [a, year, ago, any, progress, from, the, winni...\n",
      "1        [bongbong, marcos, sara, duterte, express, dee...\n",
      "2        [i, decide, i, only, vote, for, bbm, red_heart...\n",
      "3        [mr, bbm, and, ms, sara, duterte, are, obvious...\n",
      "4        [the, crowd, is, insane, bbm, youll, forever, ...\n",
      "                               ...                        \n",
      "13539    [dictator, ferdinand, marcos, from, the, phili...\n",
      "13540    [this, election, rewrites, history, people, vo...\n",
      "13541    [hey, its, a, free, country, no, one, has, mon...\n",
      "13542                     [halalan, hashtagelection2022ph]\n",
      "13543    [cheating, malalim, na, sugat, kahit, mahilom,...\n",
      "Name: Tokenized_Tweets, Length: 13544, dtype: object"
     ]
    },
    {
     "name": "stdout",
     "output_type": "stream",
     "text": [
      "\n"
     ]
    }
   ],
   "source": [
    "# 8 Abbreviation Transformation\n",
    "def transform_abbreviations_within_tokens(tokens, abbreviation_dict):\n",
    "    transformed_tokens = []\n",
    "    \n",
    "    for token in tokens:\n",
    "        words = token.split()\n",
    "        transformed_words = []\n",
    "        \n",
    "        for word in words:\n",
    "            if word in abbreviation_dict:\n",
    "                transformed_words.append(abbreviation_dict[word])\n",
    "            else:\n",
    "                transformed_words.append(word)\n",
    "        \n",
    "        transformed_token = ' '.join(transformed_words)\n",
    "        transformed_tokens.append(transformed_token)\n",
    "    \n",
    "    return transformed_tokens\n",
    "\n",
    "dataset['Tokenized_Tweets'] = dataset['Tokenized_Tweets'].apply(lambda x: transform_abbreviations_within_tokens(x, abbreviation_dict))\n",
    "print(dataset['Tokenized_Tweets'])"
   ]
  },
  {
   "cell_type": "code",
   "execution_count": 111,
   "metadata": {},
   "outputs": [
    {
     "name": "stdout",
     "output_type": "stream",
     "text": [
      "0        [a, year, ago, any, progress, from, the, winni...\n",
      "1        [bongbong, marcos, sara, duterte, express, dee...\n",
      "2        [i, decide, i, only, vote, for, bbm, red_heart...\n",
      "3        [mr, bbm, and, ms, sara, duterte, are, obvious...\n",
      "4        [the, crowd, is, insane, bbm, youll, forever, ...\n",
      "                               ...                        \n",
      "13539    [dictator, ferdinand, marcos, from, the, phili...\n",
      "13540    [this, election, rewrites, history, people, vo...\n",
      "13541    [hey, its, a, free, country, no, one, has, mon...\n",
      "13542                     [halalan, hashtagelection2022ph]\n",
      "13543    [cheating, malalim, na, sugat, kahit, mahilom,...\n",
      "Name: Corrected_Words, Length: 13544, dtype: object\n"
     ]
    }
   ],
   "source": [
    "# 9 Misspelled Words Transformation\n",
    "spell_checker_en = SpellChecker()\n",
    "\n",
    "tagalog_word_list = []\n",
    "with open('tl_PH.aff', 'r', encoding='utf-8') as word_list_file:\n",
    "    tagalog_word_list = [line.strip() for line in word_list_file]\n",
    "\n",
    "\n",
    "def detect_language(text):\n",
    "    try:\n",
    "        return detect(text)\n",
    "    except:\n",
    "        return \"unknown\" \n",
    "def correct_words(tokens):\n",
    "    language = detect_language(' '.join(tokens))\n",
    "    \n",
    "    corrected_tokens = [\n",
    "        spell_checker_en.correction(word) if language == 'en' else\n",
    "        word.lower() if language == 'tl' and word.lower() in tagalog_word_list else\n",
    "        word\n",
    "        for word in tokens\n",
    "    ]\n",
    "\n",
    "    return corrected_tokens\n",
    "\n",
    "dataset['Corrected_Words'] = dataset['Tokenized_Tweets'].apply(correct_words)\n",
    "print(dataset['Corrected_Words'])"
   ]
  },
  {
   "cell_type": "code",
   "execution_count": 112,
   "metadata": {},
   "outputs": [
    {
     "name": "stdout",
     "output_type": "stream",
     "text": [
      "Total Count of Ordinals in 'Corrected_Words' Column: 236\n"
     ]
    }
   ],
   "source": [
    "# Get the total number of Ordinal Values\n",
    "import re\n",
    "\n",
    "def count_ordinals_in_tokens(tokens):\n",
    "    ordinal_pattern = r'\\d+(st|nd|rd|th)'\n",
    "    ordinals = [match for token in tokens for match in re.findall(ordinal_pattern, token)]\n",
    "    return len(ordinals)\n",
    "corrected_tokens = [token for tokens in dataset['Corrected_Words'] for token in tokens]\n",
    "\n",
    "total_ordinal_count = count_ordinals_in_tokens(corrected_tokens)\n",
    "print(f\"Total Count of Ordinals in 'Corrected_Words' Column: {total_ordinal_count}\")"
   ]
  },
  {
   "cell_type": "code",
   "execution_count": 113,
   "metadata": {},
   "outputs": [
    {
     "name": "stdout",
     "output_type": "stream",
     "text": [
      "0        [a, year, ago, any, progress, from, the, winni...\n",
      "1        [bongbong, marcos, sara, duterte, express, dee...\n",
      "2        [i, decide, i, only, vote, for, bbm, red_heart...\n",
      "3        [mr, bbm, and, ms, sara, duterte, are, obvious...\n",
      "4        [the, crowd, is, insane, bbm, youll, forever, ...\n",
      "                               ...                        \n",
      "13539    [dictator, ferdinand, marcos, from, the, phili...\n",
      "13540    [this, election, rewrites, history, people, vo...\n",
      "13541    [hey, its, a, free, country, no, one, has, mon...\n",
      "13542                     [halalan, hashtagelection2022ph]\n",
      "13543    [cheating, malalim, na, sugat, kahit, mahilom,...\n",
      "Name: Corrected_Words, Length: 13544, dtype: object\n"
     ]
    }
   ],
   "source": [
    "# 10 Ordinal Transformation\n",
    "def transform_numeric_ordinals(tokens):\n",
    "    ordinal_pattern = r'(\\d+)(st|nd|rd|th)\\b'\n",
    "    def replace_ordinal(match):\n",
    "        num = match.group(1)\n",
    "        suffix = match.group(2)\n",
    "        if suffix == 'st':\n",
    "            return num + ' first'\n",
    "        elif suffix == 'nd':\n",
    "            return num + ' second'\n",
    "        elif suffix == 'rd':\n",
    "            return num + ' third'\n",
    "        else:\n",
    "            return num + 'th'\n",
    "    \n",
    "    transformed_tokens = [re.sub(ordinal_pattern, replace_ordinal, token) if re.match(ordinal_pattern, token) else token for token in tokens]\n",
    "\n",
    "    return ' '.join(transformed_tokens).split()\n",
    "\n",
    "dataset['Corrected_Words'] = dataset['Corrected_Words'].apply(transform_numeric_ordinals)\n",
    "print(dataset['Corrected_Words'])"
   ]
  },
  {
   "cell_type": "code",
   "execution_count": 114,
   "metadata": {},
   "outputs": [],
   "source": [
    "# 11 Stopwords Removal\n",
    "stopwords_df = pd.read_csv('stopwords.csv')\n",
    "combined_stopwords = set(stopwords_df['Stopword'])\n",
    "\n",
    "filtered_word_lists = []\n",
    "\n",
    "for tokens in dataset['Corrected_Words']:\n",
    "    if isinstance(tokens, list):\n",
    "        filtered_tokens = [word for word in tokens if word not in combined_stopwords]\n",
    "        filtered_word_lists.append(filtered_tokens)\n",
    "    else:\n",
    "        filtered_word_lists.append([])\n",
    "\n",
    "dataset['Corrected_Words'] = filtered_word_lists"
   ]
  },
  {
   "cell_type": "code",
   "execution_count": 115,
   "metadata": {},
   "outputs": [],
   "source": [
    "# 12 Function to remove numbers\n",
    "def remove_numbers_and_blank_spaces(tokens):\n",
    "    number_pattern = r'\\d+'\n",
    "    tokens_without_numbers = []\n",
    "    \n",
    "    for token in tokens:\n",
    "        token_without_numbers = re.sub(number_pattern, '', token).strip()\n",
    "        if token_without_numbers:\n",
    "            tokens_without_numbers.append(token_without_numbers)\n",
    "    \n",
    "    return tokens_without_numbers"
   ]
  },
  {
   "cell_type": "code",
   "execution_count": 116,
   "metadata": {},
   "outputs": [],
   "source": [
    "# 13 Function to remove hashtags used\n",
    "def remove_hashtags(tokens):\n",
    "    hashtags_to_remove = ['hashtaghalalan', 'hashtagbilangpilipino', 'hashtagelectionph','hashtageleksyon']\n",
    "    return [token for token in tokens if token not in hashtags_to_remove]"
   ]
  },
  {
   "cell_type": "code",
   "execution_count": 117,
   "metadata": {},
   "outputs": [
    {
     "name": "stdout",
     "output_type": "stream",
     "text": [
      "0        year, ago, progress, winning, candidate, winki...\n",
      "1        bongbong, marcos, sara, duterte, express, deep...\n",
      "2        decide, vote, bbm, red_heart, sara, duterte, g...\n",
      "3        bbm, sara, duterte, win, candidate, desperate,...\n",
      "4        crowd, insane, bbm, youll, forever, insane, k,...\n",
      "                               ...                        \n",
      "13539    dictator, ferdinand, marcos, philippine, featu...\n",
      "13540    election, rewrite, history, people, voted, per...\n",
      "13541    hey, free, country, monopoly, knowledge, elect...\n",
      "13542                                              halalan\n",
      "13543    cheating, malalim, sugat, mahilom, mahirap, ka...\n",
      "Name: Corrected_Words, Length: 13544, dtype: object\n"
     ]
    }
   ],
   "source": [
    "# 14 Function for lemmatization\n",
    "def lemmatize_tokens(tokens):\n",
    "    lemmatizer = WordNetLemmatizer()\n",
    "    return [lemmatizer.lemmatize(token) for token in tokens]\n",
    "\n",
    "def preprocess_text(text):\n",
    "    # Apply lemmatization\n",
    "    lemmatized_tokens = lemmatize_tokens(text)\n",
    "    \n",
    "    # Remove numbers and hashtags\n",
    "    tokens_without_numbers = remove_numbers_and_blank_spaces(lemmatized_tokens)\n",
    "    tokens_without_hashtags = remove_hashtags(tokens_without_numbers)\n",
    "    \n",
    "    cleaned_text = ', '.join(tokens_without_hashtags)\n",
    "    \n",
    "    return cleaned_text\n",
    "\n",
    "dataset['Corrected_Words'] = dataset['Corrected_Words'].apply(preprocess_text)\n",
    "print(dataset['Corrected_Words'])"
   ]
  },
  {
   "cell_type": "code",
   "execution_count": 118,
   "metadata": {},
   "outputs": [
    {
     "name": "stdout",
     "output_type": "stream",
     "text": [
      "                                                   Tweet  \\\n",
      "0      A year ago Any progress from the winning candi...   \n",
      "1      Bongbong Marcos Sara Duterte express deepest g...   \n",
      "2      I decide I only vote for BBM red_heart SARA DU...   \n",
      "3      Mr Bbm and Ms Sara Duterte are obviously will ...   \n",
      "4      THE CROWD IS INSANE BBM YOULL FOREVER BE INSAN...   \n",
      "...                                                  ...   \n",
      "13539  Dictator Ferdinand Marcos from the Philippines...   \n",
      "13540  This election rewrites history People voted fo...   \n",
      "13541  Hey its a free country No one has monopoly of ...   \n",
      "13542                      HALAlan hashtagElection2022PH   \n",
      "13543  Cheating malalim na sugat kahit mahilom mahira...   \n",
      "\n",
      "                                        Tokenized_Tweets  \\\n",
      "0      [a, year, ago, any, progress, from, the, winni...   \n",
      "1      [bongbong, marcos, sara, duterte, express, dee...   \n",
      "2      [i, decide, i, only, vote, for, bbm, red_heart...   \n",
      "3      [mr, bbm, and, ms, sara, duterte, are, obvious...   \n",
      "4      [the, crowd, is, insane, bbm, youll, forever, ...   \n",
      "...                                                  ...   \n",
      "13539  [dictator, ferdinand, marcos, from, the, phili...   \n",
      "13540  [this, election, rewrites, history, people, vo...   \n",
      "13541  [hey, its, a, free, country, no, one, has, mon...   \n",
      "13542                   [halalan, hashtagelection2022ph]   \n",
      "13543  [cheating, malalim, na, sugat, kahit, mahilom,...   \n",
      "\n",
      "                                         Corrected_Words  \\\n",
      "0      year, ago, progress, winning, candidate, winki...   \n",
      "1      bongbong, marcos, sara, duterte, express, deep...   \n",
      "2      decide, vote, bbm, red_heart, sara, duterte, g...   \n",
      "3      bbm, sara, duterte, win, candidate, desperate,...   \n",
      "4      crowd, insane, bbm, youll, forever, insane, k,...   \n",
      "...                                                  ...   \n",
      "13539  dictator, ferdinand, marcos, philippine, featu...   \n",
      "13540  election, rewrite, history, people, voted, per...   \n",
      "13541  hey, free, country, monopoly, knowledge, elect...   \n",
      "13542                                            halalan   \n",
      "13543  cheating, malalim, sugat, mahilom, mahirap, ka...   \n",
      "\n",
      "                        Emoji  \n",
      "0                winking_face  \n",
      "1                              \n",
      "2      red_heart, green_heart  \n",
      "3                              \n",
      "4                              \n",
      "...                       ...  \n",
      "13539                          \n",
      "13540                          \n",
      "13541                          \n",
      "13542                          \n",
      "13543                          \n",
      "\n",
      "[13544 rows x 4 columns]\n"
     ]
    }
   ],
   "source": [
    "# Rearrange columns\n",
    "dataset = dataset[['Tweet', 'Tokenized_Tweets', 'Corrected_Words', 'Emoji']]\n",
    "print(dataset)"
   ]
  },
  {
   "cell_type": "code",
   "execution_count": 119,
   "metadata": {},
   "outputs": [
    {
     "data": {
      "text/html": [
       "<div>\n",
       "<style scoped>\n",
       "    .dataframe tbody tr th:only-of-type {\n",
       "        vertical-align: middle;\n",
       "    }\n",
       "\n",
       "    .dataframe tbody tr th {\n",
       "        vertical-align: top;\n",
       "    }\n",
       "\n",
       "    .dataframe thead th {\n",
       "        text-align: right;\n",
       "    }\n",
       "</style>\n",
       "<table border=\"1\" class=\"dataframe\">\n",
       "  <thead>\n",
       "    <tr style=\"text-align: right;\">\n",
       "      <th></th>\n",
       "      <th>Tweet</th>\n",
       "      <th>Tokenized_Tweets</th>\n",
       "      <th>Corrected_Words</th>\n",
       "      <th>Emoji</th>\n",
       "    </tr>\n",
       "  </thead>\n",
       "  <tbody>\n",
       "    <tr>\n",
       "      <th>0</th>\n",
       "      <td>A year ago Any progress from the winning candi...</td>\n",
       "      <td>[a, year, ago, any, progress, from, the, winni...</td>\n",
       "      <td>year, ago, progress, winning, candidate, winki...</td>\n",
       "      <td>winking_face</td>\n",
       "    </tr>\n",
       "    <tr>\n",
       "      <th>1</th>\n",
       "      <td>Bongbong Marcos Sara Duterte express deepest g...</td>\n",
       "      <td>[bongbong, marcos, sara, duterte, express, dee...</td>\n",
       "      <td>bongbong, marcos, sara, duterte, express, deep...</td>\n",
       "      <td></td>\n",
       "    </tr>\n",
       "    <tr>\n",
       "      <th>2</th>\n",
       "      <td>I decide I only vote for BBM red_heart SARA DU...</td>\n",
       "      <td>[i, decide, i, only, vote, for, bbm, red_heart...</td>\n",
       "      <td>decide, vote, bbm, red_heart, sara, duterte, g...</td>\n",
       "      <td>red_heart, green_heart</td>\n",
       "    </tr>\n",
       "    <tr>\n",
       "      <th>3</th>\n",
       "      <td>Mr Bbm and Ms Sara Duterte are obviously will ...</td>\n",
       "      <td>[mr, bbm, and, ms, sara, duterte, are, obvious...</td>\n",
       "      <td>bbm, sara, duterte, win, candidate, desperate,...</td>\n",
       "      <td></td>\n",
       "    </tr>\n",
       "    <tr>\n",
       "      <th>4</th>\n",
       "      <td>THE CROWD IS INSANE BBM YOULL FOREVER BE INSAN...</td>\n",
       "      <td>[the, crowd, is, insane, bbm, youll, forever, ...</td>\n",
       "      <td>crowd, insane, bbm, youll, forever, insane, k,...</td>\n",
       "      <td></td>\n",
       "    </tr>\n",
       "    <tr>\n",
       "      <th>...</th>\n",
       "      <td>...</td>\n",
       "      <td>...</td>\n",
       "      <td>...</td>\n",
       "      <td>...</td>\n",
       "    </tr>\n",
       "    <tr>\n",
       "      <th>13539</th>\n",
       "      <td>Dictator Ferdinand Marcos from the Philippines...</td>\n",
       "      <td>[dictator, ferdinand, marcos, from, the, phili...</td>\n",
       "      <td>dictator, ferdinand, marcos, philippine, featu...</td>\n",
       "      <td></td>\n",
       "    </tr>\n",
       "    <tr>\n",
       "      <th>13540</th>\n",
       "      <td>This election rewrites history People voted fo...</td>\n",
       "      <td>[this, election, rewrites, history, people, vo...</td>\n",
       "      <td>election, rewrite, history, people, voted, per...</td>\n",
       "      <td></td>\n",
       "    </tr>\n",
       "    <tr>\n",
       "      <th>13541</th>\n",
       "      <td>Hey its a free country No one has monopoly of ...</td>\n",
       "      <td>[hey, its, a, free, country, no, one, has, mon...</td>\n",
       "      <td>hey, free, country, monopoly, knowledge, elect...</td>\n",
       "      <td></td>\n",
       "    </tr>\n",
       "    <tr>\n",
       "      <th>13542</th>\n",
       "      <td>HALAlan hashtagElection2022PH</td>\n",
       "      <td>[halalan, hashtagelection2022ph]</td>\n",
       "      <td>halalan</td>\n",
       "      <td></td>\n",
       "    </tr>\n",
       "    <tr>\n",
       "      <th>13543</th>\n",
       "      <td>Cheating malalim na sugat kahit mahilom mahira...</td>\n",
       "      <td>[cheating, malalim, na, sugat, kahit, mahilom,...</td>\n",
       "      <td>cheating, malalim, sugat, mahilom, mahirap, ka...</td>\n",
       "      <td></td>\n",
       "    </tr>\n",
       "  </tbody>\n",
       "</table>\n",
       "<p>13544 rows × 4 columns</p>\n",
       "</div>"
      ],
      "text/plain": [
       "                                                   Tweet  \\\n",
       "0      A year ago Any progress from the winning candi...   \n",
       "1      Bongbong Marcos Sara Duterte express deepest g...   \n",
       "2      I decide I only vote for BBM red_heart SARA DU...   \n",
       "3      Mr Bbm and Ms Sara Duterte are obviously will ...   \n",
       "4      THE CROWD IS INSANE BBM YOULL FOREVER BE INSAN...   \n",
       "...                                                  ...   \n",
       "13539  Dictator Ferdinand Marcos from the Philippines...   \n",
       "13540  This election rewrites history People voted fo...   \n",
       "13541  Hey its a free country No one has monopoly of ...   \n",
       "13542                      HALAlan hashtagElection2022PH   \n",
       "13543  Cheating malalim na sugat kahit mahilom mahira...   \n",
       "\n",
       "                                        Tokenized_Tweets  \\\n",
       "0      [a, year, ago, any, progress, from, the, winni...   \n",
       "1      [bongbong, marcos, sara, duterte, express, dee...   \n",
       "2      [i, decide, i, only, vote, for, bbm, red_heart...   \n",
       "3      [mr, bbm, and, ms, sara, duterte, are, obvious...   \n",
       "4      [the, crowd, is, insane, bbm, youll, forever, ...   \n",
       "...                                                  ...   \n",
       "13539  [dictator, ferdinand, marcos, from, the, phili...   \n",
       "13540  [this, election, rewrites, history, people, vo...   \n",
       "13541  [hey, its, a, free, country, no, one, has, mon...   \n",
       "13542                   [halalan, hashtagelection2022ph]   \n",
       "13543  [cheating, malalim, na, sugat, kahit, mahilom,...   \n",
       "\n",
       "                                         Corrected_Words  \\\n",
       "0      year, ago, progress, winning, candidate, winki...   \n",
       "1      bongbong, marcos, sara, duterte, express, deep...   \n",
       "2      decide, vote, bbm, red_heart, sara, duterte, g...   \n",
       "3      bbm, sara, duterte, win, candidate, desperate,...   \n",
       "4      crowd, insane, bbm, youll, forever, insane, k,...   \n",
       "...                                                  ...   \n",
       "13539  dictator, ferdinand, marcos, philippine, featu...   \n",
       "13540  election, rewrite, history, people, voted, per...   \n",
       "13541  hey, free, country, monopoly, knowledge, elect...   \n",
       "13542                                            halalan   \n",
       "13543  cheating, malalim, sugat, mahilom, mahirap, ka...   \n",
       "\n",
       "                        Emoji  \n",
       "0                winking_face  \n",
       "1                              \n",
       "2      red_heart, green_heart  \n",
       "3                              \n",
       "4                              \n",
       "...                       ...  \n",
       "13539                          \n",
       "13540                          \n",
       "13541                          \n",
       "13542                          \n",
       "13543                          \n",
       "\n",
       "[13544 rows x 4 columns]"
      ]
     },
     "execution_count": 119,
     "metadata": {},
     "output_type": "execute_result"
    }
   ],
   "source": [
    "#Remove whitespaces from Corrected Words Column in preparation for Topic Modeling\n",
    "dataset['Corrected_Words'] = dataset['Corrected_Words'].str.strip()\n",
    "dataset"
   ]
  },
  {
   "cell_type": "code",
   "execution_count": 120,
   "metadata": {},
   "outputs": [],
   "source": [
    "# The use of wordcloud to check if all steps were done correctly\n",
    "from wordcloud import WordCloud\n",
    "\n",
    "long_string = ','.join(list(dataset['Corrected_Words'].values))\n",
    "wordcloud = WordCloud(background_color=\"white\", max_words=50, contour_width=3, contour_color='steelblue',width=1000, height=500)\n",
    "wordcloud.generate(long_string)\n",
    "wordcloud.to_image()"
   ]
  },
  {
   "cell_type": "markdown",
   "metadata": {},
   "source": [
    "## Topic Modeling"
   ]
  },
  {
   "cell_type": "code",
   "execution_count": null,
   "metadata": {},
   "outputs": [],
   "source": [
    "import gensim\n",
    "from gensim import corpora\n",
    "import numpy as np\n",
    "\n",
    "documents = dataset['Corrected_Words'].values\n",
    "tokenized_documents = [doc.split(\",\") for doc in documents] \n",
    "\n",
    "#Create Dictionary\n",
    "id2word = corpora.Dictionary(tokenized_documents)\n",
    "\n",
    "#Create Corpus\n",
    "texts = tokenized_documents\n",
    "\n",
    "#Term Document Frequency\n",
    "corpus = [id2word.doc2bow(doc) for doc in tokenized_documents] "
   ]
  },
  {
   "cell_type": "code",
   "execution_count": null,
   "metadata": {},
   "outputs": [
    {
     "name": "stdout",
     "output_type": "stream",
     "text": [
      "Topic 0: 0.040*\" election\" + 0.030*\" vote\" + 0.017*\" commission_on_elections\" + 0.012*\" national\" + 0.010*\" board\" + 0.009*\"commission_on_elections\" + 0.008*\" hashtagphilippines\" + 0.008*\" sur\" + 0.007*\" del\" + 0.007*\" official\"\n",
      "Topic 1: 0.012*\" bbm\" + 0.011*\" pilipinas\" + 0.009*\" hashtagbbmsarauniteam\" + 0.009*\" pangulo\" + 0.007*\" hashtagbbm\" + 0.006*\" hashtagbbmsara\" + 0.006*\" susunod\" + 0.006*\" matapos\" + 0.005*\" bansa\" + 0.005*\" good\"\n",
      "Topic 2: 0.037*\" president\" + 0.037*\" marcos\" + 0.025*\" bongbong\" + 0.019*\" vice\" + 0.019*\" philippine\" + 0.018*\" duterte\" + 0.016*\" sara\" + 0.014*\" junior\" + 0.012*\" presidential\" + 0.011*\" presumptive\"\n",
      "Topic 3: 0.011*\" boto\" + 0.009*\" hashtagelectionaftermath\" + 0.008*\" news\" + 0.008*\" people\" + 0.007*\" time\" + 0.006*\" hashtaghalalanph\" + 0.005*\" facebook\" + 0.005*\" tapos\" + 0.005*\" m\" + 0.005*\" political\"\n"
     ]
    }
   ],
   "source": [
    "# Build the LDA model\n",
    "num_topics = 4 \n",
    "lda_model = gensim.models.ldamodel.LdaModel(corpus=corpus, id2word=id2word, num_topics=num_topics, passes=15,\n",
    "                                            random_state=42,chunksize=50,per_word_topics=True)\n",
    "for topic_id, topic_words in lda_model.print_topics():\n",
    "    print(f\"Topic {topic_id}: {topic_words}\")"
   ]
  },
  {
   "cell_type": "code",
   "execution_count": null,
   "metadata": {},
   "outputs": [
    {
     "name": "stdout",
     "output_type": "stream",
     "text": [
      "Topics for Pre-Election Tweets: ([(0, 0.34179828), (1, 0.03318441), (2, 0.5918152), (3, 0.033202134)], [(0, [0, 2]), (1, [2, 0]), (2, [2, 0]), (3, [2]), (4, [2]), (5, [2]), (6, [0])], [(0, [(0, 0.974883), (2, 0.0128098065)]), (1, [(0, 0.08850691), (2, 0.9114651)]), (2, [(0, 0.2849513), (2, 0.35381183)]), (3, [(2, 0.99912137)]), (4, [(2, 0.9813553)]), (5, [(2, 0.9998796)]), (6, [(0, 0.9972859)])])\n"
     ]
    }
   ],
   "source": [
    "document_topics = []\n",
    "for doc_bow in corpus:\n",
    "    topics = lda_model[doc_bow]\n",
    "    document_topics.append(topics)\n",
    "\n",
    "print(f\"Topics for Pre-Election Tweets: {document_topics[0]}\")"
   ]
  },
  {
   "cell_type": "markdown",
   "metadata": {},
   "source": [
    "### Coherence Score"
   ]
  },
  {
   "cell_type": "code",
   "execution_count": null,
   "metadata": {},
   "outputs": [],
   "source": [
    "from gensim.utils import simple_preprocess\n",
    "from gensim.models import CoherenceModel\n",
    "from gensim.test.utils import common_corpus, common_dictionary\n",
    "from gensim.models.ldamodel import LdaModel\n",
    "from gensim.models.coherencemodel import CoherenceModel"
   ]
  },
  {
   "cell_type": "code",
   "execution_count": null,
   "metadata": {},
   "outputs": [
    {
     "name": "stdout",
     "output_type": "stream",
     "text": [
      "\n",
      "Coherence Score:  0.41389784100105775\n"
     ]
    }
   ],
   "source": [
    "coherence_model_lda = CoherenceModel(model=lda_model, texts=tokenized_documents, dictionary=id2word, coherence='c_v')\n",
    "coherence_lda = coherence_model_lda.get_coherence()\n",
    "print('\\nCoherence Score: ', coherence_lda)"
   ]
  },
  {
   "cell_type": "markdown",
   "metadata": {},
   "source": [
    "### Finding the Optimal Number of Topics"
   ]
  },
  {
   "cell_type": "code",
   "execution_count": null,
   "metadata": {},
   "outputs": [],
   "source": [
    "def compute_coherence_values(dictionary, corpus, texts, limit, start=2, step=1):\n",
    "    coherence_values = []\n",
    "    model_list = []\n",
    "    for num_topics in range(start, limit, step):\n",
    "        model = gensim.models.ldamodel.LdaModel(corpus=corpus, id2word=id2word, num_topics=num_topics, passes=15,\n",
    "                                            random_state=42,chunksize=50,per_word_topics=True)\n",
    "        model_list.append(model)\n",
    "        coherencemodel = CoherenceModel(model=lda_model, texts=tokenized_documents, dictionary=id2word, coherence='c_v')\n",
    "        coherence_values.append(coherencemodel.get_coherence())\n",
    "    return model_list, coherence_values"
   ]
  },
  {
   "cell_type": "code",
   "execution_count": null,
   "metadata": {},
   "outputs": [],
   "source": [
    "model_list, coherence_values = compute_coherence_values(dictionary=id2word, corpus=corpus, texts=texts, start=2, limit=8, step=1)"
   ]
  },
  {
   "cell_type": "code",
   "execution_count": null,
   "metadata": {},
   "outputs": [
    {
     "data": {
      "image/png": "[encoded data removed]",
      "text/plain": [
       "<Figure size 640x480 with 1 Axes>"
      ]
     },
     "metadata": {},
     "output_type": "display_data"
    }
   ],
   "source": [
    "limit=8\n",
    "start=2\n",
    "step=1\n",
    "x = range(start, limit, step)\n",
    "plt.plot(x, coherence_values)\n",
    "plt.xlabel(\"Num Topics\")\n",
    "plt.ylabel(\"Coherence score\")\n",
    "plt.legend((\"coherence_values\"),loc='best')\n",
    "plt.show()"
   ]
  },
  {
   "cell_type": "code",
   "execution_count": null,
   "metadata": {},
   "outputs": [
    {
     "name": "stdout",
     "output_type": "stream",
     "text": [
      "Number of Topics = 2 has Coherence Value of 0.4139\n",
      "Number of Topics = 3 has Coherence Value of 0.4139\n",
      "Number of Topics = 4 has Coherence Value of 0.4139\n",
      "Number of Topics = 5 has Coherence Value of 0.4139\n",
      "Number of Topics = 6 has Coherence Value of 0.4139\n",
      "Number of Topics = 7 has Coherence Value of 0.4139\n"
     ]
    }
   ],
   "source": [
    "for m, cv in zip(x, coherence_values):\n",
    "    print(\"Number of Topics =\", m, \"has Coherence Value of\", round(cv,4))"
   ]
  },
  {
   "cell_type": "markdown",
   "metadata": {},
   "source": [
    "### Topic Modeling Visualization"
   ]
  },
  {
   "cell_type": "code",
   "execution_count": null,
   "metadata": {},
   "outputs": [
    {
     "data": {
      "text/plain": [
       "[(0,\n",
       "  [(' election', 0.039778583),\n",
       "   (' vote', 0.03003605),\n",
       "   (' commission_on_elections', 0.016786741),\n",
       "   (' national', 0.012428555),\n",
       "   (' board', 0.009546001),\n",
       "   ('commission_on_elections', 0.008863129),\n",
       "   (' hashtagphilippines', 0.008161223),\n",
       "   (' sur', 0.007653682),\n",
       "   (' del', 0.007330801),\n",
       "   (' official', 0.0068598883)]),\n",
       " (1,\n",
       "  [(' bbm', 0.011941829),\n",
       "   (' pilipinas', 0.011095581),\n",
       "   (' hashtagbbmsarauniteam', 0.008539099),\n",
       "   (' pangulo', 0.008522721),\n",
       "   (' hashtagbbm', 0.0071252547),\n",
       "   (' hashtagbbmsara', 0.0057928613),\n",
       "   (' susunod', 0.0057424507),\n",
       "   (' matapos', 0.005620019),\n",
       "   (' bansa', 0.005217292),\n",
       "   (' good', 0.0051888186)]),\n",
       " (2,\n",
       "  [(' president', 0.03718216),\n",
       "   (' marcos', 0.03658379),\n",
       "   (' bongbong', 0.025355829),\n",
       "   (' vice', 0.018866299),\n",
       "   (' philippine', 0.018552318),\n",
       "   (' duterte', 0.01779378),\n",
       "   (' sara', 0.015653834),\n",
       "   (' junior', 0.014077705),\n",
       "   (' presidential', 0.012128965),\n",
       "   (' presumptive', 0.011356496)]),\n",
       " (3,\n",
       "  [(' boto', 0.0113454275),\n",
       "   (' hashtagelectionaftermath', 0.009086611),\n",
       "   (' news', 0.008481494),\n",
       "   (' people', 0.0076811616),\n",
       "   (' time', 0.0069605634),\n",
       "   (' hashtaghalalanph', 0.0057639778),\n",
       "   (' facebook', 0.0050708577),\n",
       "   (' tapos', 0.0049593993),\n",
       "   (' m', 0.00482408),\n",
       "   (' political', 0.0047901184)])]"
      ]
     },
     "execution_count": 60,
     "metadata": {},
     "output_type": "execute_result"
    }
   ],
   "source": [
    "cols = [color for name, color in mcolors.TABLEAU_COLORS.items()]\n",
    "cloud = WordCloud(background_color='white', width=2500, height=2800, max_words=20,\n",
    "                         colormap='tab10', color_func=lambda * args, **kwargs: cols[i],\n",
    "                         prefer_horizontal=1.0)\n",
    "\n",
    "topics = lda_model.show_topics(formatted=False)\n",
    "topics"
   ]
  },
  {
   "cell_type": "code",
   "execution_count": null,
   "metadata": {},
   "outputs": [
    {
     "data": {
      "image/png": "[encoded data removed]",
      "text/plain": [
       "<Figure size 2000x1000 with 4 Axes>"
      ]
     },
     "metadata": {},
     "output_type": "display_data"
    }
   ],
   "source": [
    "fig, axes = plt.subplots(2,2, figsize=(20,10), sharex=True, sharey=True)\n",
    "\n",
    "for i, ax in enumerate(axes.flatten()):\n",
    "    fig.add_subplot(ax)\n",
    "    topic_words = dict(topics[i][1])\n",
    "    cloud.generate_from_frequencies(topic_words,max_font_size=300)\n",
    "    plt.gca().imshow(cloud)\n",
    "    plt.gca().set_title('Topic '+ str(i), fontdict=dict(size=16))\n",
    "    plt.gca().axis('off')\n",
    "\n",
    "plt.subplots_adjust(wspace=0, hspace=0.1)\n",
    "plt.axis('off')\n",
    "plt.margins(x=0,y=0)\n",
    "plt.tight_layout\n",
    "plt.show()\n"
   ]
  },
  {
   "cell_type": "markdown",
   "metadata": {},
   "source": [
    "# Sentiment Analysis"
   ]
  },
  {
   "cell_type": "code",
   "execution_count": null,
   "metadata": {},
   "outputs": [],
   "source": [
    "from emosent import get_emoji_sentiment_rank"
   ]
  },
  {
   "cell_type": "code",
   "execution_count": null,
   "metadata": {},
   "outputs": [
    {
     "name": "stdout",
     "output_type": "stream",
     "text": [
      "{'unicode_codepoint': '0x1f605', 'occurrences': 462, 'position': 0.827654572, 'negative': 135.0, 'neutral': 109.0, 'positive': 218.0, 'unicode_name': 'SMILING FACE WITH OPEN MOUTH AND COLD SWEAT', 'unicode_block': 'Emoticons', 'sentiment_score': 0.18}\n"
     ]
    }
   ],
   "source": [
    "#Sample output for an Emoji\n",
    "\n",
    "print(get_emoji_sentiment_rank(\"😅\")) "
   ]
  },
  {
   "cell_type": "code",
   "execution_count": null,
   "metadata": {},
   "outputs": [
    {
     "ename": "IndexError",
     "evalue": "string index out of range",
     "output_type": "error",
     "traceback": [
      "\u001b[1;31m---------------------------------------------------------------------------\u001b[0m",
      "\u001b[1;31mIndexError\u001b[0m                                Traceback (most recent call last)",
      "\u001b[1;32mc:\\Users\\casti\\Desktop\\Thesis_2\\Overall.ipynb Cell 78\u001b[0m line \u001b[0;36m5\n\u001b[0;32m      <a href='vscode-notebook-cell:/c%3A/Users/casti/Desktop/Thesis_2/Overall.ipynb#Y136sZmlsZQ%3D%3D?line=1'>2</a>\u001b[0m     text \u001b[39m=\u001b[39m emoji\u001b[39m.\u001b[39memojize(text, delimiters\u001b[39m=\u001b[39m(\u001b[39m\"\u001b[39m\u001b[39m,\u001b[39m\u001b[39m\"\u001b[39m))\n\u001b[0;32m      <a href='vscode-notebook-cell:/c%3A/Users/casti/Desktop/Thesis_2/Overall.ipynb#Y136sZmlsZQ%3D%3D?line=2'>3</a>\u001b[0m     \u001b[39mreturn\u001b[39;00m text\n\u001b[1;32m----> <a href='vscode-notebook-cell:/c%3A/Users/casti/Desktop/Thesis_2/Overall.ipynb#Y136sZmlsZQ%3D%3D?line=4'>5</a>\u001b[0m emojis \u001b[39m=\u001b[39m emojis\u001b[39m.\u001b[39;49mapply(transform_unicode)\n\u001b[0;32m      <a href='vscode-notebook-cell:/c%3A/Users/casti/Desktop/Thesis_2/Overall.ipynb#Y136sZmlsZQ%3D%3D?line=5'>6</a>\u001b[0m emojis\n",
      "File \u001b[1;32m~\\AppData\\Local\\Packages\\PythonSoftwareFoundation.Python.3.10_qbz5n2kfra8p0\\LocalCache\\local-packages\\Python310\\site-packages\\pandas\\core\\series.py:4765\u001b[0m, in \u001b[0;36mSeries.apply\u001b[1;34m(self, func, convert_dtype, args, by_row, **kwargs)\u001b[0m\n\u001b[0;32m   4625\u001b[0m \u001b[39mdef\u001b[39;00m \u001b[39mapply\u001b[39m(\n\u001b[0;32m   4626\u001b[0m     \u001b[39mself\u001b[39m,\n\u001b[0;32m   4627\u001b[0m     func: AggFuncType,\n\u001b[1;32m   (...)\u001b[0m\n\u001b[0;32m   4632\u001b[0m     \u001b[39m*\u001b[39m\u001b[39m*\u001b[39mkwargs,\n\u001b[0;32m   4633\u001b[0m ) \u001b[39m-\u001b[39m\u001b[39m>\u001b[39m DataFrame \u001b[39m|\u001b[39m Series:\n\u001b[0;32m   4634\u001b[0m \u001b[39m    \u001b[39m\u001b[39m\"\"\"\u001b[39;00m\n\u001b[0;32m   4635\u001b[0m \u001b[39m    Invoke function on values of Series.\u001b[39;00m\n\u001b[0;32m   4636\u001b[0m \n\u001b[1;32m   (...)\u001b[0m\n\u001b[0;32m   4756\u001b[0m \u001b[39m    dtype: float64\u001b[39;00m\n\u001b[0;32m   4757\u001b[0m \u001b[39m    \"\"\"\u001b[39;00m\n\u001b[0;32m   4758\u001b[0m     \u001b[39mreturn\u001b[39;00m SeriesApply(\n\u001b[0;32m   4759\u001b[0m         \u001b[39mself\u001b[39;49m,\n\u001b[0;32m   4760\u001b[0m         func,\n\u001b[0;32m   4761\u001b[0m         convert_dtype\u001b[39m=\u001b[39;49mconvert_dtype,\n\u001b[0;32m   4762\u001b[0m         by_row\u001b[39m=\u001b[39;49mby_row,\n\u001b[0;32m   4763\u001b[0m         args\u001b[39m=\u001b[39;49margs,\n\u001b[0;32m   4764\u001b[0m         kwargs\u001b[39m=\u001b[39;49mkwargs,\n\u001b[1;32m-> 4765\u001b[0m     )\u001b[39m.\u001b[39;49mapply()\n",
      "File \u001b[1;32m~\\AppData\\Local\\Packages\\PythonSoftwareFoundation.Python.3.10_qbz5n2kfra8p0\\LocalCache\\local-packages\\Python310\\site-packages\\pandas\\core\\apply.py:1201\u001b[0m, in \u001b[0;36mSeriesApply.apply\u001b[1;34m(self)\u001b[0m\n\u001b[0;32m   1198\u001b[0m     \u001b[39mreturn\u001b[39;00m \u001b[39mself\u001b[39m\u001b[39m.\u001b[39mapply_compat()\n\u001b[0;32m   1200\u001b[0m \u001b[39m# self.func is Callable\u001b[39;00m\n\u001b[1;32m-> 1201\u001b[0m \u001b[39mreturn\u001b[39;00m \u001b[39mself\u001b[39;49m\u001b[39m.\u001b[39;49mapply_standard()\n",
      "File \u001b[1;32m~\\AppData\\Local\\Packages\\PythonSoftwareFoundation.Python.3.10_qbz5n2kfra8p0\\LocalCache\\local-packages\\Python310\\site-packages\\pandas\\core\\apply.py:1281\u001b[0m, in \u001b[0;36mSeriesApply.apply_standard\u001b[1;34m(self)\u001b[0m\n\u001b[0;32m   1275\u001b[0m \u001b[39m# row-wise access\u001b[39;00m\n\u001b[0;32m   1276\u001b[0m \u001b[39m# apply doesn't have a `na_action` keyword and for backward compat reasons\u001b[39;00m\n\u001b[0;32m   1277\u001b[0m \u001b[39m# we need to give `na_action=\"ignore\"` for categorical data.\u001b[39;00m\n\u001b[0;32m   1278\u001b[0m \u001b[39m# TODO: remove the `na_action=\"ignore\"` when that default has been changed in\u001b[39;00m\n\u001b[0;32m   1279\u001b[0m \u001b[39m#  Categorical (GH51645).\u001b[39;00m\n\u001b[0;32m   1280\u001b[0m action \u001b[39m=\u001b[39m \u001b[39m\"\u001b[39m\u001b[39mignore\u001b[39m\u001b[39m\"\u001b[39m \u001b[39mif\u001b[39;00m \u001b[39misinstance\u001b[39m(obj\u001b[39m.\u001b[39mdtype, CategoricalDtype) \u001b[39melse\u001b[39;00m \u001b[39mNone\u001b[39;00m\n\u001b[1;32m-> 1281\u001b[0m mapped \u001b[39m=\u001b[39m obj\u001b[39m.\u001b[39;49m_map_values(\n\u001b[0;32m   1282\u001b[0m     mapper\u001b[39m=\u001b[39;49mcurried, na_action\u001b[39m=\u001b[39;49maction, convert\u001b[39m=\u001b[39;49m\u001b[39mself\u001b[39;49m\u001b[39m.\u001b[39;49mconvert_dtype\n\u001b[0;32m   1283\u001b[0m )\n\u001b[0;32m   1285\u001b[0m \u001b[39mif\u001b[39;00m \u001b[39mlen\u001b[39m(mapped) \u001b[39mand\u001b[39;00m \u001b[39misinstance\u001b[39m(mapped[\u001b[39m0\u001b[39m], ABCSeries):\n\u001b[0;32m   1286\u001b[0m     warnings\u001b[39m.\u001b[39mwarn(\n\u001b[0;32m   1287\u001b[0m         \u001b[39m\"\u001b[39m\u001b[39mReturning a DataFrame from Series.apply when the supplied function \u001b[39m\u001b[39m\"\u001b[39m\n\u001b[0;32m   1288\u001b[0m         \u001b[39m\"\u001b[39m\u001b[39mreturns a Series is deprecated and will be removed in a future \u001b[39m\u001b[39m\"\u001b[39m\n\u001b[1;32m   (...)\u001b[0m\n\u001b[0;32m   1291\u001b[0m         stacklevel\u001b[39m=\u001b[39mfind_stack_level(),\n\u001b[0;32m   1292\u001b[0m     )  \u001b[39m# GH52116\u001b[39;00m\n",
      "File \u001b[1;32m~\\AppData\\Local\\Packages\\PythonSoftwareFoundation.Python.3.10_qbz5n2kfra8p0\\LocalCache\\local-packages\\Python310\\site-packages\\pandas\\core\\base.py:921\u001b[0m, in \u001b[0;36mIndexOpsMixin._map_values\u001b[1;34m(self, mapper, na_action, convert)\u001b[0m\n\u001b[0;32m    918\u001b[0m \u001b[39mif\u001b[39;00m \u001b[39misinstance\u001b[39m(arr, ExtensionArray):\n\u001b[0;32m    919\u001b[0m     \u001b[39mreturn\u001b[39;00m arr\u001b[39m.\u001b[39mmap(mapper, na_action\u001b[39m=\u001b[39mna_action)\n\u001b[1;32m--> 921\u001b[0m \u001b[39mreturn\u001b[39;00m algorithms\u001b[39m.\u001b[39;49mmap_array(arr, mapper, na_action\u001b[39m=\u001b[39;49mna_action, convert\u001b[39m=\u001b[39;49mconvert)\n",
      "File \u001b[1;32m~\\AppData\\Local\\Packages\\PythonSoftwareFoundation.Python.3.10_qbz5n2kfra8p0\\LocalCache\\local-packages\\Python310\\site-packages\\pandas\\core\\algorithms.py:1812\u001b[0m, in \u001b[0;36mmap_array\u001b[1;34m(arr, mapper, na_action, convert)\u001b[0m\n\u001b[0;32m   1810\u001b[0m values \u001b[39m=\u001b[39m arr\u001b[39m.\u001b[39mastype(\u001b[39mobject\u001b[39m, copy\u001b[39m=\u001b[39m\u001b[39mFalse\u001b[39;00m)\n\u001b[0;32m   1811\u001b[0m \u001b[39mif\u001b[39;00m na_action \u001b[39mis\u001b[39;00m \u001b[39mNone\u001b[39;00m:\n\u001b[1;32m-> 1812\u001b[0m     \u001b[39mreturn\u001b[39;00m lib\u001b[39m.\u001b[39;49mmap_infer(values, mapper, convert\u001b[39m=\u001b[39;49mconvert)\n\u001b[0;32m   1813\u001b[0m \u001b[39melse\u001b[39;00m:\n\u001b[0;32m   1814\u001b[0m     \u001b[39mreturn\u001b[39;00m lib\u001b[39m.\u001b[39mmap_infer_mask(\n\u001b[0;32m   1815\u001b[0m         values, mapper, mask\u001b[39m=\u001b[39misna(values)\u001b[39m.\u001b[39mview(np\u001b[39m.\u001b[39muint8), convert\u001b[39m=\u001b[39mconvert\n\u001b[0;32m   1816\u001b[0m     )\n",
      "File \u001b[1;32mlib.pyx:2917\u001b[0m, in \u001b[0;36mpandas._libs.lib.map_infer\u001b[1;34m()\u001b[0m\n",
      "\u001b[1;32mc:\\Users\\casti\\Desktop\\Thesis_2\\Overall.ipynb Cell 78\u001b[0m line \u001b[0;36m2\n\u001b[0;32m      <a href='vscode-notebook-cell:/c%3A/Users/casti/Desktop/Thesis_2/Overall.ipynb#Y136sZmlsZQ%3D%3D?line=0'>1</a>\u001b[0m \u001b[39mdef\u001b[39;00m \u001b[39mtransform_unicode\u001b[39m(text):\n\u001b[1;32m----> <a href='vscode-notebook-cell:/c%3A/Users/casti/Desktop/Thesis_2/Overall.ipynb#Y136sZmlsZQ%3D%3D?line=1'>2</a>\u001b[0m     text \u001b[39m=\u001b[39m emoji\u001b[39m.\u001b[39;49memojize(text, delimiters\u001b[39m=\u001b[39;49m(\u001b[39m\"\u001b[39;49m\u001b[39m,\u001b[39;49m\u001b[39m\"\u001b[39;49m))\n\u001b[0;32m      <a href='vscode-notebook-cell:/c%3A/Users/casti/Desktop/Thesis_2/Overall.ipynb#Y136sZmlsZQ%3D%3D?line=2'>3</a>\u001b[0m     \u001b[39mreturn\u001b[39;00m text\n",
      "File \u001b[1;32m~\\AppData\\Local\\Packages\\PythonSoftwareFoundation.Python.3.10_qbz5n2kfra8p0\\LocalCache\\local-packages\\Python310\\site-packages\\emoji\\core.py:121\u001b[0m, in \u001b[0;36memojize\u001b[1;34m(string, delimiters, variant, language, version, handle_version)\u001b[0m\n\u001b[0;32m    117\u001b[0m \u001b[39melse\u001b[39;00m:\n\u001b[0;32m    118\u001b[0m     language_pack \u001b[39m=\u001b[39m unicode_codes\u001b[39m.\u001b[39mget_emoji_unicode_dict(language)\n\u001b[0;32m    120\u001b[0m pattern \u001b[39m=\u001b[39m re\u001b[39m.\u001b[39mcompile(\u001b[39m'\u001b[39m\u001b[39m(\u001b[39m\u001b[39m%s\u001b[39;00m\u001b[39m[\u001b[39m\u001b[39m%s\u001b[39;00m\u001b[39m]+\u001b[39m\u001b[39m%s\u001b[39;00m\u001b[39m)\u001b[39m\u001b[39m'\u001b[39m \u001b[39m%\u001b[39m\n\u001b[1;32m--> 121\u001b[0m                      (re\u001b[39m.\u001b[39mescape(delimiters[\u001b[39m0\u001b[39m]), _EMOJI_NAME_PATTERN, re\u001b[39m.\u001b[39mescape(delimiters[\u001b[39m1\u001b[39;49m])))\n\u001b[0;32m    123\u001b[0m \u001b[39mdef\u001b[39;00m \u001b[39mreplace\u001b[39m(match):\n\u001b[0;32m    124\u001b[0m     name \u001b[39m=\u001b[39m match\u001b[39m.\u001b[39mgroup(\u001b[39m1\u001b[39m)[\u001b[39mlen\u001b[39m(delimiters[\u001b[39m0\u001b[39m]):\u001b[39m-\u001b[39m\u001b[39mlen\u001b[39m(delimiters[\u001b[39m1\u001b[39m])]\n",
      "\u001b[1;31mIndexError\u001b[0m: string index out of range"
     ]
    }
   ],
   "source": [
    "def transform_unicode(text):\n",
    "    text = emoji.emojize(text, delimiters=(\",\"))\n",
    "    return text\n",
    "\n",
    "emojis = emojis.apply(transform_unicode)\n",
    "emojis"
   ]
  }
 ],
 "metadata": {
  "kernelspec": {
   "display_name": "Python 3",
   "language": "python",
   "name": "python3"
  },
  "language_info": {
   "codemirror_mode": {
    "name": "ipython",
    "version": 3
   },
   "file_extension": ".py",
   "mimetype": "text/x-python",
   "name": "python",
   "nbconvert_exporter": "python",
   "pygments_lexer": "ipython3",
   "version": "3.10.11"
  },
  "orig_nbformat": 4
 },
 "nbformat": 4,
 "nbformat_minor": 2
}
